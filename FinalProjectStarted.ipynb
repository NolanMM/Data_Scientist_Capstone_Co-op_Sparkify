{
 "cells": [
  {
   "cell_type": "markdown",
   "metadata": {
    "application/vnd.databricks.v1+cell": {
     "cellMetadata": {
      "byteLimit": 2048000,
      "rowLimit": 10000
     },
     "inputWidgets": {},
     "nuid": "5e6b8067-7f35-4981-b668-b0d2c4d11950",
     "showTitle": false,
     "title": ""
    }
   },
   "source": [
    "# Sparkify Project Workspace\n",
    "This workspace contains a tiny subset (128MB) of the full dataset available (12GB). Feel free to use this workspace to build your project, or to explore a smaller subset with Spark before deploying your cluster on the cloud. Instructions for setting up your Spark cluster is included in the last lesson of the Extracurricular Spark Course content.\n",
    "\n",
    "You can follow the steps below to guide your data analysis and model building portion of this project."
   ]
  },
  {
   "cell_type": "code",
   "execution_count": null,
   "metadata": {
    "application/vnd.databricks.v1+cell": {
     "cellMetadata": {
      "byteLimit": 2048000,
      "rowLimit": 10000
     },
     "inputWidgets": {},
     "nuid": "8c04fe8c-11fd-4a81-832f-f8901e5a9340",
     "showTitle": false,
     "title": ""
    }
   },
   "outputs": [
    {
     "data": {
      "application/vnd.databricks.v1+bamboolib_hint": "{\"pd.DataFrames\": [], \"version\": \"0.0.1\"}",
      "text/plain": []
     },
     "metadata": {},
     "output_type": "display_data"
    }
   ],
   "source": [
    "# import libraries\n",
    "import numpy as np\n",
    "import pandas as pd\n",
    "\n",
    "from pyspark.sql import SparkSession, Window\n",
    "from pyspark.sql.functions import *\n",
    "from pyspark.sql.types import IntegerType\n",
    "\n",
    "from pyspark.ml.stat import Correlation\n",
    "from pyspark.ml.feature import MinMaxScaler, VectorAssembler\n",
    "\n",
    "from pyspark.ml import Pipeline\n",
    "from pyspark.ml.classification import LogisticRegression, RandomForestClassifier, GBTClassifier \n",
    "from pyspark.ml.tuning import CrossValidator, ParamGridBuilder\n",
    "from pyspark.ml.evaluation import BinaryClassificationEvaluator\n",
    "from pyspark.mllib.evaluation import MulticlassMetrics\n",
    "from scipy.sparse import csr_matrix\n",
    "from scipy.sparse.csgraph import connected_components\n",
    "from time import time"
   ]
  },
  {
   "cell_type": "code",
   "execution_count": null,
   "metadata": {
    "application/vnd.databricks.v1+cell": {
     "cellMetadata": {
      "byteLimit": 2048000,
      "rowLimit": 10000
     },
     "inputWidgets": {},
     "nuid": "e8482c1a-a442-4860-bd17-6368ce185192",
     "showTitle": false,
     "title": ""
    }
   },
   "outputs": [
    {
     "name": "stdout",
     "output_type": "stream",
     "text": [
      "root\n",
      " |-- artist: string (nullable = true)\n",
      " |-- auth: string (nullable = true)\n",
      " |-- firstName: string (nullable = true)\n",
      " |-- gender: string (nullable = true)\n",
      " |-- itemInSession: long (nullable = true)\n",
      " |-- lastName: string (nullable = true)\n",
      " |-- length: double (nullable = true)\n",
      " |-- level: string (nullable = true)\n",
      " |-- location: string (nullable = true)\n",
      " |-- method: string (nullable = true)\n",
      " |-- page: string (nullable = true)\n",
      " |-- registration: long (nullable = true)\n",
      " |-- sessionId: long (nullable = true)\n",
      " |-- song: string (nullable = true)\n",
      " |-- status: long (nullable = true)\n",
      " |-- ts: long (nullable = true)\n",
      " |-- userAgent: string (nullable = true)\n",
      " |-- userId: string (nullable = true)\n",
      "\n"
     ]
    }
   ],
   "source": [
    "# load the dataset \n",
    "df = spark.read.json('/mini_sparkify_event_data.json')\n",
    "# check the schema of the dataset\n",
    "df.printSchema()"
   ]
  },
  {
   "cell_type": "markdown",
   "metadata": {
    "application/vnd.databricks.v1+cell": {
     "cellMetadata": {
      "byteLimit": 2048000,
      "rowLimit": 10000
     },
     "inputWidgets": {},
     "nuid": "d89b13eb-2417-4a80-ac26-ce8a33a99997",
     "showTitle": false,
     "title": ""
    }
   },
   "source": [
    "# Load and Clean Dataset\n",
    "In this workspace, the mini-dataset file is `mini_sparkify_event_data.json`. Load and clean the dataset, checking for invalid or missing data - for example, records without userids or sessionids."
   ]
  },
  {
   "cell_type": "code",
   "execution_count": null,
   "metadata": {
    "application/vnd.databricks.v1+cell": {
     "cellMetadata": {
      "byteLimit": 2048000,
      "rowLimit": 10000
     },
     "inputWidgets": {},
     "nuid": "95ae0e74-10ba-4801-a45f-d9a966b444bc",
     "showTitle": false,
     "title": ""
    }
   },
   "outputs": [
    {
     "name": "stdout",
     "output_type": "stream",
     "text": [
      "The dataset has 286500 rows.\n"
     ]
    }
   ],
   "source": [
    "print('The dataset has {} rows.'.format(df.count()))"
   ]
  },
  {
   "cell_type": "code",
   "execution_count": null,
   "metadata": {
    "application/vnd.databricks.v1+cell": {
     "cellMetadata": {
      "byteLimit": 2048000,
      "rowLimit": 10000
     },
     "inputWidgets": {},
     "nuid": "ad785bd1-41aa-4452-9e27-c89bae89a229",
     "showTitle": false,
     "title": ""
    }
   },
   "outputs": [
    {
     "name": "stdout",
     "output_type": "stream",
     "text": [
      "+-------------------+\n",
      "|         Start time|\n",
      "+-------------------+\n",
      "|2018-10-01 00:01:57|\n",
      "+-------------------+\n",
      "\n"
     ]
    }
   ],
   "source": [
    "df.select(min(to_timestamp(col('ts')/1000)).alias('Start time')).show()"
   ]
  },
  {
   "cell_type": "code",
   "execution_count": null,
   "metadata": {
    "application/vnd.databricks.v1+cell": {
     "cellMetadata": {
      "byteLimit": 2048000,
      "rowLimit": 10000
     },
     "inputWidgets": {},
     "nuid": "0cf88931-8f18-41b0-9e1f-03e07da7af5b",
     "showTitle": false,
     "title": ""
    }
   },
   "outputs": [
    {
     "name": "stdout",
     "output_type": "stream",
     "text": [
      "+-------------------+\n",
      "|           End time|\n",
      "+-------------------+\n",
      "|2018-12-03 01:11:16|\n",
      "+-------------------+\n",
      "\n"
     ]
    }
   ],
   "source": [
    "df.select(max(to_timestamp(col('ts')/1000)).alias('End time')).show()"
   ]
  },
  {
   "cell_type": "markdown",
   "metadata": {
    "application/vnd.databricks.v1+cell": {
     "cellMetadata": {
      "byteLimit": 2048000,
      "rowLimit": 10000
     },
     "inputWidgets": {},
     "nuid": "3eed8083-aa43-45c2-bd73-879cc14b3894",
     "showTitle": false,
     "title": ""
    }
   },
   "source": [
    "# Exploratory Data Analysis\n",
    "When you're working with the full dataset, perform EDA by loading a small subset of the data and doing basic manipulations within Spark. In this workspace, you are already provided a small subset of data you can explore.\n",
    "\n",
    "### Define Churn\n",
    "\n",
    "Once you've done some preliminary analysis, create a column `Churn` to use as the label for your model. I suggest using the `Cancellation Confirmation` events to define your churn, which happen for both paid and free users. As a bonus task, you can also look into the `Downgrade` events.\n",
    "\n",
    "### Explore Data\n",
    "Once you've defined churn, perform some exploratory data analysis to observe the behavior for users who stayed vs users who churned. You can start by exploring aggregates on these two groups of users, observing how much of a specific action they experienced per a certain time unit or number of songs played."
   ]
  },
  {
   "cell_type": "code",
   "execution_count": null,
   "metadata": {
    "application/vnd.databricks.v1+cell": {
     "cellMetadata": {
      "byteLimit": 2048000,
      "rowLimit": 10000
     },
     "inputWidgets": {},
     "nuid": "aa36b882-4acf-46c9-8e49-8029b7f70bcd",
     "showTitle": false,
     "title": ""
    }
   },
   "outputs": [
    {
     "data": {
      "text/html": [
       "<style scoped>\n",
       "  .table-result-container {\n",
       "    max-height: 300px;\n",
       "    overflow: auto;\n",
       "  }\n",
       "  table, th, td {\n",
       "    border: 1px solid black;\n",
       "    border-collapse: collapse;\n",
       "  }\n",
       "  th, td {\n",
       "    padding: 5px;\n",
       "  }\n",
       "  th {\n",
       "    text-align: left;\n",
       "  }\n",
       "</style><div class='table-result-container'><table class='table-result'><thead style='background-color: white'><tr><th>artist</th><th>auth</th><th>firstName</th><th>gender</th><th>itemInSession</th><th>lastName</th><th>length</th><th>level</th><th>location</th><th>method</th><th>page</th><th>registration</th><th>sessionId</th><th>song</th><th>status</th><th>ts</th><th>userAgent</th><th>userId</th></tr></thead><tbody><tr><td>0</td><td>0</td><td>0</td><td>0</td><td>0</td><td>0</td><td>0</td><td>0</td><td>0</td><td>0</td><td>0</td><td>0</td><td>0</td><td>0</td><td>0</td><td>0</td><td>0</td><td>0</td></tr></tbody></table></div>"
      ]
     },
     "metadata": {
      "application/vnd.databricks.v1+output": {
       "addedWidgets": {},
       "aggData": [],
       "aggError": "",
       "aggOverflow": false,
       "aggSchema": [],
       "aggSeriesLimitReached": false,
       "aggType": "",
       "arguments": {},
       "columnCustomDisplayInfos": {},
       "data": [
        [
         0,
         0,
         0,
         0,
         0,
         0,
         0,
         0,
         0,
         0,
         0,
         0,
         0,
         0,
         0,
         0,
         0,
         0
        ]
       ],
       "datasetInfos": [],
       "dbfsResultPath": null,
       "isJsonSchema": true,
       "metadata": {},
       "overflow": false,
       "plotOptions": {
        "customPlotOptions": {},
        "displayType": "table",
        "pivotAggregation": null,
        "pivotColumns": null,
        "xColumns": null,
        "yColumns": null
       },
       "removedWidgets": [],
       "schema": [
        {
         "metadata": "{}",
         "name": "artist",
         "type": "\"long\""
        },
        {
         "metadata": "{}",
         "name": "auth",
         "type": "\"long\""
        },
        {
         "metadata": "{}",
         "name": "firstName",
         "type": "\"long\""
        },
        {
         "metadata": "{}",
         "name": "gender",
         "type": "\"long\""
        },
        {
         "metadata": "{}",
         "name": "itemInSession",
         "type": "\"long\""
        },
        {
         "metadata": "{}",
         "name": "lastName",
         "type": "\"long\""
        },
        {
         "metadata": "{}",
         "name": "length",
         "type": "\"long\""
        },
        {
         "metadata": "{}",
         "name": "level",
         "type": "\"long\""
        },
        {
         "metadata": "{}",
         "name": "location",
         "type": "\"long\""
        },
        {
         "metadata": "{}",
         "name": "method",
         "type": "\"long\""
        },
        {
         "metadata": "{}",
         "name": "page",
         "type": "\"long\""
        },
        {
         "metadata": "{}",
         "name": "registration",
         "type": "\"long\""
        },
        {
         "metadata": "{}",
         "name": "sessionId",
         "type": "\"long\""
        },
        {
         "metadata": "{}",
         "name": "song",
         "type": "\"long\""
        },
        {
         "metadata": "{}",
         "name": "status",
         "type": "\"long\""
        },
        {
         "metadata": "{}",
         "name": "ts",
         "type": "\"long\""
        },
        {
         "metadata": "{}",
         "name": "userAgent",
         "type": "\"long\""
        },
        {
         "metadata": "{}",
         "name": "userId",
         "type": "\"long\""
        }
       ],
       "type": "table"
      }
     },
     "output_type": "display_data"
    }
   ],
   "source": [
    "display(df.select([count(when(isnan(c),c)).alias(c) for c in df.columns]))"
   ]
  },
  {
   "cell_type": "code",
   "execution_count": null,
   "metadata": {
    "application/vnd.databricks.v1+cell": {
     "cellMetadata": {
      "byteLimit": 2048000,
      "rowLimit": 10000
     },
     "inputWidgets": {},
     "nuid": "0b04b54a-982a-4afb-8d68-70215bfc2e66",
     "showTitle": false,
     "title": ""
    }
   },
   "outputs": [
    {
     "data": {
      "text/html": [
       "<style scoped>\n",
       "  .table-result-container {\n",
       "    max-height: 300px;\n",
       "    overflow: auto;\n",
       "  }\n",
       "  table, th, td {\n",
       "    border: 1px solid black;\n",
       "    border-collapse: collapse;\n",
       "  }\n",
       "  th, td {\n",
       "    padding: 5px;\n",
       "  }\n",
       "  th {\n",
       "    text-align: left;\n",
       "  }\n",
       "</style><div class='table-result-container'><table class='table-result'><thead style='background-color: white'><tr><th>page</th></tr></thead><tbody><tr><td>Cancel</td></tr><tr><td>Submit Downgrade</td></tr><tr><td>Thumbs Down</td></tr><tr><td>Home</td></tr><tr><td>Downgrade</td></tr><tr><td>Roll Advert</td></tr><tr><td>Logout</td></tr><tr><td>Save Settings</td></tr><tr><td>Cancellation Confirmation</td></tr><tr><td>About</td></tr><tr><td>Settings</td></tr><tr><td>Login</td></tr><tr><td>Add to Playlist</td></tr><tr><td>Add Friend</td></tr><tr><td>NextSong</td></tr><tr><td>Thumbs Up</td></tr><tr><td>Help</td></tr><tr><td>Upgrade</td></tr><tr><td>Error</td></tr><tr><td>Submit Upgrade</td></tr><tr><td>Submit Registration</td></tr><tr><td>Register</td></tr></tbody></table></div>"
      ]
     },
     "metadata": {
      "application/vnd.databricks.v1+output": {
       "addedWidgets": {},
       "aggData": [],
       "aggError": "",
       "aggOverflow": false,
       "aggSchema": [],
       "aggSeriesLimitReached": false,
       "aggType": "",
       "arguments": {},
       "columnCustomDisplayInfos": {},
       "data": [
        [
         "Cancel"
        ],
        [
         "Submit Downgrade"
        ],
        [
         "Thumbs Down"
        ],
        [
         "Home"
        ],
        [
         "Downgrade"
        ],
        [
         "Roll Advert"
        ],
        [
         "Logout"
        ],
        [
         "Save Settings"
        ],
        [
         "Cancellation Confirmation"
        ],
        [
         "About"
        ],
        [
         "Settings"
        ],
        [
         "Login"
        ],
        [
         "Add to Playlist"
        ],
        [
         "Add Friend"
        ],
        [
         "NextSong"
        ],
        [
         "Thumbs Up"
        ],
        [
         "Help"
        ],
        [
         "Upgrade"
        ],
        [
         "Error"
        ],
        [
         "Submit Upgrade"
        ],
        [
         "Submit Registration"
        ],
        [
         "Register"
        ]
       ],
       "datasetInfos": [],
       "dbfsResultPath": null,
       "isJsonSchema": true,
       "metadata": {},
       "overflow": false,
       "plotOptions": {
        "customPlotOptions": {},
        "displayType": "table",
        "pivotAggregation": null,
        "pivotColumns": null,
        "xColumns": null,
        "yColumns": null
       },
       "removedWidgets": [],
       "schema": [
        {
         "metadata": "{}",
         "name": "page",
         "type": "\"string\""
        }
       ],
       "type": "table"
      }
     },
     "output_type": "display_data"
    }
   ],
   "source": [
    "display(df.select(\"page\").distinct())"
   ]
  },
  {
   "cell_type": "markdown",
   "metadata": {
    "application/vnd.databricks.v1+cell": {
     "cellMetadata": {
      "byteLimit": 2048000,
      "rowLimit": 10000
     },
     "inputWidgets": {},
     "nuid": "d5d7ba1d-8a77-4704-a0fb-755e5b40e001",
     "showTitle": false,
     "title": ""
    }
   },
   "source": [
    "### Define the Churn Column by the flag == \"Cancellation Confirmation\""
   ]
  },
  {
   "cell_type": "code",
   "execution_count": null,
   "metadata": {
    "application/vnd.databricks.v1+cell": {
     "cellMetadata": {
      "byteLimit": 2048000,
      "rowLimit": 10000
     },
     "inputWidgets": {},
     "nuid": "b9a018f9-2d58-4869-bd00-f78016d7f63b",
     "showTitle": false,
     "title": ""
    }
   },
   "outputs": [],
   "source": [
    "# Define the function to check if page be cancellation or not\n",
    "cancellation_check_function = udf(lambda x: 1 if x == \"Cancellation Confirmation\" else 0, IntegerType())\n",
    "\n",
    "# Applied and generated new columns named churn\n",
    "df = df.withColumn(\"churn\", cancellation_check_function(\"page\"))"
   ]
  },
  {
   "cell_type": "code",
   "execution_count": null,
   "metadata": {
    "application/vnd.databricks.v1+cell": {
     "cellMetadata": {
      "byteLimit": 2048000,
      "rowLimit": 10000
     },
     "inputWidgets": {},
     "nuid": "9e2c75d2-cc84-4223-a9cc-18e864d9b71f",
     "showTitle": false,
     "title": ""
    }
   },
   "outputs": [],
   "source": [
    "from pyspark.sql import Window\n",
    "from pyspark.sql.functions import col, sum as Fsum\n",
    "\n",
    "# Define the window bounds to use Fsum to count for the churn\n",
    "windowval = Window.partitionBy(\"userId\").rangeBetween(Window.unboundedPreceding, Window.unboundedFollowing)\n",
    "\n",
    "# Apply the window function to the DataFrame df\n",
    "df = df.withColumn(\"churn\", Fsum(col(\"churn\")).over(windowval))\n",
    "\n",
    "# Calculate the sum of the \"churn\" column\n",
    "# Display the result\n",
    "#num_churn = df.select('userId','churn').distinct().agg(Fsum(\"churn\"))\n",
    "#print('The total number of churners is:', num_churn.show())"
   ]
  },
  {
   "cell_type": "code",
   "execution_count": null,
   "metadata": {
    "application/vnd.databricks.v1+cell": {
     "cellMetadata": {
      "byteLimit": 2048000,
      "rowLimit": 10000
     },
     "inputWidgets": {},
     "nuid": "15b3aa19-6706-40e2-a58c-29efd635a7a7",
     "showTitle": false,
     "title": ""
    }
   },
   "outputs": [
    {
     "name": "stdout",
     "output_type": "stream",
     "text": [
      "\n",
      "[Missing values]\n",
      "\n",
      "artist: 58392\n",
      "firstName: 8346\n",
      "gender: 8346\n",
      "lastName: 8346\n",
      "length: 58392\n",
      "location: 8346\n",
      "registration: 8346\n",
      "song: 58392\n",
      "userAgent: 8346\n",
      "userId: 8346\n"
     ]
    }
   ],
   "source": [
    "def missing_values(df, col):\n",
    "    return df.filter((isnan(df[col])) | (df[col].isNull()) | (df[col] == \"\")).count()\n",
    "\n",
    "print(\"\\n[Missing values]\\n\")\n",
    "for col in df.columns:\n",
    "    missing_count = missing_values(df, col)\n",
    "    if missing_count > 0:\n",
    "        print(\"{}: {}\".format(col, missing_count))"
   ]
  },
  {
   "cell_type": "code",
   "execution_count": null,
   "metadata": {
    "application/vnd.databricks.v1+cell": {
     "cellMetadata": {
      "byteLimit": 2048000,
      "rowLimit": 10000
     },
     "inputWidgets": {},
     "nuid": "81835aa0-c930-4810-ac81-b2d9ce40e423",
     "showTitle": false,
     "title": ""
    }
   },
   "outputs": [
    {
     "name": "stdout",
     "output_type": "stream",
     "text": [
      "Out[11]: 278154"
     ]
    }
   ],
   "source": [
    "df = df.filter(df[\"userId\"] != \"\")\n",
    "df.count()"
   ]
  },
  {
   "cell_type": "markdown",
   "metadata": {
    "application/vnd.databricks.v1+cell": {
     "cellMetadata": {
      "byteLimit": 2048000,
      "rowLimit": 10000
     },
     "inputWidgets": {},
     "nuid": "ff854258-0c2b-4425-8aa1-7a85b1f9e41a",
     "showTitle": false,
     "title": ""
    }
   },
   "source": [
    "## Exploratory Data Analysis (EDA)\n",
    "\n",
    "#### 1. Numerical EDA"
   ]
  },
  {
   "cell_type": "markdown",
   "metadata": {
    "application/vnd.databricks.v1+cell": {
     "cellMetadata": {
      "byteLimit": 2048000,
      "rowLimit": 10000
     },
     "inputWidgets": {},
     "nuid": "f889ed28-d1c6-4ca0-8373-49bb6282a710",
     "showTitle": false,
     "title": ""
    }
   },
   "source": [
    "#### 1.1 Rate within female and males category:"
   ]
  },
  {
   "cell_type": "code",
   "execution_count": null,
   "metadata": {
    "application/vnd.databricks.v1+cell": {
     "cellMetadata": {
      "byteLimit": 2048000,
      "rowLimit": 10000
     },
     "inputWidgets": {},
     "nuid": "dacf79e1-7fe4-4eab-b8a6-b5742803c085",
     "showTitle": false,
     "title": ""
    }
   },
   "outputs": [
    {
     "name": "stdout",
     "output_type": "stream",
     "text": [
      "The avg churn rate of females is: 19.230769230769234\n",
      "The avg churn rate of males is: 26.446280991735538\n"
     ]
    }
   ],
   "source": [
    "stat_df = spark.createDataFrame(df.dropDuplicates(['userId']).collect())\n",
    "stat_df1 = stat_df[['gender', 'churn']]\n",
    "print('The avg churn rate of females is:', stat_df1.groupby(['gender']).mean().collect()[0][1]*100)\n",
    "print('The avg churn rate of males is:', stat_df1.groupby(['gender']).mean().collect()[1][1]*100)"
   ]
  },
  {
   "cell_type": "markdown",
   "metadata": {
    "application/vnd.databricks.v1+cell": {
     "cellMetadata": {
      "byteLimit": 2048000,
      "rowLimit": 10000
     },
     "inputWidgets": {},
     "nuid": "972481be-c6d1-4833-b322-5ee90328d37b",
     "showTitle": false,
     "title": ""
    }
   },
   "source": [
    "#### 1.2 Viewing top 5 cancellations by artist"
   ]
  },
  {
   "cell_type": "code",
   "execution_count": null,
   "metadata": {
    "application/vnd.databricks.v1+cell": {
     "cellMetadata": {
      "byteLimit": 2048000,
      "rowLimit": 10000
     },
     "inputWidgets": {},
     "nuid": "88bc80ff-67ad-4f5a-8e51-d13006355dcd",
     "showTitle": false,
     "title": ""
    }
   },
   "outputs": [
    {
     "data": {
      "text/html": [
       "<style scoped>\n",
       "  .table-result-container {\n",
       "    max-height: 300px;\n",
       "    overflow: auto;\n",
       "  }\n",
       "  table, th, td {\n",
       "    border: 1px solid black;\n",
       "    border-collapse: collapse;\n",
       "  }\n",
       "  th, td {\n",
       "    padding: 5px;\n",
       "  }\n",
       "  th {\n",
       "    text-align: left;\n",
       "  }\n",
       "</style><div class='table-result-container'><table class='table-result'><thead style='background-color: white'><tr><th>artist</th><th>sum(churn)</th></tr></thead><tbody><tr><td>null</td><td>27</td></tr><tr><td>Orenda Fink</td><td>1</td></tr><tr><td>P!nk</td><td>1</td></tr><tr><td>Gorillaz</td><td>1</td></tr><tr><td>Blake Shelton</td><td>1</td></tr></tbody></table></div>"
      ]
     },
     "metadata": {
      "application/vnd.databricks.v1+output": {
       "addedWidgets": {},
       "aggData": [],
       "aggError": "",
       "aggOverflow": false,
       "aggSchema": [],
       "aggSeriesLimitReached": false,
       "aggType": "",
       "arguments": {},
       "columnCustomDisplayInfos": {},
       "data": [
        [
         null,
         27
        ],
        [
         "Orenda Fink",
         1
        ],
        [
         "P!nk",
         1
        ],
        [
         "Gorillaz",
         1
        ],
        [
         "Blake Shelton",
         1
        ]
       ],
       "datasetInfos": [],
       "dbfsResultPath": null,
       "isJsonSchema": true,
       "metadata": {},
       "overflow": false,
       "plotOptions": {
        "customPlotOptions": {},
        "displayType": "table",
        "pivotAggregation": null,
        "pivotColumns": null,
        "xColumns": null,
        "yColumns": null
       },
       "removedWidgets": [],
       "schema": [
        {
         "metadata": "{}",
         "name": "artist",
         "type": "\"string\""
        },
        {
         "metadata": "{}",
         "name": "sum(churn)",
         "type": "\"long\""
        }
       ],
       "type": "table"
      }
     },
     "output_type": "display_data"
    }
   ],
   "source": [
    "stat_df1 = stat_df[['artist', 'churn']]\n",
    "display(stat_df1.groupBy(['artist']).sum().orderBy('sum(churn)', ascending = False).collect()[:5])"
   ]
  },
  {
   "cell_type": "markdown",
   "metadata": {
    "application/vnd.databricks.v1+cell": {
     "cellMetadata": {
      "byteLimit": 2048000,
      "rowLimit": 10000
     },
     "inputWidgets": {},
     "nuid": "b56f1169-a30f-4655-91f7-e3811dba9c69",
     "showTitle": false,
     "title": ""
    }
   },
   "source": [
    "#### 1.3 Rate for “paid” and “free” category:"
   ]
  },
  {
   "cell_type": "code",
   "execution_count": null,
   "metadata": {
    "application/vnd.databricks.v1+cell": {
     "cellMetadata": {
      "byteLimit": 2048000,
      "rowLimit": 10000
     },
     "inputWidgets": {},
     "nuid": "95be2ad1-6042-4bfe-ac9f-2bb09e5139b2",
     "showTitle": false,
     "title": ""
    }
   },
   "outputs": [
    {
     "name": "stdout",
     "output_type": "stream",
     "text": [
      "Proportion of users that chruned from free subscirption 24.858757062146893\n",
      "Proportion of users that chruned from paid subscirption 16.666666666666664\n"
     ]
    }
   ],
   "source": [
    "stat_df1 = stat_df[['level', 'churn']]\n",
    "print('Proportion of users that chruned from free subscirption', stat_df1.groupBy(['level']).mean().collect()[0][1]*100)\n",
    "print('Proportion of users that chruned from paid subscirption',stat_df1.groupBy(['level']).mean().collect()[1][1]*100)"
   ]
  },
  {
   "cell_type": "markdown",
   "metadata": {
    "application/vnd.databricks.v1+cell": {
     "cellMetadata": {
      "byteLimit": 2048000,
      "rowLimit": 10000
     },
     "inputWidgets": {},
     "nuid": "d19ea187-9523-41b9-9ecd-485b2ca94f9f",
     "showTitle": false,
     "title": ""
    }
   },
   "source": [
    "#### 1.4 Top 10 states category"
   ]
  },
  {
   "cell_type": "code",
   "execution_count": null,
   "metadata": {
    "application/vnd.databricks.v1+cell": {
     "cellMetadata": {
      "byteLimit": 2048000,
      "rowLimit": 10000
     },
     "inputWidgets": {},
     "nuid": "3ad95c37-361c-459c-ab3a-5bd800090078",
     "showTitle": false,
     "title": ""
    }
   },
   "outputs": [
    {
     "name": "stdout",
     "output_type": "stream",
     "text": [
      "Viewing top 10 states with churn:\n",
      "\n",
      "+---------+-----------+\n",
      "|    state|total_churn|\n",
      "+---------+-----------+\n",
      "|       CA|          6|\n",
      "| NY-NJ-PA|          5|\n",
      "|       MI|          3|\n",
      "|       FL|          3|\n",
      "|       TX|          3|\n",
      "|       WA|          2|\n",
      "|       OH|          2|\n",
      "|       CO|          2|\n",
      "|       KY|          2|\n",
      "|       AZ|          2|\n",
      "+---------+-----------+\n",
      "only showing top 10 rows\n",
      "\n"
     ]
    }
   ],
   "source": [
    "from pyspark.sql.functions import split, sum\n",
    "from pyspark.sql import functions as F\n",
    "\n",
    "stat_df1 = stat_df.select('location', 'churn')\n",
    "stat_df1 = stat_df1.withColumn('state', split(stat_df1['location'], ',').getItem(1))\n",
    "stat_df1 = stat_df1.drop('location')\n",
    "\n",
    "print('Viewing top 10 states with churn:\\n')\n",
    "stat_df1.groupBy('state').agg(F.sum('churn').alias('total_churn')).filter('total_churn > 0').orderBy(F.desc('total_churn')).show(10)"
   ]
  },
  {
   "cell_type": "markdown",
   "metadata": {
    "application/vnd.databricks.v1+cell": {
     "cellMetadata": {
      "byteLimit": 2048000,
      "rowLimit": 10000
     },
     "inputWidgets": {},
     "nuid": "2f4ea59c-af1b-4495-9537-f6de7fee3e81",
     "showTitle": false,
     "title": ""
    }
   },
   "source": [
    "#### 2. Time Analysis"
   ]
  },
  {
   "cell_type": "code",
   "execution_count": null,
   "metadata": {
    "application/vnd.databricks.v1+cell": {
     "cellMetadata": {
      "byteLimit": 2048000,
      "rowLimit": 10000
     },
     "inputWidgets": {},
     "nuid": "5b4a4f37-0b69-46ba-aca8-86a508d6a2bf",
     "showTitle": false,
     "title": ""
    }
   },
   "outputs": [],
   "source": [
    "def get_series(col, value, normalize):\n",
    "    # Function to retrieve series based on col, value, and normalization option\n",
    "    if normalize:\n",
    "        total_count = dfp[col].sum()  # Assuming dfp is the Pandas DataFrame containing the data\n",
    "\n",
    "        if total_count > 0:\n",
    "            series = dfp[dfp[col] == value][col].value_counts(normalize=True) * 100\n",
    "        else:\n",
    "            series = pd.Series()\n",
    "    else:\n",
    "        series = dfp[dfp[col] == value][col].value_counts()\n",
    "\n",
    "    return series"
   ]
  },
  {
   "cell_type": "code",
   "execution_count": null,
   "metadata": {
    "application/vnd.databricks.v1+cell": {
     "cellMetadata": {
      "byteLimit": 2048000,
      "rowLimit": 10000
     },
     "inputWidgets": {},
     "nuid": "7082b347-2eca-4ddf-a7a7-cad298441dae",
     "showTitle": false,
     "title": ""
    }
   },
   "outputs": [],
   "source": [
    "# Define UDFs and DataFrame transformations (as mentioned in your code)\n",
    "from pyspark.sql.functions import udf\n",
    "from pyspark.sql.types import IntegerType\n",
    "import datetime\n",
    "\n",
    "get_hour = udf(lambda x: datetime.datetime.fromtimestamp(x / 1000.0).hour, IntegerType())\n",
    "get_day = udf(lambda x: datetime.datetime.fromtimestamp(x / 1000.0).day, IntegerType())\n",
    "get_month = udf(lambda x: datetime.datetime.fromtimestamp(x / 1000.0).month, IntegerType())\n",
    "get_weekday = udf(lambda x: datetime.datetime.fromtimestamp(x / 1000.0).strftime('%w'), IntegerType())\n",
    "\n",
    "# Usage of UDFs in DataFrame transformations\n",
    "data = df.withColumn('hour', get_hour(df.ts))\n",
    "data = data.withColumn('day', get_day(df.ts))\n",
    "data = data.withColumn('month', get_month(df.ts))\n",
    "data = data.withColumn('week_day', get_weekday(df.ts))\n",
    "dfp = data.toPandas()"
   ]
  },
  {
   "cell_type": "code",
   "execution_count": null,
   "metadata": {
    "application/vnd.databricks.v1+cell": {
     "cellMetadata": {
      "byteLimit": 2048000,
      "rowLimit": 10000
     },
     "inputWidgets": {},
     "nuid": "50102d8d-886a-4b9a-b333-3d8e399cbaf9",
     "showTitle": false,
     "title": ""
    }
   },
   "outputs": [],
   "source": [
    "def get_series(col, churn, normalize=False):\n",
    "    ser1 = dfp[dfp.churn == churn].groupby([col])['userId'].count()\n",
    " \n",
    "    try:\n",
    "        ser1.index = ser1.index.astype(int)\n",
    "    except:\n",
    "        pass\n",
    "    if normalize:\n",
    "        ser1=ser1/ser1.sum()*100\n",
    "    return ser1.sort_index()"
   ]
  },
  {
   "cell_type": "markdown",
   "metadata": {
    "application/vnd.databricks.v1+cell": {
     "cellMetadata": {
      "byteLimit": 2048000,
      "rowLimit": 10000
     },
     "inputWidgets": {},
     "nuid": "e9552509-2244-4a3b-b24d-f9cf051a39d5",
     "showTitle": false,
     "title": ""
    }
   },
   "source": [
    "##### (churn = 1) and non-churners(churn = 0) is needed.\n",
    "##### Normalize Boolean\n",
    "##### any title or rotation in plot if user wishes at all, just for visual analytics convenience."
   ]
  },
  {
   "cell_type": "code",
   "execution_count": null,
   "metadata": {
    "application/vnd.databricks.v1+cell": {
     "cellMetadata": {
      "byteLimit": 2048000,
      "rowLimit": 10000
     },
     "inputWidgets": {},
     "nuid": "9e3b79c4-6801-4c7c-9231-45fba54056b3",
     "showTitle": false,
     "title": ""
    }
   },
   "outputs": [],
   "source": [
    "def draw_time(col, normalize=True, figsize=(16,4), title=None, label_rotation=0):\n",
    "    # Normalize to fit with 2 group of users\n",
    "    df_time = pd.DataFrame({'Cancelled': get_series(col, 1, normalize),\n",
    "                        'Active users':get_series(col, 0, normalize)})\n",
    " \n",
    "    ax = df_time.plot(kind='bar', figsize=figsize);\n",
    "    ax.set_ylabel('Percent of users')\n",
    " \n",
    "    if title is None:\n",
    "        title = col\n",
    " \n",
    "    ax.set_ylabel(f'Percent of users')\n",
    "    ax.set_xticklabels(ax.get_xticklabels(), rotation=label_rotation)\n",
    "    ax.set_title(f'Percent of users took action per {title}') \n",
    " \n",
    "    return ax"
   ]
  },
  {
   "cell_type": "markdown",
   "metadata": {
    "application/vnd.databricks.v1+cell": {
     "cellMetadata": {},
     "inputWidgets": {},
     "nuid": "387ede95-31c8-4abd-9b7f-d79cd2c91996",
     "showTitle": false,
     "title": ""
    }
   },
   "source": [
    "#### Graph shows Churn and Non-churn by hour of the day:"
   ]
  },
  {
   "cell_type": "code",
   "execution_count": null,
   "metadata": {
    "application/vnd.databricks.v1+cell": {
     "cellMetadata": {
      "byteLimit": 2048000,
      "rowLimit": 10000
     },
     "inputWidgets": {},
     "nuid": "93e1b02f-5f38-4d3e-8d78-15c0647d32f4",
     "showTitle": false,
     "title": ""
    }
   },
   "outputs": [
    {
     "data": {
      "image/png": "[encoded data removed]"
     },
     "metadata": {
      "application/vnd.databricks.v1+output": {
       "addedWidgets": {},
       "arguments": {},
       "data": "data:image/png;base64,iVBORw0KGgoAAAANSUhEUgAAA6YAAAEWCAYAAAB114q3AAAAOXRFWHRTb2Z0d2FyZQBNYXRwbG90bGliIHZlcnNpb24zLjUuMSwgaHR0cHM6Ly9tYXRwbG90bGliLm9yZy/YYfK9AAAACXBIWXMAAAsTAAALEwEAmpwYAAAtoUlEQVR4nO3de7xVdZ3/8ddHOIoXkkQ0EQ26aF5RIM1MJy+JKVlWZtfJbmqjpZNZWv7Umpqx0fpZ1s9L6VSaeMEwSyexESOnSQVCxUjxcgwwBTUJvAJ+fn+sdZjD8ZzDAs4+a3PO6/l47MfZe62113qvtTeL/dnf7/ruyEwkSZIkSarLBnUHkCRJkiT1bxamkiRJkqRaWZhKkiRJkmplYSpJkiRJqpWFqSRJkiSpVhamkiRJkqRaWZhKkroVERtHxC8jYnFEXFt3nt4WET+OiG/UsN2lEfG63t7uuoqIjIg31J2jMxHxjYh4MiIer7j82RFxRYOyHBMRtzdi3ZK0PrIwlaR1FBGtEfF8WUg8URYym9Wdq00PfLh+P7A1MDQzj+qhWA1VviYH152jqoi4LSI+3X5aZm6WmQ/XlamviYjtgVOAnTPzNZ3Mf3tEzO/9ZJIksDCVpJ7yrszcDBgDjAPOWJMnR6FZz8mvBR7IzOV1BYiIgXVtW52r+zVZi+1vDzyVmQsbkUeStG6a9UOQJK2XMnMB8J/ArgAR8ZaI+H1EPBMRd0fE29uWLVvJvhkR/w08B7wuInaJiFsi4umy9fUr5bIbRMRpEfFQRDwVEddExBblvJFl98mPR8Rfyq6KXy3nHQp8BTi6bNG9u7PcEbFTmeeZiLgvIo4op38NOLPd8z/VyXNX6eraseUpIr4cEQsiYklE3B8RB63BPn0qIv4C3BoRgyLiinLZZyLirojYupM8l1MUIb8sM3+pnH5EuW/PlPu60+r2v5N1D46IqRHxvYiITuZ/IiLmlPv6cEQc12H+uyNiVkT8vdzvQyPim8B+wPfLvN8vl13ZJTYiNo+In0bEooh4NCLOaPsio61LaEScFxF/i4hHIuKdneUvl2+NiNMj4k/l8v8REYPazZ9QZnymfO/u3uG5X46Ie4BnuykOD46IueU6ftB2rMrX/IxyHxaW+7R5Oe8VLZbRruU7ipb/SeV74O/AMZ3sW6fHqVzHLcDw8hj/uMPzNqX4d9s2f2lEDC9nb1iuc0n53hjX7nnDI+K6cnuPRMTnuznuQyPihvK1vxN4fYf5342IeeX8GRGxXzn9NRHxXEQMbbfsmHKbLV1tT5LWO5npzZs3b97W4Qa0AgeX97cD7gP+BdgWeAo4jOKLwHeUj4eVy94G/AXYBRgIDAb+StHdcFD5eO9y2ZOAPwAjgI2Ai4GJ5byRQAI/BDYGRgMvAjuV888GrugmfwvwIEUBuyFwILAE2LHi838MfKPd47cD88v7OwLzgOHtsr5+Dfbpp8Cm5X4dB/wS2AQYAIwFXrW616R8vAPwbPkatABfKvd5wwr7/2PgG8BQ4M72+9rJdg+nKDgC+AeKLxzGlPP2AhaXGTYo3x9vavde+HSHdSXwhvL+T4FflO+JkcADwKfKeccAy4DPlMfls8BjQHRzbGZTvFe3AP67bZ+APYGFwN7luj5eLr9Ru+fOKp+7cRfrT+BXwBCKLwgWAYeW8z5ZHuvXAZsBPwcu7/i+6eLf1tnlfr6nPH6v2P5qjtMr1t/huZ1t/2zgBYp/wwOAfwP+UM7bAJhB8cXNhuU+PQyM72L9VwHXULyfdwUWALe3m/9RivfYQIpzwOPAoHLeTcBn2y37f4EL6j73efPmzVtP3mwxlaSecX1EPAPcDvwW+FeKD5o3ZeZNmflyZt4CTKf4kNvmx5l5XxbdZCcAj2fmtzPzhcxckpl3lMsdD3w1M+dn5osUH5jf36HF6muZ+Xxm3g3cTVGgVvEWiiLhnMx8KTNvpSgsPrTmh+EVVlAUnTtHREtmtmbmQ2uwT2dn5rOZ+TxFUTKUolhbkZkzMvPvFXMcDdyYmbdk5jLgPIpi961U2//hFK/rtZnZZTftzLwxMx/Kwm+BKRStoQCfAi4rM7ycmQsy88+rCx4RA4APAqeX74lW4NvAx9ot9mhm/jAzVwA/AbahuC64K9/PzHmZ+TTwzXb7eixwcWbeUR7jn1B8yfGWds/9Xvnc57tZ/zmZ+Uxm/gWYCuxRTv8I8J3MfDgzlwKnAx/spuW1o//JzOvL47fK9isep7Vxe/lveAVwOf/77+rNFF8yfb183zxM8eXQBzuuoMz2PuDM8v08m+J1Wikzr8jMpzJzeWZ+m+LfzY7l7J9QnE/a1vWhMosk9RlesyNJPeM9mfmb9hMi4rXAURHxrnaTWyg+qLeZ1+7+dsBDdO61wOSIeLndtBWsWny0H2n0OYpiq4rhwLzMbL/uRyla9NZJZj4YESdTFJ27RMTNwBcy8zGq7VP743M5xTG6KiKGAFdQFLbLKkQZTrFPbblejoh5FPu4nNXv/+HAUuCi7jZSdqE9i6KFdgOK1t17y9nbUbR8raktKd43j7ab1jHfytc+M58re8529/q3P66PUhwfKF6Tj0fE59rN37Dd/I7P7UpX78VVXofy/kC6L6Lb627bVY7T2ui4L4PKQvq1FF1/n2k3fwDwu07WMYxiPzse95Ui4osUX14Mp2h1fhXFPkHRCnxRRIyiKFYXZ+ada7tDktSMbDGVpMaZR9FNcUi726aZeU67ZbLD8l39PMg84J0d1jUoi2taVydXM/8xYLtYdfCl7Sm6GlbxLEUB1maVEU8z88rMfBvFB/kEvlXOqrJP2W49yzLza5m5M0VL5wTgH7vI1HGf2wphoBhsiqJQXEC1/f8h8GvgpvJ6xFeIiI2A6yhaY7fOzCEUhWjbtajz6HBdYTd523uSorX4te2mrcnr05ntOqzrsfL+POCbHV6TTTJzYsWsq7PK61BueznwBB3eR2XL4LAOz2/kcVrT/ZoHPNLhWA3OzMM6WXYRxX52PO4AlNeTfgn4APDq8r2zmPK9k5kvUHQD/ihFC7CtpZL6HAtTSWqcK4B3RcT4iBgQxeA9b4+IEV0s/ytgm4g4OSI2imKgnb3LeRcB3yxbYYmIYRHx7oo5ngBGRtej/t5B0RL0pYhoiWKApndRXBNXxSzgsIjYIiJeA5zcNiMidoyIA8ui7QXgeaCtZXKN9ikiDoiI3cqC5e8URcjLXSz+BKsW+dcAh0fEQeWAMadQdFH9/Rrs/4nA/RSDKm3cyTY3pOh+uQhYXraeHtJu/qXAJ8oMG0TEthHxpi7yrlR2Ib2G4lgNLo/XFyjeX2vrhIgYEcVgU18Fri6n/xA4PiL2jsKmEXF4RAxeh221NxH454gYFcVPKv0rcHXZlf0BitbIw8vX6AyK41lJDxynJ4ChUQ7GVMGdwJIoBoPauPw3vmtEvLmLbD8Hzo6ITSJiZ4rrd9sMpihcFwEDI+JMihbT9n5KcT3xEViYSuqDLEwlqUEycx7wbopBdRZRtLCcShfn3sxcQjEwzrsoug/OBQ4oZ38XuAGYEhFLKAYN2ruz9XTi2vLvUxExs5PtvlRu850UrU7/D/jHKtc/li6nuKa1leKayqvbzdsIOKdc7+PAVhTXFa7NPr0GmERRlM6huOazqw/o/wacEcWosF/MzPspWpsuKLO8i+Infl6quv+ZmRTXYM4HfhHtRrIt5y8BPk9RHP0N+HC5f23z7wQ+QTFwzeIyf1vr3ncprq/9W0R8r5P9+RxFi+LDFNcxXwlc1vWhWq0rKV6rhym6j3+jzDidYhCl75f78CCdjH67Di6jeM2mAY9QfFnxuXLbi4F/An5E0cr5LMWxXhNrfZzK13si8HD5vhm+muVXULTa71Huy5Nl9q4K2xMpujQ/TjGg1n+0m3czRYv8AxRdfF+gQ7flzPxvii9iZmbmKt2AJakviOL/WUmS1B9ERCvFCMC/Wd2yai4RcStwZWb+qO4sktTTHPxIkiSpyZVdhMdQ9MKQpD7HrrySJElNLCJ+AvwGOLnsMi5JfY5deSVJkiRJtbLFVJIkSZJUq6a6xnTLLbfMkSNH1h1DkiRJktTDZsyY8WRmdvyNaqDJCtORI0cyffr0umNIkiRJknpYRHT5c1d25ZUkSZIk1crCVJIkSZJUKwtTSZIkSVKtmuoaU0mSJElaV8uWLWP+/Pm88MILdUfplwYNGsSIESNoaWmp/BwLU0mSJEl9yvz58xk8eDAjR44kIuqO069kJk899RTz589n1KhRlZ9nV15JkiRJfcoLL7zA0KFDLUprEBEMHTp0jVurLUwlSZIk9TkWpfVZm2NvYSpJkiRJqpXXmEqSJEnq00aedmOPrq/1nMMrLff4449z8sknc9dddzFkyBC23nprzj//fHbYYYcezdPRZpttxtKlS2ltbWXChAnMnj278nOPOeYYJkyYwPvf//4GJnwlC1NJkiTVqmrRULUYkJpBZnLkkUfy8Y9/nKuuugqAu+++myeeeKLhhen6yK68kiRJktTDpk6dSktLC8cff/zKaaNHj2bPPffkoIMOYsyYMey222784he/AKC1tZWddtqJz3zmM+yyyy4ccsghPP/88wA8+OCDHHzwwYwePZoxY8bw0EMPAXDuuefy5je/md13352zzjqr2zwrVqzg1FNPXbn8xRdfDBQF9IknnsiOO+7IwQcfzMKFCxtxOFbLwlSSJEmSetjs2bMZO3bsK6YPGjSIyZMnM3PmTKZOncopp5xCZgIwd+5cTjjhBO677z6GDBnCddddB8BHPvIRTjjhBO6++25+//vfs8022zBlyhTmzp3LnXfeyaxZs5gxYwbTpk3rMs+ll17K5ptvzl133cVdd93FD3/4Qx555BEmT57M/fffz5/+9Cd++tOf8vvf/74xB2Q17MorSZIkSb0kM/nKV77CtGnT2GCDDViwYAFPPPEEAKNGjWKPPfYAYOzYsbS2trJkyRIWLFjAkUceCRSFLcCUKVOYMmUKe+65JwBLly5l7ty57L///p1ud8qUKdxzzz1MmjQJgMWLFzN37lymTZvGhz70IQYMGMDw4cM58MADG7n7XbIwlSRJkqQetssuu6wsAtv72c9+xqJFi5gxYwYtLS2MHDly5W9+brTRRiuXGzBgwMquvJ3JTE4//XSOO+64SnkykwsuuIDx48evMv2mm26q9PxGsyuvJEmSJPWwAw88kBdffJFLLrlk5bR77rmHRx99lK222oqWlhamTp3Ko48+2u16Bg8ezIgRI7j++usBePHFF3nuuecYP348l112GUuXLgVgwYIF3V4fOn78eC688EKWLVsGwAMPPMCzzz7L/vvvz9VXX82KFSv461//ytSpU9dxz9eOLaaSJElSB44U3LfU8TpFBJMnT+bkk0/mW9/6FoMGDWLkyJGcffbZfP7zn2e33XZj3LhxvOlNb1rtui6//HKOO+44zjzzTFpaWrj22ms55JBDmDNnDvvssw9Q/ETMFVdcwVZbbdXpOj796U/T2trKmDFjyEyGDRvG9ddfz5FHHsmtt97KzjvvzPbbb79yfb0t2i60bQbjxo3L6dOn1x1DkiRJvagZi8BmzKTq5syZw0477VR3jH6ts9cgImZk5rjOlrfFVJIkqR+pUnBZbEnqbRamkiRJDWIRKEnVOPiRJEmSJKlWFqaSJEmSpFpZmEqSJEmSamVhKkmSJEmqlYMfSZIkSerbzt68h9e3uNJibb8TOmfOnNX+Xun555/PscceyyabbALAYYcdxpVXXsmQIUPWNe16wRZTSZIkSWqAiRMn8ra3vY2JEyeudtnzzz+f5557buXjm266qSmL0uXLlzdkvRamkiRJktTDli5dyu23386ll17KVVddtXL6ihUr+OIXv8iuu+7K7rvvzgUXXMD3vvc9HnvsMQ444AAOOOAAAEaOHMmTTz7Jaaedxg9+8IOVzz/77LM577zzADj33HN585vfzO67785ZZ53VaY7NNtts5f1JkyZxzDHHAHDttdey6667Mnr0aPbff/+V2U499dSV67z44osBuO2229hvv/044ogj2HnnnXn22Wc5/PDDGT16NLvuuitXX331Oh8vu/JKkiRpVVW7PVbszij1R7/4xS849NBD2WGHHRg6dCgzZsxg7NixXHLJJbS2tjJr1iwGDhzI008/zRZbbMF3vvMdpk6dypZbbrnKeo4++mhOPvlkTjjhBACuueYabr75ZqZMmcLcuXO58847yUyOOOIIpk2btrLIXJ2vf/3r3HzzzWy77bY888wzAFx66aVsvvnm3HXXXbz44ovsu+++HHLIIQDMnDmT2bNnM2rUKK677jqGDx/OjTcWv9W8ePG6nwsaWphGRCuwBFgBLM/McY3cniRJktSXjTztxtUu03rO4b2QRKszceJETjrpJAA++MEPMnHiRMaOHctvfvMbjj/+eAYOLEqxLbbYotv17LnnnixcuJDHHnuMRYsW8epXv5rtttuO7373u0yZMoU999wTKFpo586dW7kw3XfffTnmmGP4wAc+wHvf+14ApkyZwj333MOkSZOAouCcO3cuG264IXvttRejRo0CYLfdduOUU07hy1/+MhMmTGC//fZb8wPUQW+0mB6QmU/2wnYkSZIkqXZPP/00t956K/feey8RwYoVK4gIzj333LVa31FHHcWkSZN4/PHHOfroowHITE4//XSOO+64bp8bESvvv/DCCyvvX3TRRdxxxx3ceOONjB07lhkzZpCZXHDBBYwfP36Vddx2221suummKx/vsMMOzJw5k5tuuokzzjiDgw46iDPPPHOt9q2N15hKkiRJUg+aNGkSH/vYx3j00UdpbW1l3rx5jBo1it/97ne84x3v4OKLL145iNDTTz8NwODBg1myZEmn6zv66KO56qqrmDRpEkcddRQA48eP57LLLmPp0qUALFiwgIULF77iuVtvvTVz5szh5ZdfZvLkySunP/TQQ+y99958/etfZ9iwYcybN4/x48dz4YUXsmzZMgAeeOABnn322Ves87HHHmOTTTbhox/9KKeeeiozZ85ch6NVaHSLaQJTIiKBizPzko4LRMSxwLEA22+/fYPjSJIkSep3evl66IkTJ/LlL395lWnve9/7mDhxIhdccAEPPPAAu+++Oy0tLXzmM5/hxBNP5Nhjj+XQQw9l+PDhTJ06dZXn7rLLLixZsoRtt92WbbbZBoBDDjmEOXPmsM8++wDFIEdXXHEFW2211SrPPeecc5gwYQLDhg1j3LhxKwvZU089lblz55KZHHTQQYwePZrdd9+d1tZWxowZQ2YybNgwrr/++lfs37333supp57KBhtsQEtLCxdeeOE6H7PIzHVeSZcrj9g2MxdExFbALcDnMnNaV8uPGzcup0+f3rA8kiRJvakZrweslGnQh6utrIc+7FfJBBVz9XamZnz9vMaUOXPmsNNOO9Udo1/r7DWIiBldjTvU0BbTzFxQ/l0YEZOBvYAuC1NJkqR+p8oIuI5+K6mPa9g1phGxaUQMbrsPHALMbtT2JEmSJEnrp0a2mG4NTC5HgRoIXJmZv27g9iRJkiQJKEatbT8irXrP2lwu2rDCNDMfBkY3av2SJEmS1JlBgwbx1FNPMXToUIvTXpaZPPXUUwwaNGiNntcbv2MqSZIkqY9qxgGZRowYwfz581m0aFGvbleFQYMGMWLEiDV6joWpJEmSpD6lpaWFUaNG1R1Da8DCVJIkSVpbjqos9QgLU0mSJKkvsVjWesjCVJIkSVJjWSxrNRr2O6aSJEmSJFVhYSpJkiRJqpVdeSVJUp/QjD9ZIUmqxsJUkiT1H17nJklNycJUkiRJUv9T5Ysq8MuqXuI1ppIkSZKkWlmYSpIkSZJqZWEqSZIkSaqVhakkSZIkqVYOfiRJkiSpT6n081GDeiGIKrMwlSRJkqRm0U9/1srCVJIkrZEqLREArecc3uAkkqS+wmtMJUmSJEm1sjCVJEmSJNXKwlSSJEmSVCuvMZUkSZKkBqt8fX4vjhbcTGMGrHeFaaWhnx1sQZIkSZLWG+tdYSpJktYT/fQnDyRJa87CVJIkSZLUtV74otHBjyRJkiRJtbLFVJKkvsBus5Kk9ZgtppIkSZKkWlmYSpIkSZJq1fDCNCIGRMQfI+JXjd6WJEmSJGn90xstpicBc3phO5IkSZKk9VBDC9OIGAEcDvyokduRJEmSJK2/Gt1iej7wJeDlrhaIiGMjYnpETF+0aFGD40iSJEmSmk3DCtOImAAszMwZ3S2XmZdk5rjMHDds2LBGxZEkSZIkNanVFqYR8e8R8aqIaImI/4qIRRHx0Qrr3hc4IiJagauAAyPiinXMK0mSJEnqYwZWWOaQzPxSRBwJtALvBaYB3RaZmXk6cDpARLwd+GJmVilo150/Mi5JfYPnc0mS+oUqhWlL+fdw4NrMXBwRDYwkSVITq1IsgwWzJElroEphekNE/Bl4HvhsRAwDXliTjWTmbcBta5xOkiRJktTndVuYRsQGwC+Bc4HFmbkiIp4D3t0b4SRJ6u9GnnZjpeVaBzU4iCRJDdTt4EeZ+TLwg8x8OjNXlNOezczHeyWdJEmSJKnPq/JzMf8VEe8LLyyVJEmSJDVAlWtMjwO+AKyIiOeBADIzX9XQZJIk9bIq3WbtMitJUs9bbWGamYN7I4gkqWa9/NMsFoGSJKnNarvyRuGjEfF/ysfbRcRejY8mSZIkSeoPqlxj+v+AfYAPl4+XAj9oWCJJkiRJUr9S5RrTvTNzTET8ESAz/xYRGzY413qlWne0D692GcAfZIde70643vI4rd98/SRJklaqUpgui4gBQAJExDDg5Yam0jqr/rt3FQpmPxxbREiSJEkNVKUr7/eAycBWEfFN4HbgXxuaSpIkSZLUb1QZlfdnETEDOIjip2Lek5lzGp5M0vqnSssy9H7rsi3ekiRJTa3KqLyvBx7JzB8As4F3RMSQRgeTJEmSJPUPVa4xvQ4YFxFvAC4GbgCuBA5rZDD1PdWve21wEEmSJElNpco1pi9n5nLgvcD3M/NUYJvGxpIkSZIk9RdVCtNlEfEh4B+BX5XTWhoXSZIkSZLUn1QpTD8B7AN8MzMfiYhRwOWNjSVJkiRJ6i+qjMr7J+Dz7R4/AnyrkaEkSZIkSf3HagvTiHgEyI7TM/N1DUkk9bIqgzI5IJMkSZLUOFVG5R3X7v4g4Chgi8bEkaT1m6NPS5IkrbkqXXmf6jDp/IiYAZzZmEiSbMWVJElSf1KlK++Ydg83oGhBrdLSKkkNZetkdX7ZIUmSmlmVAvPb7e4vBx4BPtCYOJKalYWNJEmSGqVKV94DeiOIJEmSJKl/qvI7ppIkSZIkNYyFqSRJkiSpVl0WphFxVPl3VO/FkSRJkiT1N921mJ5e/r2uN4JIkiRJkvqn7gY/eioipgCjIuKGjjMz84jGxZIkSZIk9RfdFaaHA2OAy1n1J2MqiYhBwDRgo3I7kzLzrLUJKUmSJEnqu7osTDPzJeAPEfHWzFwUEZuV05dWXPeLwIGZuTQiWoDbI+I/M/MP6x5bkiRJktRXVBmVd+uI+CNwH/CniJgREbuu7klZaCtiW8pbrn1USZIkSVJfVKUwvQT4Qma+NjO3B04pp61WRAyIiFnAQuCWzLyjk2WOjYjpETF90aJFaxBdkiRJktQXVClMN83MqW0PMvM2YNMqK8/MFZm5BzAC2KuzltbMvCQzx2XmuGHDhlVLLUmSJEnqM6oUpg9HxP+JiJHl7Qzg4TXZSGY+A0wFDl2LjJIkSZKkPqxKYfpJYBjwc4rfNN2ynNatiBgWEUPK+xsD7wD+vNZJJUmSJEl9Unc/FwNAZv4N+PxarHsb4CcRMYCiAL4mM3+1FuuRJEmSJPVhqy1M11Zm3gPs2aj1S5IkSZL6hipdeSVJkiRJapjVFqYRsW+VaZIkSZIkrY0qLaYXVJwmSZIkSdIa6/Ia04jYB3grMCwivtBu1quAAY0OJkmSJEnqH7ob/GhDYLNymcHtpv8deH8jQ0mSJEmS+o8uC9PM/C3w24j4cWY+2ouZJEmSJEn9SJWfi9koIi4BRrZfPjMPbFQoSZIkSVL/UaUwvRa4CPgRsKKxcSRJkiRJ/U2VwnR5Zl7Y8CSSJEmSpH6pys/F/DIi/ikitomILdpuDU8mSZIkSeoXqrSYfrz8e2q7aQm8rufjSJIkSZL6m9UWppk5qjeCSJIkSZL6p9V25Y2ITSLijHJkXiLijRExofHRJEmSJEn9QZVrTP8DeAl4a/l4AfCNhiWSJEmSJPUrVQrT12fmvwPLADLzOSAamkqSJEmS1G9UKUxfioiNKQY8IiJeD7zY0FSSJEmSpH6jyqi8ZwG/BraLiJ8B+wLHNDKUJEmSJKn/qDIq7y0RMRN4C0UX3pMy88mGJ5MkSZIk9QtVRuU9EliemTdm5q+A5RHxnoYnkyRJkiT1C1WuMT0rMxe3PcjMZyi690qSJEmStM6qFKadLVPl2lRJkiRJklarSmE6PSK+ExGvL2/fAWY0OpgkSZIkqX+oUph+DngJuBq4CngBOKGRoSRJkiRJ/Ue3XXIjYgDwq8w8oJfySJIkSZL6mW5bTDNzBfByRGzeS3kkSZIkSf1MlUGMlgL3RsQtwLNtEzPz8w1LJUmSJEnqN6oUpj8vb5IkSZIk9bjVFqaZ+ZOI2BjYPjPv74VMkiRJkqR+ZLWj8kbEu4BZwK/Lx3tExA0VnrddREyNiD9FxH0RcdI6p5UkSZIk9TlVfi7mbGAv4BmAzJwFvK7C85YDp2TmzsBbgBMiYue1SilJkiRJ6rOqFKbLMnNxh2kvr+5JmfnXzJxZ3l8CzAG2XfOIkiRJkqS+rEphel9EfBgYEBFvjIgLgN+vyUYiYiSwJ3BHJ/OOjYjpETF90aJFa7JaSZIkSVIfUKUw/RywC/AicCWwGDi56gYiYjPgOuDkzPx7x/mZeUlmjsvMccOGDau6WkmSJElSH9HlqLwRMQg4HngDcC+wT2YuX5OVR0QLRVH6s8z0J2ckSZIkSa/QXYvpT4BxFEXpO4Hz1mTFERHApcCczPzOWieUJEmSJPVp3f2O6c6ZuRtARFwK3LmG694X+Bhwb0TMKqd9JTNvWuOUkiRJkqQ+q7vCdFnbncxcXjSAVpeZtwNr9iRJkiRJUr/TXWE6OiLaBisKYOPycQCZma9qeDpJkiRJUp/XZWGamQN6M4gkSZIkqX+q8nMxkiRJkiQ1jIWpJEmSJKlWFqaSJEmSpFpZmEqSJEmSamVhKkmSJEmqlYWpJEmSJKlWFqaSJEmSpFpZmEqSJEmSamVhKkmSJEmqlYWpJEmSJKlWFqaSJEmSpFpZmEqSJEmSamVhKkmSJEmqlYWpJEmSJKlWFqaSJEmSpFpZmEqSJEmSamVhKkmSJEmqlYWpJEmSJKlWFqaSJEmSpFpZmEqSJEmSamVhKkmSJEmqlYWpJEmSJKlWFqaSJEmSpFpZmEqSJEmSamVhKkmSJEmqlYWpJEmSJKlWDStMI+KyiFgYEbMbtQ1JkiRJ0vqvkS2mPwYObeD6JUmSJEl9QMMK08ycBjzdqPVLkiRJkvoGrzGVJEmSJNWq9sI0Io6NiOkRMX3RokV1x5EkSZIk9bLaC9PMvCQzx2XmuGHDhtUdR5IkSZLUy2ovTCVJkiRJ/Vsjfy5mIvA/wI4RMT8iPtWobUmSJEmS1l8DG7XizPxQo9YtSZIkSeo77MorSZIkSaqVhakkSZIkqVYWppIkSZKkWlmYSpIkSZJqZWEqSZIkSaqVhakkSZIkqVYWppIkSZKkWlmYSpIkSZJqZWEqSZIkSaqVhakkSZIkqVYWppIkSZKkWlmYSpIkSZJqZWEqSZIkSaqVhakkSZIkqVYWppIkSZKkWlmYSpIkSZJqZWEqSZIkSaqVhakkSZIkqVYWppIkSZKkWlmYSpIkSZJqZWEqSZIkSaqVhakkSZIkqVYWppIkSZKkWlmYSpIkSZJqZWEqSZIkSaqVhakkSZIkqVYWppIkSZKkWlmYSpIkSZJqZWEqSZIkSapVQwvTiDg0Iu6PiAcj4rRGbkuSJEmStH5qWGEaEQOAHwDvBHYGPhQROzdqe5IkSZKk9VMjW0z3Ah7MzIcz8yXgKuDdDdyeJEmSJGk9FJnZmBVHvB84NDM/XT7+GLB3Zp7YYbljgWPLhzsC9/fA5rcEnuyB9fSkZswEzZnLTNWYqbpmzGWmasxUXTPmMlM1ZqquGXOZqRozVdeMuXoq02szc1hnMwb2wMrXSWZeAlzSk+uMiOmZOa4n17mumjETNGcuM1VjpuqaMZeZqjFTdc2Yy0zVmKm6ZsxlpmrMVF0z5uqNTI3syrsA2K7d4xHlNEmSJEmSVmpkYXoX8MaIGBURGwIfBG5o4PYkSZIkSeuhhnXlzczlEXEicDMwALgsM+9r1PY66NGuwT2kGTNBc+YyUzVmqq4Zc5mpGjNV14y5zFSNmaprxlxmqsZM1TVjroZnatjgR5IkSZIkVdHIrrySJEmSJK2WhakkSZIkqVZ9rjCNiEMj4v6IeDAiTmuCPJdFxMKImF13ljYRsV1ETI2IP0XEfRFxUhNkGhQRd0bE3WWmr9WdqU1EDIiIP0bEr+rO0iYiWiPi3oiYFRHT684DEBFDImJSRPw5IuZExD4159mxPD5tt79HxMl1Zipz/XP5Hp8dERMjYlATZDqpzHNfnceos/NlRGwREbdExNzy76ubINNR5bF6OSJ6fTj/LjKdW/7buyciJkfEkCbJ9S9lplkRMSUihtedqd28UyIiI2LLujNFxNkRsaDd+eqwujOV0z9Xvq/ui4h/rztTRFzd7hi1RsSs3szUTa49IuIPbf8nR8ReTZBpdET8T/lZ4ZcR8apeztTpZ806z+ndZKrtnN5NptrO6d1kavz5PDP7zI1ikKWHgNcBGwJ3AzvXnGl/YAwwu+7j0y7TNsCY8v5g4IEmOE4BbFbebwHuAN5S97Eq83wBuBL4Vd1Z2mVqBbasO0eHTD8BPl3e3xAYUnemdtkGAI9T/KhznTm2BR4BNi4fXwMcU3OmXYHZwCYUA+L9BnhDTVlecb4E/h04rbx/GvCtJsi0E7AjcBswrkmO0yHAwPL+t3r7OHWT61Xt7n8euKjuTOX07SgGZ3y0t8+lXRyns4Ev9vZrtppMB5Tng43Kx1vVnanD/G8DZzbJsZoCvLO8fxhwWxNkugv4h/L+J4F/6eVMnX7WrPOc3k2m2s7p3WSq7ZzeTaaGn8/7WovpXsCDmflwZr4EXAW8u85AmTkNeLrODB1l5l8zc2Z5fwkwh+IDc52ZMjOXlg9bylvtI3NFxAjgcOBHdWdpZhGxOcV/jJcCZOZLmflMraFWdRDwUGY+WncQiuJv44gYSFEMPlZznp2AOzLzucxcDvwWeG8dQbo4X76b4ksPyr/vqTtTZs7JzPt7M0eH7XeWaUr5+gH8geK3w5sh19/bPdyUXj6vd/N/8P8FvtTbeaBpPxd0lumzwDmZ+WK5zMImyARARATwAWBib2aCLnMl0NYiuTm9fF7vItMOwLTy/i3A+3o5U1efNWs7p3eVqc5zejeZajund5Op4efzvlaYbgvMa/d4PjUXXM0uIkYCe1K0UNYqii6zs4CFwC2ZWXsm4HyKDy8v15yjowSmRMSMiDi27jDAKGAR8B9RdHv+UURsWneodj5IDR9gOsrMBcB5wF+AvwKLM3NKvamYDewXEUMjYhOKb/u3qzlTe1tn5l/L+48DW9cZZj3xSeA/6w7RJiK+GRHzgI8AZzZBnncDCzLz7rqzdHBi2U3ust7ust6FHSjODXdExG8j4s11B2pnP+CJzJxbd5DSycC55fv8POD0euMAcB//2zhzFDWe1zt81myKc3ozff5t002m2s7pHTM1+nze1wpTrYGI2Ay4Dji5w7cgtcjMFZm5B8W3QntFxK515omICcDCzJxRZ44uvC0zxwDvBE6IiP1rzjOQohvRhZm5J/AsRRed2kXEhsARwLVNkOXVFB8URgHDgU0j4qN1ZsrMORTdhKYAvwZmASvqzNSVLPoP1d6ToplFxFeB5cDP6s7SJjO/mpnbUWQ6sc4s5ZcvX6EJCuQOLgReD+xB8aXVt2tNUxgIbAG8BTgVuKZsqWwGH6IJvmxs57PAP5fv83+m7D1Us08C/xQRMyi6Y75UR4juPmvWdU5vts+/0HWmOs/pnWVq9Pm8rxWmC1j1G6ER5TR1EBEtFG+2n2Xmz+vO017ZBXQqcGjNUfYFjoiIVopu4QdGxBX1RiqULW9tXasmU3Rjr9N8YH67Vu5JFIVqM3gnMDMzn6g7CHAw8EhmLsrMZcDPgbfWnInMvDQzx2bm/sDfKK4naRZPRMQ2AOXfXu1OuD6JiGOACcBHyg98zeZn9HJ3wk68nuKLobvLc/sIYGZEvKbOUJn5RPnl7MvAD6n/nA7Fef3n5aU2d1L0HOrVgaI6U14G8V7g6rqztPNxivM5FF+C1v76ZeafM/OQzBxLUcQ/1NsZuvisWes5vRk//3aVqc5zeoXj1JDzeV8rTO8C3hgRo8pWkg8CN9ScqemU33heCszJzO/UnQcgIoa1jTgWERsD7wD+XGemzDw9M0dk5kiK99KtmVlr6xZARGwaEYPb7lNcIF/rqM+Z+TgwLyJ2LCcdBPypxkjtNdM3638B3hIRm5T/Dg+iuHajVhGxVfl3e4oPfFfWm2gVN1B86KP8+4saszStiDiU4rKDIzLzubrztImIN7Z7+G7qP6/fm5lbZebI8tw+n2KQj8frzNX2Qb10JDWf00vXUwyARETsQDGo3ZN1BiodDPw5M+fXHaSdx4B/KO8fCNTexbjdeX0D4Azgol7eflefNWs7pzfp599OM9V5Tu8mU+PP59nDoynVfaO4PuoBim+GvtoEeSZSdMtZRvEf4KeaINPbKLpO3EPRbW8WcFjNmXYH/lhmmk0NI+2tJt/baZJReSlGnb67vN3XDO/zMtcewPTyNbweeHUTZNoUeArYvO4s7TJ9jeJkPhu4nHLEy5oz/Y7ii4S7gYNqzPGK8yUwFPgvig96vwG2aIJMR5b3XwSeAG5ugkwPUoyx0HZO79XRb7vJdV35Xr8H+CXFABq1Zuowv5XeH5W3s+N0OXBveZxuALZpgkwbAleUr99M4MC6M5XTfwwc35tZKhyrtwEzynPoHcDYJsh0EsXn4QeAc4Do5Uydftas85zeTabazundZKrtnN5Npoafz6MMIEmSJElSLfpaV15JkiRJ0nrGwlSSJEmSVCsLU0mSJElSrSxMJUmSJEm1sjCVJEmSJNXKwlSSpB4UESMjohl+h1KSpPWGhakkSU0uIgbWnUGSpEayMJUkqecNiIgfRsR9ETElIjaOiD0i4g8RcU9ETI6IVwNExG0RMa68v2VEtJb3j4mIGyLiVoofpJckqc+yMJUkqee9EfhBZu4CPAO8D/gp8OXM3B24FzirwnrGAO/PzH9oVFBJkpqBhakkST3vkcycVd6fAbweGJKZvy2n/QTYv8J6bsnMpxuQT5KkpmJhKklSz3ux3f0VwJBull3O//5/PKjDvGd7MJMkSU3LwlSSpMZbDPwtIvYrH38MaGs9bQXGlvff38u5JElqCo7yJ0lS7/g4cFFEbAI8DHyinH4ecE1EHAvcWFc4SZLqFJlZdwZJkiRJUj9mV15JkiRJUq0sTCVJkiRJtbIwlSRJkiTVysJUkiRJklQrC1NJkiRJUq0sTCVJkiRJtbIwlSRJkiTV6v8DxfE82OhAwscAAAAASUVORK5CYII=\n",
       "datasetInfos": [],
       "metadata": {},
       "removedWidgets": [],
       "type": "image"
      }
     },
     "output_type": "display_data"
    }
   ],
   "source": [
    "draw_time('hour', title='hour of the day');"
   ]
  },
  {
   "cell_type": "markdown",
   "metadata": {
    "application/vnd.databricks.v1+cell": {
     "cellMetadata": {},
     "inputWidgets": {},
     "nuid": "544310bd-8d75-4c71-ba04-f7480a3d6305",
     "showTitle": false,
     "title": ""
    }
   },
   "source": [
    "# Feature Engineering\n",
    "Once you've familiarized yourself with the data, build out the features you find promising to train your model on. To work with the full dataset, you can follow the following steps.\n",
    "- Write a script to extract the necessary features from the smaller subset of data\n",
    "- Ensure that your script is scalable, using the best practices discussed in Lesson 3\n",
    "- Try your script on the full data set, debugging your script if necessary\n",
    "\n",
    "If you are working in the classroom workspace, you can just extract features based on the small subset of data contained here. Be sure to transfer over this work to the larger dataset when you work on your Spark cluster.\n",
    "Subject Matter Expert, commonly abbreviated as SME"
   ]
  },
  {
   "cell_type": "markdown",
   "metadata": {
    "application/vnd.databricks.v1+cell": {
     "cellMetadata": {},
     "inputWidgets": {},
     "nuid": "7d4043c0-bf22-40ce-b94d-9d7a7cd2eef0",
     "showTitle": false,
     "title": ""
    }
   },
   "source": [
    "### Independent Variables:\n",
    "#### 1.) Time Since Registration:"
   ]
  },
  {
   "cell_type": "code",
   "execution_count": null,
   "metadata": {
    "application/vnd.databricks.v1+cell": {
     "cellMetadata": {
      "byteLimit": 2048000,
      "rowLimit": 10000
     },
     "inputWidgets": {},
     "nuid": "6efdb9d5-3ea0-45ef-9dcb-ba1205b9c2fe",
     "showTitle": false,
     "title": ""
    }
   },
   "outputs": [
    {
     "name": "stdout",
     "output_type": "stream",
     "text": [
      "+-------+------------------+-------------------+\n",
      "|summary|            userId|           lifetime|\n",
      "+-------+------------------+-------------------+\n",
      "|  count|               225|                225|\n",
      "|   mean|65391.013333333336|  79.84568348765428|\n",
      "| stddev|105396.47791907165|  37.66147001861254|\n",
      "|    min|                10|0.31372685185185184|\n",
      "|    max|                99|  256.3776736111111|\n",
      "+-------+------------------+-------------------+\n",
      "\n"
     ]
    }
   ],
   "source": [
    "from pyspark.sql.functions import col\n",
    "\n",
    "feature_1 = data.select('userId', 'registration', 'ts') \\\n",
    "    .withColumn('lifetime', (data.ts - data.registration)) \\\n",
    "    .groupBy('userId') \\\n",
    "    .agg({'lifetime': 'max'}) \\\n",
    "    .withColumnRenamed('max(lifetime)', 'lifetime') \\\n",
    "    .select('userId', (col('lifetime') / 1000 / 3600 / 24).alias('lifetime'))\n",
    "\n",
    "feature_1.describe().show()"
   ]
  },
  {
   "cell_type": "markdown",
   "metadata": {
    "application/vnd.databricks.v1+cell": {
     "cellMetadata": {},
     "inputWidgets": {},
     "nuid": "1b6d2ed6-3a97-4963-8f1a-5cda45f24579",
     "showTitle": false,
     "title": ""
    }
   },
   "source": [
    "#### 2.) Total Songs Listened:"
   ]
  },
  {
   "cell_type": "code",
   "execution_count": null,
   "metadata": {
    "application/vnd.databricks.v1+cell": {
     "cellMetadata": {
      "byteLimit": 2048000,
      "rowLimit": 10000
     },
     "inputWidgets": {},
     "nuid": "a1b22f3c-230f-488e-a9d8-53764e245efa",
     "showTitle": false,
     "title": ""
    }
   },
   "outputs": [
    {
     "name": "stdout",
     "output_type": "stream",
     "text": [
      "+-------+------------------+------------------+\n",
      "|summary|            userID|       total_songs|\n",
      "+-------+------------------+------------------+\n",
      "|  count|               225|               225|\n",
      "|   mean|65391.013333333336|           1236.24|\n",
      "| stddev|105396.47791907165|1329.5317164325188|\n",
      "|    min|                10|                 6|\n",
      "|    max|                99|              9632|\n",
      "+-------+------------------+------------------+\n",
      "\n"
     ]
    }
   ],
   "source": [
    "feature_2 = data \\\n",
    "    .select('userID','song') \\\n",
    "    .groupBy('userID') \\\n",
    "    .count() \\\n",
    "    .withColumnRenamed('count', 'total_songs')\n",
    "feature_2.describe().show()"
   ]
  },
  {
   "cell_type": "markdown",
   "metadata": {
    "application/vnd.databricks.v1+cell": {
     "cellMetadata": {},
     "inputWidgets": {},
     "nuid": "6e75dd64-f455-41c4-a394-7592aea6b469",
     "showTitle": false,
     "title": ""
    }
   },
   "source": [
    "#### 3.) Like of user:"
   ]
  },
  {
   "cell_type": "code",
   "execution_count": null,
   "metadata": {
    "application/vnd.databricks.v1+cell": {
     "cellMetadata": {
      "byteLimit": 2048000,
      "rowLimit": 10000
     },
     "inputWidgets": {},
     "nuid": "71b7b3df-963c-44d1-8ade-3a1cd13d15c8",
     "showTitle": false,
     "title": ""
    }
   },
   "outputs": [
    {
     "name": "stdout",
     "output_type": "stream",
     "text": [
      "+-------+------------------+-----------------+\n",
      "|summary|            userID|     num_thumb_up|\n",
      "+-------+------------------+-----------------+\n",
      "|  count|               220|              220|\n",
      "|   mean| 66420.27727272727|            57.05|\n",
      "| stddev|106196.51156121884|65.67028650524043|\n",
      "|    min|                10|                1|\n",
      "|    max|                99|              437|\n",
      "+-------+------------------+-----------------+\n",
      "\n"
     ]
    }
   ],
   "source": [
    "feature_3 = data \\\n",
    "    .select('userID','page') \\\n",
    "    .where(data.page == 'Thumbs Up') \\\n",
    "    .groupBy('userID') \\\n",
    "    .count() \\\n",
    "    .withColumnRenamed('count', 'num_thumb_up')\n",
    "feature_3.describe().show()"
   ]
  },
  {
   "cell_type": "markdown",
   "metadata": {
    "application/vnd.databricks.v1+cell": {
     "cellMetadata": {},
     "inputWidgets": {},
     "nuid": "d205d26d-2a3a-487c-86f0-e24a32fa3c5d",
     "showTitle": false,
     "title": ""
    }
   },
   "source": [
    "#### 4.) Dislike of user: ( Check for Thumbs Down Page)"
   ]
  },
  {
   "cell_type": "code",
   "execution_count": null,
   "metadata": {
    "application/vnd.databricks.v1+cell": {
     "cellMetadata": {
      "byteLimit": 2048000,
      "rowLimit": 10000
     },
     "inputWidgets": {},
     "nuid": "89d3a981-09f3-499b-9b86-cec295c51c7f",
     "showTitle": false,
     "title": ""
    }
   },
   "outputs": [
    {
     "name": "stdout",
     "output_type": "stream",
     "text": [
      "+-------+------------------+------------------+\n",
      "|summary|            userID|    num_thumb_down|\n",
      "+-------+------------------+------------------+\n",
      "|  count|               203|               203|\n",
      "|   mean| 66066.16256157635|12.541871921182265|\n",
      "| stddev|106108.32569893778|13.198108566983791|\n",
      "|    min|                10|                 1|\n",
      "|    max|                99|                75|\n",
      "+-------+------------------+------------------+\n",
      "\n"
     ]
    }
   ],
   "source": [
    "feature_4 = data \\\n",
    "    .select('userID','page') \\\n",
    "    .where(data.page == 'Thumbs Down') \\\n",
    "    .groupBy('userID') \\\n",
    "    .count() \\\n",
    "    .withColumnRenamed('count', 'num_thumb_down')\n",
    "feature_4.describe().show()"
   ]
  },
  {
   "cell_type": "markdown",
   "metadata": {
    "application/vnd.databricks.v1+cell": {
     "cellMetadata": {},
     "inputWidgets": {},
     "nuid": "6cdcf698-b52a-456d-8785-32bba9f701bc",
     "showTitle": false,
     "title": ""
    }
   },
   "source": [
    "#### 5.) Playlist length: (Check for the Add to Playlist Page)"
   ]
  },
  {
   "cell_type": "code",
   "execution_count": null,
   "metadata": {
    "application/vnd.databricks.v1+cell": {
     "cellMetadata": {
      "byteLimit": 2048000,
      "rowLimit": 10000
     },
     "inputWidgets": {},
     "nuid": "25f40ffc-8577-4f4a-beae-c2243683abcf",
     "showTitle": false,
     "title": ""
    }
   },
   "outputs": [
    {
     "name": "stdout",
     "output_type": "stream",
     "text": [
      "+-------+-----------------+-----------------+\n",
      "|summary|           userID|  add_to_playlist|\n",
      "+-------+-----------------+-----------------+\n",
      "|  count|              215|              215|\n",
      "|   mean|66103.63720930232|30.35348837209302|\n",
      "| stddev|106360.4799956504| 32.8520568555997|\n",
      "|    min|               10|                1|\n",
      "|    max|               99|              240|\n",
      "+-------+-----------------+-----------------+\n",
      "\n"
     ]
    }
   ],
   "source": [
    "feature_5 = data \\\n",
    "    .select('userID','page') \\\n",
    "    .where(data.page == 'Add to Playlist') \\\n",
    "    .groupBy('userID')\\\n",
    "    .count() \\\n",
    "    .withColumnRenamed('count', 'add_to_playlist')\n",
    "feature_5.describe().show()"
   ]
  },
  {
   "cell_type": "markdown",
   "metadata": {
    "application/vnd.databricks.v1+cell": {
     "cellMetadata": {},
     "inputWidgets": {},
     "nuid": "ed6276c3-e457-45e6-af96-9dd42010ea99",
     "showTitle": false,
     "title": ""
    }
   },
   "source": [
    "#### 6.) Referring friends: (Check for the Add Friend Page)"
   ]
  },
  {
   "cell_type": "code",
   "execution_count": null,
   "metadata": {
    "application/vnd.databricks.v1+cell": {
     "cellMetadata": {
      "byteLimit": 2048000,
      "rowLimit": 10000
     },
     "inputWidgets": {},
     "nuid": "8b521a12-fd17-44ef-be51-01a97c07b099",
     "showTitle": false,
     "title": ""
    }
   },
   "outputs": [
    {
     "name": "stdout",
     "output_type": "stream",
     "text": [
      "+-------+------------------+------------------+\n",
      "|summary|            userID|        add_friend|\n",
      "+-------+------------------+------------------+\n",
      "|  count|               206|               206|\n",
      "|   mean| 66076.91262135922|20.762135922330096|\n",
      "| stddev|106860.60517425007|20.646779074405014|\n",
      "|    min|                10|                 1|\n",
      "|    max|                99|               143|\n",
      "+-------+------------------+------------------+\n",
      "\n"
     ]
    }
   ],
   "source": [
    "feature_6 = data \\\n",
    "    .select('userID','page') \\\n",
    "    .where(data.page == 'Add Friend') \\\n",
    "    .groupBy('userID') \\\n",
    "    .count() \\\n",
    "    .withColumnRenamed('count', 'add_friend')\n",
    "feature_6.describe().show()"
   ]
  },
  {
   "cell_type": "markdown",
   "metadata": {
    "application/vnd.databricks.v1+cell": {
     "cellMetadata": {},
     "inputWidgets": {},
     "nuid": "fdc1d5f2-1d28-4970-b80b-e3d1968c162d",
     "showTitle": false,
     "title": ""
    }
   },
   "source": [
    "#### 7.) Listening Longevity: ( Check for the total listen time each user)"
   ]
  },
  {
   "cell_type": "code",
   "execution_count": null,
   "metadata": {
    "application/vnd.databricks.v1+cell": {
     "cellMetadata": {
      "byteLimit": 2048000,
      "rowLimit": 10000
     },
     "inputWidgets": {},
     "nuid": "962c1031-316e-40e7-8ea5-8d35aaabe4cc",
     "showTitle": false,
     "title": ""
    }
   },
   "outputs": [
    {
     "name": "stdout",
     "output_type": "stream",
     "text": [
      "+-------+------------------+------------------+\n",
      "|summary|            userID|       listen_time|\n",
      "+-------+------------------+------------------+\n",
      "|  count|               225|               225|\n",
      "|   mean|65391.013333333336|252558.32065155558|\n",
      "| stddev|105396.47791907165|275396.40388476395|\n",
      "|    min|                10|         691.66884|\n",
      "|    max|                99|1991154.9155800021|\n",
      "+-------+------------------+------------------+\n",
      "\n"
     ]
    }
   ],
   "source": [
    "feature_7 = data \\\n",
    "    .select('userID','length') \\\n",
    "    .groupBy('userID') \\\n",
    "    .sum() \\\n",
    "    .withColumnRenamed('sum(length)', 'listen_time')\n",
    "feature_7.describe().show()"
   ]
  },
  {
   "cell_type": "markdown",
   "metadata": {
    "application/vnd.databricks.v1+cell": {
     "cellMetadata": {},
     "inputWidgets": {},
     "nuid": "4e4cd72c-8132-4728-8c79-9b20ef9d390f",
     "showTitle": false,
     "title": ""
    }
   },
   "source": [
    "#### 8.) Songs per Session: (Avange song played per Sessions Count the number user hit NextSong group by sessionId, userId and take avarange of the number of song be played corresponding to that SessionID)"
   ]
  },
  {
   "cell_type": "code",
   "execution_count": null,
   "metadata": {
    "application/vnd.databricks.v1+cell": {
     "cellMetadata": {
      "byteLimit": 2048000,
      "rowLimit": 10000
     },
     "inputWidgets": {},
     "nuid": "8e06b80d-da9a-4e5e-a010-1a2841fb7312",
     "showTitle": false,
     "title": ""
    }
   },
   "outputs": [],
   "source": [
    "feature_8 = data.where('page == \"NextSong\"') \\\n",
    "    .groupby(['userId', 'sessionId']) \\\n",
    "    .count() \\\n",
    "    .groupby(['userId']) \\\n",
    "    .agg({'count':'avg'}) \\\n",
    "    .withColumnRenamed('avg(count)', 'avg_songs_played')"
   ]
  },
  {
   "cell_type": "code",
   "execution_count": null,
   "metadata": {
    "application/vnd.databricks.v1+cell": {
     "cellMetadata": {},
     "inputWidgets": {},
     "nuid": "4140bb78-4af8-4c3a-af73-615c30e26124",
     "showTitle": false,
     "title": ""
    }
   },
   "outputs": [],
   "source": [
    "display(feature_8)"
   ]
  },
  {
   "cell_type": "code",
   "execution_count": null,
   "metadata": {
    "application/vnd.databricks.v1+cell": {
     "cellMetadata": {},
     "inputWidgets": {},
     "nuid": "3aa7fb7b-1b3f-4a6e-afd4-bc138bd4e553",
     "showTitle": false,
     "title": ""
    }
   },
   "outputs": [],
   "source": [
    "display(feature_8.describe())"
   ]
  },
  {
   "cell_type": "markdown",
   "metadata": {
    "application/vnd.databricks.v1+cell": {
     "cellMetadata": {},
     "inputWidgets": {},
     "nuid": "d4ebf19f-ff13-4ad7-8b97-c5526c0cd5f7",
     "showTitle": false,
     "title": ""
    }
   },
   "source": [
    "#### 9.) Gender: (Replace M and F by 0 and 1)"
   ]
  },
  {
   "cell_type": "code",
   "execution_count": null,
   "metadata": {
    "application/vnd.databricks.v1+cell": {
     "cellMetadata": {
      "byteLimit": 2048000,
      "rowLimit": 10000
     },
     "inputWidgets": {},
     "nuid": "09a6dc32-3c42-45d5-aee6-10e693cd7a97",
     "showTitle": false,
     "title": ""
    }
   },
   "outputs": [],
   "source": [
    "feature_9 = data \\\n",
    "    .select(\"userId\", \"gender\") \\\n",
    "    .dropDuplicates() \\\n",
    "    .replace(['M', 'F'], ['0', '1'], 'gender') \\\n",
    "    .select('userId', col('gender').cast('int'))"
   ]
  },
  {
   "cell_type": "code",
   "execution_count": null,
   "metadata": {
    "application/vnd.databricks.v1+cell": {
     "cellMetadata": {
      "byteLimit": 2048000,
      "rowLimit": 10000
     },
     "inputWidgets": {},
     "nuid": "eb5454f4-56c7-4348-ae62-8323b7500920",
     "showTitle": false,
     "title": ""
    }
   },
   "outputs": [
    {
     "data": {
      "text/html": [
       "<style scoped>\n",
       "  .table-result-container {\n",
       "    max-height: 300px;\n",
       "    overflow: auto;\n",
       "  }\n",
       "  table, th, td {\n",
       "    border: 1px solid black;\n",
       "    border-collapse: collapse;\n",
       "  }\n",
       "  th, td {\n",
       "    padding: 5px;\n",
       "  }\n",
       "  th {\n",
       "    text-align: left;\n",
       "  }\n",
       "</style><div class='table-result-container'><table class='table-result'><thead style='background-color: white'><tr><th>userId</th><th>gender</th></tr></thead><tbody><tr><td>44</td><td>1</td></tr><tr><td>46</td><td>1</td></tr><tr><td>41</td><td>1</td></tr><tr><td>39</td><td>1</td></tr><tr><td>40</td><td>1</td></tr><tr><td>94</td><td>1</td></tr><tr><td>35</td><td>1</td></tr><tr><td>75</td><td>1</td></tr><tr><td>100</td><td>0</td></tr><tr><td>25</td><td>1</td></tr><tr><td>92</td><td>1</td></tr><tr><td>52</td><td>1</td></tr><tr><td>110</td><td>0</td></tr><tr><td>33</td><td>0</td></tr><tr><td>42</td><td>1</td></tr><tr><td>67</td><td>0</td></tr><tr><td>77</td><td>1</td></tr><tr><td>136</td><td>1</td></tr><tr><td>99</td><td>1</td></tr><tr><td>114</td><td>0</td></tr><tr><td>98</td><td>0</td></tr><tr><td>55</td><td>0</td></tr><tr><td>111</td><td>1</td></tr><tr><td>144</td><td>0</td></tr><tr><td>19</td><td>1</td></tr><tr><td>80</td><td>1</td></tr><tr><td>109</td><td>1</td></tr><tr><td>101</td><td>0</td></tr><tr><td>12</td><td>1</td></tr><tr><td>51</td><td>0</td></tr><tr><td>113</td><td>1</td></tr><tr><td>127</td><td>1</td></tr><tr><td>85</td><td>0</td></tr><tr><td>88</td><td>1</td></tr><tr><td>59</td><td>0</td></tr><tr><td>125</td><td>0</td></tr><tr><td>9</td><td>0</td></tr><tr><td>126</td><td>0</td></tr><tr><td>104</td><td>1</td></tr><tr><td>3</td><td>0</td></tr><tr><td>18</td><td>0</td></tr><tr><td>73</td><td>1</td></tr><tr><td>34</td><td>0</td></tr><tr><td>142</td><td>0</td></tr><tr><td>2</td><td>1</td></tr><tr><td>70</td><td>0</td></tr><tr><td>76</td><td>0</td></tr><tr><td>91</td><td>0</td></tr><tr><td>138</td><td>0</td></tr><tr><td>36</td><td>1</td></tr><tr><td>135</td><td>1</td></tr><tr><td>38</td><td>0</td></tr><tr><td>69</td><td>1</td></tr><tr><td>105</td><td>0</td></tr><tr><td>56</td><td>0</td></tr><tr><td>62</td><td>0</td></tr><tr><td>60</td><td>0</td></tr><tr><td>43</td><td>1</td></tr><tr><td>131</td><td>0</td></tr><tr><td>37</td><td>0</td></tr><tr><td>148</td><td>0</td></tr><tr><td>58</td><td>0</td></tr><tr><td>50</td><td>1</td></tr><tr><td>8</td><td>1</td></tr><tr><td>83</td><td>0</td></tr><tr><td>129</td><td>0</td></tr><tr><td>13</td><td>1</td></tr><tr><td>150</td><td>0</td></tr><tr><td>21</td><td>0</td></tr><tr><td>68</td><td>1</td></tr><tr><td>137</td><td>0</td></tr><tr><td>17</td><td>1</td></tr><tr><td>149</td><td>0</td></tr><tr><td>6</td><td>0</td></tr><tr><td>10</td><td>0</td></tr><tr><td>71</td><td>0</td></tr><tr><td>134</td><td>0</td></tr><tr><td>147</td><td>0</td></tr><tr><td>7</td><td>0</td></tr><tr><td>106</td><td>1</td></tr><tr><td>97</td><td>1</td></tr><tr><td>53</td><td>0</td></tr><tr><td>115</td><td>1</td></tr><tr><td>20</td><td>1</td></tr><tr><td>78</td><td>1</td></tr><tr><td>49</td><td>0</td></tr><tr><td>141</td><td>1</td></tr><tr><td>121</td><td>0</td></tr><tr><td>122</td><td>1</td></tr><tr><td>102</td><td>0</td></tr><tr><td>86</td><td>0</td></tr><tr><td>81</td><td>0</td></tr><tr><td>57</td><td>0</td></tr><tr><td>87</td><td>0</td></tr><tr><td>61</td><td>0</td></tr><tr><td>45</td><td>1</td></tr><tr><td>82</td><td>1</td></tr><tr><td>118</td><td>1</td></tr><tr><td>96</td><td>1</td></tr><tr><td>11</td><td>1</td></tr><tr><td>30</td><td>0</td></tr><tr><td>28</td><td>1</td></tr><tr><td>143</td><td>1</td></tr><tr><td>93</td><td>0</td></tr><tr><td>140</td><td>1</td></tr><tr><td>107</td><td>1</td></tr><tr><td>145</td><td>1</td></tr><tr><td>26</td><td>0</td></tr><tr><td>65</td><td>0</td></tr><tr><td>103</td><td>1</td></tr><tr><td>128</td><td>0</td></tr><tr><td>24</td><td>0</td></tr><tr><td>66</td><td>1</td></tr><tr><td>74</td><td>1</td></tr><tr><td>16</td><td>1</td></tr><tr><td>15</td><td>0</td></tr><tr><td>89</td><td>0</td></tr><tr><td>29</td><td>0</td></tr><tr><td>90</td><td>0</td></tr><tr><td>119</td><td>1</td></tr><tr><td>146</td><td>0</td></tr><tr><td>117</td><td>1</td></tr><tr><td>112</td><td>0</td></tr><tr><td>133</td><td>0</td></tr><tr><td>132</td><td>1</td></tr><tr><td>32</td><td>0</td></tr><tr><td>5</td><td>0</td></tr><tr><td>4</td><td>0</td></tr><tr><td>64</td><td>0</td></tr><tr><td>14</td><td>0</td></tr><tr><td>120</td><td>1</td></tr><tr><td>95</td><td>1</td></tr><tr><td>47</td><td>0</td></tr><tr><td>27</td><td>0</td></tr><tr><td>124</td><td>1</td></tr><tr><td>54</td><td>1</td></tr><tr><td>72</td><td>1</td></tr><tr><td>116</td><td>1</td></tr><tr><td>84</td><td>1</td></tr><tr><td>22</td><td>1</td></tr><tr><td>139</td><td>0</td></tr><tr><td>155</td><td>1</td></tr><tr><td>154</td><td>1</td></tr><tr><td>123</td><td>0</td></tr><tr><td>153</td><td>0</td></tr><tr><td>152</td><td>0</td></tr><tr><td>79</td><td>0</td></tr><tr><td>108</td><td>1</td></tr><tr><td>23</td><td>1</td></tr><tr><td>63</td><td>1</td></tr><tr><td>151</td><td>0</td></tr><tr><td>100010</td><td>1</td></tr><tr><td>100008</td><td>1</td></tr><tr><td>100006</td><td>1</td></tr><tr><td>100005</td><td>0</td></tr><tr><td>100021</td><td>0</td></tr><tr><td>100001</td><td>1</td></tr><tr><td>100013</td><td>1</td></tr><tr><td>100012</td><td>0</td></tr><tr><td>100014</td><td>0</td></tr><tr><td>100018</td><td>0</td></tr><tr><td>100007</td><td>1</td></tr><tr><td>100011</td><td>0</td></tr><tr><td>100025</td><td>1</td></tr><tr><td>156</td><td>0</td></tr><tr><td>100009</td><td>0</td></tr><tr><td>100015</td><td>1</td></tr><tr><td>100002</td><td>1</td></tr><tr><td>100019</td><td>0</td></tr><tr><td>100004</td><td>1</td></tr><tr><td>100022</td><td>1</td></tr><tr><td>100023</td><td>0</td></tr><tr><td>100017</td><td>0</td></tr><tr><td>100024</td><td>0</td></tr><tr><td>100016</td><td>0</td></tr><tr><td>100003</td><td>1</td></tr><tr><td>300023</td><td>1</td></tr><tr><td>200001</td><td>0</td></tr><tr><td>200020</td><td>0</td></tr><tr><td>200015</td><td>0</td></tr><tr><td>300005</td><td>1</td></tr><tr><td>200016</td><td>1</td></tr><tr><td>200025</td><td>0</td></tr><tr><td>300002</td><td>1</td></tr><tr><td>300006</td><td>0</td></tr><tr><td>300012</td><td>0</td></tr><tr><td>300025</td><td>0</td></tr><tr><td>300015</td><td>0</td></tr><tr><td>300021</td><td>1</td></tr><tr><td>300016</td><td>0</td></tr><tr><td>200022</td><td>0</td></tr><tr><td>200005</td><td>0</td></tr><tr><td>200018</td><td>0</td></tr><tr><td>300004</td><td>1</td></tr><tr><td>300014</td><td>0</td></tr><tr><td>200023</td><td>1</td></tr><tr><td>200010</td><td>1</td></tr><tr><td>200007</td><td>1</td></tr><tr><td>300018</td><td>0</td></tr><tr><td>200011</td><td>0</td></tr><tr><td>200009</td><td>0</td></tr><tr><td>200024</td><td>0</td></tr><tr><td>300011</td><td>1</td></tr><tr><td>200014</td><td>0</td></tr><tr><td>200021</td><td>1</td></tr><tr><td>200012</td><td>0</td></tr><tr><td>200019</td><td>0</td></tr><tr><td>300003</td><td>0</td></tr><tr><td>200017</td><td>0</td></tr><tr><td>300017</td><td>1</td></tr><tr><td>300001</td><td>1</td></tr><tr><td>300019</td><td>0</td></tr><tr><td>300024</td><td>1</td></tr><tr><td>200006</td><td>1</td></tr><tr><td>300007</td><td>0</td></tr><tr><td>300010</td><td>0</td></tr><tr><td>300022</td><td>0</td></tr><tr><td>300020</td><td>1</td></tr><tr><td>300013</td><td>0</td></tr><tr><td>200008</td><td>1</td></tr><tr><td>200002</td><td>0</td></tr><tr><td>200003</td><td>1</td></tr><tr><td>300009</td><td>1</td></tr><tr><td>300008</td><td>1</td></tr><tr><td>200004</td><td>0</td></tr></tbody></table></div>"
      ]
     },
     "metadata": {
      "application/vnd.databricks.v1+output": {
       "addedWidgets": {},
       "aggData": [],
       "aggError": "",
       "aggOverflow": false,
       "aggSchema": [],
       "aggSeriesLimitReached": false,
       "aggType": "",
       "arguments": {},
       "columnCustomDisplayInfos": {},
       "data": [
        [
         "44",
         1
        ],
        [
         "46",
         1
        ],
        [
         "41",
         1
        ],
        [
         "39",
         1
        ],
        [
         "40",
         1
        ],
        [
         "94",
         1
        ],
        [
         "35",
         1
        ],
        [
         "75",
         1
        ],
        [
         "100",
         0
        ],
        [
         "25",
         1
        ],
        [
         "92",
         1
        ],
        [
         "52",
         1
        ],
        [
         "110",
         0
        ],
        [
         "33",
         0
        ],
        [
         "42",
         1
        ],
        [
         "67",
         0
        ],
        [
         "77",
         1
        ],
        [
         "136",
         1
        ],
        [
         "99",
         1
        ],
        [
         "114",
         0
        ],
        [
         "98",
         0
        ],
        [
         "55",
         0
        ],
        [
         "111",
         1
        ],
        [
         "144",
         0
        ],
        [
         "19",
         1
        ],
        [
         "80",
         1
        ],
        [
         "109",
         1
        ],
        [
         "101",
         0
        ],
        [
         "12",
         1
        ],
        [
         "51",
         0
        ],
        [
         "113",
         1
        ],
        [
         "127",
         1
        ],
        [
         "85",
         0
        ],
        [
         "88",
         1
        ],
        [
         "59",
         0
        ],
        [
         "125",
         0
        ],
        [
         "9",
         0
        ],
        [
         "126",
         0
        ],
        [
         "104",
         1
        ],
        [
         "3",
         0
        ],
        [
         "18",
         0
        ],
        [
         "73",
         1
        ],
        [
         "34",
         0
        ],
        [
         "142",
         0
        ],
        [
         "2",
         1
        ],
        [
         "70",
         0
        ],
        [
         "76",
         0
        ],
        [
         "91",
         0
        ],
        [
         "138",
         0
        ],
        [
         "36",
         1
        ],
        [
         "135",
         1
        ],
        [
         "38",
         0
        ],
        [
         "69",
         1
        ],
        [
         "105",
         0
        ],
        [
         "56",
         0
        ],
        [
         "62",
         0
        ],
        [
         "60",
         0
        ],
        [
         "43",
         1
        ],
        [
         "131",
         0
        ],
        [
         "37",
         0
        ],
        [
         "148",
         0
        ],
        [
         "58",
         0
        ],
        [
         "50",
         1
        ],
        [
         "8",
         1
        ],
        [
         "83",
         0
        ],
        [
         "129",
         0
        ],
        [
         "13",
         1
        ],
        [
         "150",
         0
        ],
        [
         "21",
         0
        ],
        [
         "68",
         1
        ],
        [
         "137",
         0
        ],
        [
         "17",
         1
        ],
        [
         "149",
         0
        ],
        [
         "6",
         0
        ],
        [
         "10",
         0
        ],
        [
         "71",
         0
        ],
        [
         "134",
         0
        ],
        [
         "147",
         0
        ],
        [
         "7",
         0
        ],
        [
         "106",
         1
        ],
        [
         "97",
         1
        ],
        [
         "53",
         0
        ],
        [
         "115",
         1
        ],
        [
         "20",
         1
        ],
        [
         "78",
         1
        ],
        [
         "49",
         0
        ],
        [
         "141",
         1
        ],
        [
         "121",
         0
        ],
        [
         "122",
         1
        ],
        [
         "102",
         0
        ],
        [
         "86",
         0
        ],
        [
         "81",
         0
        ],
        [
         "57",
         0
        ],
        [
         "87",
         0
        ],
        [
         "61",
         0
        ],
        [
         "45",
         1
        ],
        [
         "82",
         1
        ],
        [
         "118",
         1
        ],
        [
         "96",
         1
        ],
        [
         "11",
         1
        ],
        [
         "30",
         0
        ],
        [
         "28",
         1
        ],
        [
         "143",
         1
        ],
        [
         "93",
         0
        ],
        [
         "140",
         1
        ],
        [
         "107",
         1
        ],
        [
         "145",
         1
        ],
        [
         "26",
         0
        ],
        [
         "65",
         0
        ],
        [
         "103",
         1
        ],
        [
         "128",
         0
        ],
        [
         "24",
         0
        ],
        [
         "66",
         1
        ],
        [
         "74",
         1
        ],
        [
         "16",
         1
        ],
        [
         "15",
         0
        ],
        [
         "89",
         0
        ],
        [
         "29",
         0
        ],
        [
         "90",
         0
        ],
        [
         "119",
         1
        ],
        [
         "146",
         0
        ],
        [
         "117",
         1
        ],
        [
         "112",
         0
        ],
        [
         "133",
         0
        ],
        [
         "132",
         1
        ],
        [
         "32",
         0
        ],
        [
         "5",
         0
        ],
        [
         "4",
         0
        ],
        [
         "64",
         0
        ],
        [
         "14",
         0
        ],
        [
         "120",
         1
        ],
        [
         "95",
         1
        ],
        [
         "47",
         0
        ],
        [
         "27",
         0
        ],
        [
         "124",
         1
        ],
        [
         "54",
         1
        ],
        [
         "72",
         1
        ],
        [
         "116",
         1
        ],
        [
         "84",
         1
        ],
        [
         "22",
         1
        ],
        [
         "139",
         0
        ],
        [
         "155",
         1
        ],
        [
         "154",
         1
        ],
        [
         "123",
         0
        ],
        [
         "153",
         0
        ],
        [
         "152",
         0
        ],
        [
         "79",
         0
        ],
        [
         "108",
         1
        ],
        [
         "23",
         1
        ],
        [
         "63",
         1
        ],
        [
         "151",
         0
        ],
        [
         "100010",
         1
        ],
        [
         "100008",
         1
        ],
        [
         "100006",
         1
        ],
        [
         "100005",
         0
        ],
        [
         "100021",
         0
        ],
        [
         "100001",
         1
        ],
        [
         "100013",
         1
        ],
        [
         "100012",
         0
        ],
        [
         "100014",
         0
        ],
        [
         "100018",
         0
        ],
        [
         "100007",
         1
        ],
        [
         "100011",
         0
        ],
        [
         "100025",
         1
        ],
        [
         "156",
         0
        ],
        [
         "100009",
         0
        ],
        [
         "100015",
         1
        ],
        [
         "100002",
         1
        ],
        [
         "100019",
         0
        ],
        [
         "100004",
         1
        ],
        [
         "100022",
         1
        ],
        [
         "100023",
         0
        ],
        [
         "100017",
         0
        ],
        [
         "100024",
         0
        ],
        [
         "100016",
         0
        ],
        [
         "100003",
         1
        ],
        [
         "300023",
         1
        ],
        [
         "200001",
         0
        ],
        [
         "200020",
         0
        ],
        [
         "200015",
         0
        ],
        [
         "300005",
         1
        ],
        [
         "200016",
         1
        ],
        [
         "200025",
         0
        ],
        [
         "300002",
         1
        ],
        [
         "300006",
         0
        ],
        [
         "300012",
         0
        ],
        [
         "300025",
         0
        ],
        [
         "300015",
         0
        ],
        [
         "300021",
         1
        ],
        [
         "300016",
         0
        ],
        [
         "200022",
         0
        ],
        [
         "200005",
         0
        ],
        [
         "200018",
         0
        ],
        [
         "300004",
         1
        ],
        [
         "300014",
         0
        ],
        [
         "200023",
         1
        ],
        [
         "200010",
         1
        ],
        [
         "200007",
         1
        ],
        [
         "300018",
         0
        ],
        [
         "200011",
         0
        ],
        [
         "200009",
         0
        ],
        [
         "200024",
         0
        ],
        [
         "300011",
         1
        ],
        [
         "200014",
         0
        ],
        [
         "200021",
         1
        ],
        [
         "200012",
         0
        ],
        [
         "200019",
         0
        ],
        [
         "300003",
         0
        ],
        [
         "200017",
         0
        ],
        [
         "300017",
         1
        ],
        [
         "300001",
         1
        ],
        [
         "300019",
         0
        ],
        [
         "300024",
         1
        ],
        [
         "200006",
         1
        ],
        [
         "300007",
         0
        ],
        [
         "300010",
         0
        ],
        [
         "300022",
         0
        ],
        [
         "300020",
         1
        ],
        [
         "300013",
         0
        ],
        [
         "200008",
         1
        ],
        [
         "200002",
         0
        ],
        [
         "200003",
         1
        ],
        [
         "300009",
         1
        ],
        [
         "300008",
         1
        ],
        [
         "200004",
         0
        ]
       ],
       "datasetInfos": [],
       "dbfsResultPath": null,
       "isJsonSchema": true,
       "metadata": {},
       "overflow": false,
       "plotOptions": {
        "customPlotOptions": {},
        "displayType": "table",
        "pivotAggregation": null,
        "pivotColumns": null,
        "xColumns": null,
        "yColumns": null
       },
       "removedWidgets": [],
       "schema": [
        {
         "metadata": "{}",
         "name": "userId",
         "type": "\"string\""
        },
        {
         "metadata": "{}",
         "name": "gender",
         "type": "\"integer\""
        }
       ],
       "type": "table"
      }
     },
     "output_type": "display_data"
    }
   ],
   "source": [
    "display(feature_9)"
   ]
  },
  {
   "cell_type": "markdown",
   "metadata": {
    "application/vnd.databricks.v1+cell": {
     "cellMetadata": {},
     "inputWidgets": {},
     "nuid": "caacef13-1c5c-4914-8d36-d41dfe0780fe",
     "showTitle": false,
     "title": ""
    }
   },
   "source": [
    "#### 10.) Number of Artists Listened: ( Count the total of Artists that each user listen to)"
   ]
  },
  {
   "cell_type": "code",
   "execution_count": null,
   "metadata": {
    "application/vnd.databricks.v1+cell": {
     "cellMetadata": {
      "byteLimit": 2048000,
      "rowLimit": 10000
     },
     "inputWidgets": {},
     "nuid": "08d7886a-d702-4558-9c47-cb4e82b95053",
     "showTitle": false,
     "title": ""
    }
   },
   "outputs": [
    {
     "data": {
      "text/html": [
       "<style scoped>\n",
       "  .table-result-container {\n",
       "    max-height: 300px;\n",
       "    overflow: auto;\n",
       "  }\n",
       "  table, th, td {\n",
       "    border: 1px solid black;\n",
       "    border-collapse: collapse;\n",
       "  }\n",
       "  th, td {\n",
       "    padding: 5px;\n",
       "  }\n",
       "  th {\n",
       "    text-align: left;\n",
       "  }\n",
       "</style><div class='table-result-container'><table class='table-result'><thead style='background-color: white'><tr><th>userId</th><th>artist_count</th></tr></thead><tbody><tr><td>100010</td><td>252</td></tr><tr><td>200002</td><td>339</td></tr><tr><td>125</td><td>8</td></tr><tr><td>51</td><td>1385</td></tr><tr><td>124</td><td>2232</td></tr><tr><td>7</td><td>142</td></tr><tr><td>15</td><td>1302</td></tr><tr><td>54</td><td>1744</td></tr><tr><td>155</td><td>643</td></tr><tr><td>132</td><td>1299</td></tr><tr><td>154</td><td>78</td></tr><tr><td>100014</td><td>233</td></tr><tr><td>101</td><td>1241</td></tr><tr><td>11</td><td>534</td></tr><tr><td>138</td><td>1332</td></tr><tr><td>300017</td><td>2070</td></tr><tr><td>29</td><td>1804</td></tr><tr><td>69</td><td>865</td></tr><tr><td>100021</td><td>207</td></tr><tr><td>42</td><td>2073</td></tr><tr><td>112</td><td>195</td></tr><tr><td>73</td><td>334</td></tr><tr><td>87</td><td>622</td></tr><tr><td>64</td><td>46</td></tr><tr><td>200010</td><td>214</td></tr><tr><td>3</td><td>197</td></tr><tr><td>30</td><td>1018</td></tr><tr><td>113</td><td>1111</td></tr><tr><td>34</td><td>53</td></tr><tr><td>133</td><td>32</td></tr><tr><td>59</td><td>578</td></tr><tr><td>146</td><td>541</td></tr><tr><td>139</td><td>334</td></tr><tr><td>8</td><td>230</td></tr><tr><td>28</td><td>1075</td></tr><tr><td>22</td><td>28</td></tr><tr><td>300018</td><td>1170</td></tr><tr><td>300012</td><td>524</td></tr><tr><td>100022</td><td>555</td></tr><tr><td>85</td><td>2124</td></tr><tr><td>52</td><td>809</td></tr><tr><td>35</td><td>1098</td></tr><tr><td>16</td><td>550</td></tr><tr><td>300008</td><td>1001</td></tr><tr><td>71</td><td>248</td></tr><tr><td>98</td><td>1534</td></tr><tr><td>300013</td><td>292</td></tr><tr><td>47</td><td>192</td></tr><tr><td>99</td><td>424</td></tr><tr><td>100008</td><td>623</td></tr><tr><td>100025</td><td>410</td></tr><tr><td>107</td><td>224</td></tr><tr><td>110</td><td>163</td></tr><tr><td>300006</td><td>257</td></tr><tr><td>300002</td><td>1106</td></tr><tr><td>96</td><td>1237</td></tr><tr><td>43</td><td>164</td></tr><tr><td>300007</td><td>107</td></tr><tr><td>5</td><td>154</td></tr><tr><td>100</td><td>1705</td></tr><tr><td>100006</td><td>26</td></tr><tr><td>18</td><td>374</td></tr><tr><td>70</td><td>1062</td></tr><tr><td>100005</td><td>149</td></tr><tr><td>27</td><td>201</td></tr><tr><td>61</td><td>1093</td></tr><tr><td>75</td><td>646</td></tr><tr><td>131</td><td>1100</td></tr><tr><td>17</td><td>741</td></tr><tr><td>140</td><td>2819</td></tr><tr><td>126</td><td>1643</td></tr><tr><td>26</td><td>229</td></tr><tr><td>100007</td><td>357</td></tr><tr><td>120</td><td>1117</td></tr><tr><td>200007</td><td>64</td></tr><tr><td>46</td><td>710</td></tr><tr><td>300004</td><td>187</td></tr><tr><td>147</td><td>466</td></tr><tr><td>300001</td><td>1201</td></tr><tr><td>78</td><td>226</td></tr><tr><td>300015</td><td>1601</td></tr><tr><td>77</td><td>808</td></tr><tr><td>89</td><td>545</td></tr><tr><td>136</td><td>1395</td></tr><tr><td>118</td><td>1533</td></tr><tr><td>6</td><td>1868</td></tr><tr><td>300019</td><td>650</td></tr><tr><td>200014</td><td>592</td></tr><tr><td>100009</td><td>442</td></tr><tr><td>300011</td><td>2491</td></tr><tr><td>104</td><td>1214</td></tr><tr><td>60</td><td>1137</td></tr><tr><td>68</td><td>29</td></tr><tr><td>90</td><td>37</td></tr><tr><td>100004</td><td>733</td></tr><tr><td>200003</td><td>615</td></tr><tr><td>100015</td><td>627</td></tr><tr><td>19</td><td>197</td></tr><tr><td>300023</td><td>1235</td></tr><tr><td>300024</td><td>85</td></tr><tr><td>41</td><td>1319</td></tr><tr><td>128</td><td>1163</td></tr><tr><td>23</td><td>553</td></tr><tr><td>200024</td><td>368</td></tr><tr><td>102</td><td>152</td></tr><tr><td>55</td><td>343</td></tr><tr><td>200008</td><td>1159</td></tr><tr><td>111</td><td>561</td></tr><tr><td>100016</td><td>431</td></tr><tr><td>100003</td><td>50</td></tr><tr><td>95</td><td>1153</td></tr><tr><td>93</td><td>509</td></tr><tr><td>40</td><td>825</td></tr><tr><td>103</td><td>834</td></tr><tr><td>38</td><td>939</td></tr><tr><td>200005</td><td>131</td></tr><tr><td>25</td><td>1275</td></tr><tr><td>200009</td><td>746</td></tr><tr><td>44</td><td>371</td></tr><tr><td>135</td><td>6</td></tr><tr><td>156</td><td>3</td></tr><tr><td>144</td><td>97</td></tr><tr><td>100024</td><td>22</td></tr><tr><td>115</td><td>1212</td></tr><tr><td>82</td><td>1173</td></tr><tr><td>200023</td><td>1756</td></tr><tr><td>53</td><td>1198</td></tr><tr><td>92</td><td>2904</td></tr><tr><td>122</td><td>41</td></tr><tr><td>117</td><td>298</td></tr><tr><td>108</td><td>509</td></tr><tr><td>300010</td><td>244</td></tr><tr><td>86</td><td>543</td></tr><tr><td>200017</td><td>416</td></tr><tr><td>58</td><td>1159</td></tr><tr><td>100019</td><td>61</td></tr><tr><td>100011</td><td>11</td></tr><tr><td>300014</td><td>248</td></tr><tr><td>81</td><td>1307</td></tr><tr><td>114</td><td>932</td></tr><tr><td>33</td><td>921</td></tr><tr><td>150</td><td>170</td></tr><tr><td>100012</td><td>397</td></tr><tr><td>200018</td><td>317</td></tr><tr><td>200025</td><td>627</td></tr><tr><td>300003</td><td>26</td></tr><tr><td>200016</td><td>188</td></tr><tr><td>153</td><td>723</td></tr><tr><td>200020</td><td>861</td></tr><tr><td>141</td><td>728</td></tr><tr><td>148</td><td>350</td></tr><tr><td>97</td><td>1319</td></tr><tr><td>106</td><td>653</td></tr><tr><td>67</td><td>824</td></tr><tr><td>84</td><td>69</td></tr><tr><td>143</td><td>98</td></tr><tr><td>79</td><td>226</td></tr><tr><td>300025</td><td>955</td></tr><tr><td>9</td><td>1672</td></tr><tr><td>24</td><td>402</td></tr><tr><td>32</td><td>76</td></tr><tr><td>116</td><td>60</td></tr><tr><td>152</td><td>982</td></tr><tr><td>134</td><td>37</td></tr><tr><td>88</td><td>1358</td></tr><tr><td>200001</td><td>110</td></tr><tr><td>149</td><td>173</td></tr><tr><td>105</td><td>624</td></tr><tr><td>20</td><td>1216</td></tr><tr><td>200011</td><td>531</td></tr><tr><td>200006</td><td>450</td></tr><tr><td>100023</td><td>350</td></tr><tr><td>142</td><td>1254</td></tr><tr><td>100013</td><td>826</td></tr><tr><td>56</td><td>571</td></tr><tr><td>127</td><td>1221</td></tr><tr><td>36</td><td>860</td></tr><tr><td>300009</td><td>1025</td></tr><tr><td>10</td><td>565</td></tr><tr><td>37</td><td>1017</td></tr><tr><td>300022</td><td>328</td></tr><tr><td>49</td><td>684</td></tr><tr><td>300021</td><td>2167</td></tr><tr><td>200004</td><td>1196</td></tr><tr><td>300005</td><td>288</td></tr><tr><td>100017</td><td>51</td></tr><tr><td>63</td><td>83</td></tr><tr><td>300020</td><td>220</td></tr><tr><td>65</td><td>1377</td></tr><tr><td>121</td><td>587</td></tr><tr><td>4</td><td>1342</td></tr><tr><td>39</td><td>3544</td></tr><tr><td>200012</td><td>66</td></tr><tr><td>62</td><td>1101</td></tr><tr><td>12</td><td>697</td></tr><tr><td>83</td><td>926</td></tr><tr><td>109</td><td>580</td></tr><tr><td>123</td><td>147</td></tr><tr><td>200022</td><td>308</td></tr><tr><td>13</td><td>929</td></tr><tr><td>200019</td><td>427</td></tr><tr><td>21</td><td>413</td></tr><tr><td>14</td><td>904</td></tr><tr><td>66</td><td>806</td></tr><tr><td>91</td><td>1618</td></tr><tr><td>94</td><td>139</td></tr><tr><td>74</td><td>1557</td></tr><tr><td>137</td><td>143</td></tr><tr><td>72</td><td>82</td></tr><tr><td>300016</td><td>461</td></tr><tr><td>151</td><td>132</td></tr><tr><td>200015</td><td>233</td></tr><tr><td>129</td><td>279</td></tr><tr><td>76</td><td>196</td></tr><tr><td>2</td><td>587</td></tr><tr><td>80</td><td>326</td></tr><tr><td>100018</td><td>780</td></tr><tr><td>100002</td><td>184</td></tr><tr><td>145</td><td>868</td></tr><tr><td>50</td><td>423</td></tr><tr><td>45</td><td>1057</td></tr><tr><td>57</td><td>89</td></tr><tr><td>200021</td><td>908</td></tr><tr><td>119</td><td>166</td></tr><tr><td>100001</td><td>125</td></tr></tbody></table></div>"
      ]
     },
     "metadata": {
      "application/vnd.databricks.v1+output": {
       "addedWidgets": {},
       "aggData": [],
       "aggError": "",
       "aggOverflow": false,
       "aggSchema": [],
       "aggSeriesLimitReached": false,
       "aggType": "",
       "arguments": {},
       "columnCustomDisplayInfos": {},
       "data": [
        [
         "100010",
         252
        ],
        [
         "200002",
         339
        ],
        [
         "125",
         8
        ],
        [
         "51",
         1385
        ],
        [
         "124",
         2232
        ],
        [
         "7",
         142
        ],
        [
         "15",
         1302
        ],
        [
         "54",
         1744
        ],
        [
         "155",
         643
        ],
        [
         "132",
         1299
        ],
        [
         "154",
         78
        ],
        [
         "100014",
         233
        ],
        [
         "101",
         1241
        ],
        [
         "11",
         534
        ],
        [
         "138",
         1332
        ],
        [
         "300017",
         2070
        ],
        [
         "29",
         1804
        ],
        [
         "69",
         865
        ],
        [
         "100021",
         207
        ],
        [
         "42",
         2073
        ],
        [
         "112",
         195
        ],
        [
         "73",
         334
        ],
        [
         "87",
         622
        ],
        [
         "64",
         46
        ],
        [
         "200010",
         214
        ],
        [
         "3",
         197
        ],
        [
         "30",
         1018
        ],
        [
         "113",
         1111
        ],
        [
         "34",
         53
        ],
        [
         "133",
         32
        ],
        [
         "59",
         578
        ],
        [
         "146",
         541
        ],
        [
         "139",
         334
        ],
        [
         "8",
         230
        ],
        [
         "28",
         1075
        ],
        [
         "22",
         28
        ],
        [
         "300018",
         1170
        ],
        [
         "300012",
         524
        ],
        [
         "100022",
         555
        ],
        [
         "85",
         2124
        ],
        [
         "52",
         809
        ],
        [
         "35",
         1098
        ],
        [
         "16",
         550
        ],
        [
         "300008",
         1001
        ],
        [
         "71",
         248
        ],
        [
         "98",
         1534
        ],
        [
         "300013",
         292
        ],
        [
         "47",
         192
        ],
        [
         "99",
         424
        ],
        [
         "100008",
         623
        ],
        [
         "100025",
         410
        ],
        [
         "107",
         224
        ],
        [
         "110",
         163
        ],
        [
         "300006",
         257
        ],
        [
         "300002",
         1106
        ],
        [
         "96",
         1237
        ],
        [
         "43",
         164
        ],
        [
         "300007",
         107
        ],
        [
         "5",
         154
        ],
        [
         "100",
         1705
        ],
        [
         "100006",
         26
        ],
        [
         "18",
         374
        ],
        [
         "70",
         1062
        ],
        [
         "100005",
         149
        ],
        [
         "27",
         201
        ],
        [
         "61",
         1093
        ],
        [
         "75",
         646
        ],
        [
         "131",
         1100
        ],
        [
         "17",
         741
        ],
        [
         "140",
         2819
        ],
        [
         "126",
         1643
        ],
        [
         "26",
         229
        ],
        [
         "100007",
         357
        ],
        [
         "120",
         1117
        ],
        [
         "200007",
         64
        ],
        [
         "46",
         710
        ],
        [
         "300004",
         187
        ],
        [
         "147",
         466
        ],
        [
         "300001",
         1201
        ],
        [
         "78",
         226
        ],
        [
         "300015",
         1601
        ],
        [
         "77",
         808
        ],
        [
         "89",
         545
        ],
        [
         "136",
         1395
        ],
        [
         "118",
         1533
        ],
        [
         "6",
         1868
        ],
        [
         "300019",
         650
        ],
        [
         "200014",
         592
        ],
        [
         "100009",
         442
        ],
        [
         "300011",
         2491
        ],
        [
         "104",
         1214
        ],
        [
         "60",
         1137
        ],
        [
         "68",
         29
        ],
        [
         "90",
         37
        ],
        [
         "100004",
         733
        ],
        [
         "200003",
         615
        ],
        [
         "100015",
         627
        ],
        [
         "19",
         197
        ],
        [
         "300023",
         1235
        ],
        [
         "300024",
         85
        ],
        [
         "41",
         1319
        ],
        [
         "128",
         1163
        ],
        [
         "23",
         553
        ],
        [
         "200024",
         368
        ],
        [
         "102",
         152
        ],
        [
         "55",
         343
        ],
        [
         "200008",
         1159
        ],
        [
         "111",
         561
        ],
        [
         "100016",
         431
        ],
        [
         "100003",
         50
        ],
        [
         "95",
         1153
        ],
        [
         "93",
         509
        ],
        [
         "40",
         825
        ],
        [
         "103",
         834
        ],
        [
         "38",
         939
        ],
        [
         "200005",
         131
        ],
        [
         "25",
         1275
        ],
        [
         "200009",
         746
        ],
        [
         "44",
         371
        ],
        [
         "135",
         6
        ],
        [
         "156",
         3
        ],
        [
         "144",
         97
        ],
        [
         "100024",
         22
        ],
        [
         "115",
         1212
        ],
        [
         "82",
         1173
        ],
        [
         "200023",
         1756
        ],
        [
         "53",
         1198
        ],
        [
         "92",
         2904
        ],
        [
         "122",
         41
        ],
        [
         "117",
         298
        ],
        [
         "108",
         509
        ],
        [
         "300010",
         244
        ],
        [
         "86",
         543
        ],
        [
         "200017",
         416
        ],
        [
         "58",
         1159
        ],
        [
         "100019",
         61
        ],
        [
         "100011",
         11
        ],
        [
         "300014",
         248
        ],
        [
         "81",
         1307
        ],
        [
         "114",
         932
        ],
        [
         "33",
         921
        ],
        [
         "150",
         170
        ],
        [
         "100012",
         397
        ],
        [
         "200018",
         317
        ],
        [
         "200025",
         627
        ],
        [
         "300003",
         26
        ],
        [
         "200016",
         188
        ],
        [
         "153",
         723
        ],
        [
         "200020",
         861
        ],
        [
         "141",
         728
        ],
        [
         "148",
         350
        ],
        [
         "97",
         1319
        ],
        [
         "106",
         653
        ],
        [
         "67",
         824
        ],
        [
         "84",
         69
        ],
        [
         "143",
         98
        ],
        [
         "79",
         226
        ],
        [
         "300025",
         955
        ],
        [
         "9",
         1672
        ],
        [
         "24",
         402
        ],
        [
         "32",
         76
        ],
        [
         "116",
         60
        ],
        [
         "152",
         982
        ],
        [
         "134",
         37
        ],
        [
         "88",
         1358
        ],
        [
         "200001",
         110
        ],
        [
         "149",
         173
        ],
        [
         "105",
         624
        ],
        [
         "20",
         1216
        ],
        [
         "200011",
         531
        ],
        [
         "200006",
         450
        ],
        [
         "100023",
         350
        ],
        [
         "142",
         1254
        ],
        [
         "100013",
         826
        ],
        [
         "56",
         571
        ],
        [
         "127",
         1221
        ],
        [
         "36",
         860
        ],
        [
         "300009",
         1025
        ],
        [
         "10",
         565
        ],
        [
         "37",
         1017
        ],
        [
         "300022",
         328
        ],
        [
         "49",
         684
        ],
        [
         "300021",
         2167
        ],
        [
         "200004",
         1196
        ],
        [
         "300005",
         288
        ],
        [
         "100017",
         51
        ],
        [
         "63",
         83
        ],
        [
         "300020",
         220
        ],
        [
         "65",
         1377
        ],
        [
         "121",
         587
        ],
        [
         "4",
         1342
        ],
        [
         "39",
         3544
        ],
        [
         "200012",
         66
        ],
        [
         "62",
         1101
        ],
        [
         "12",
         697
        ],
        [
         "83",
         926
        ],
        [
         "109",
         580
        ],
        [
         "123",
         147
        ],
        [
         "200022",
         308
        ],
        [
         "13",
         929
        ],
        [
         "200019",
         427
        ],
        [
         "21",
         413
        ],
        [
         "14",
         904
        ],
        [
         "66",
         806
        ],
        [
         "91",
         1618
        ],
        [
         "94",
         139
        ],
        [
         "74",
         1557
        ],
        [
         "137",
         143
        ],
        [
         "72",
         82
        ],
        [
         "300016",
         461
        ],
        [
         "151",
         132
        ],
        [
         "200015",
         233
        ],
        [
         "129",
         279
        ],
        [
         "76",
         196
        ],
        [
         "2",
         587
        ],
        [
         "80",
         326
        ],
        [
         "100018",
         780
        ],
        [
         "100002",
         184
        ],
        [
         "145",
         868
        ],
        [
         "50",
         423
        ],
        [
         "45",
         1057
        ],
        [
         "57",
         89
        ],
        [
         "200021",
         908
        ],
        [
         "119",
         166
        ],
        [
         "100001",
         125
        ]
       ],
       "datasetInfos": [],
       "dbfsResultPath": null,
       "isJsonSchema": true,
       "metadata": {},
       "overflow": false,
       "plotOptions": {
        "customPlotOptions": {},
        "displayType": "table",
        "pivotAggregation": null,
        "pivotColumns": null,
        "xColumns": null,
        "yColumns": null
       },
       "removedWidgets": [],
       "schema": [
        {
         "metadata": "{}",
         "name": "userId",
         "type": "\"string\""
        },
        {
         "metadata": "{}",
         "name": "artist_count",
         "type": "\"long\""
        }
       ],
       "type": "table"
      }
     },
     "output_type": "display_data"
    }
   ],
   "source": [
    "feature_10 = data \\\n",
    "    .filter(data.page==\"NextSong\") \\\n",
    "    .select(\"userId\", \"artist\") \\\n",
    "    .dropDuplicates() \\\n",
    "    .groupby(\"userId\") \\\n",
    "    .count() \\\n",
    "    .withColumnRenamed(\"count\", \"artist_count\")\n",
    "display(feature_10)"
   ]
  },
  {
   "cell_type": "code",
   "execution_count": null,
   "metadata": {
    "application/vnd.databricks.v1+cell": {
     "cellMetadata": {
      "byteLimit": 2048000,
      "rowLimit": 10000
     },
     "inputWidgets": {},
     "nuid": "47e59c43-42d0-4423-bc15-afb96599adb2",
     "showTitle": false,
     "title": ""
    }
   },
   "outputs": [
    {
     "data": {
      "text/html": [
       "<style scoped>\n",
       "  .table-result-container {\n",
       "    max-height: 300px;\n",
       "    overflow: auto;\n",
       "  }\n",
       "  table, th, td {\n",
       "    border: 1px solid black;\n",
       "    border-collapse: collapse;\n",
       "  }\n",
       "  th, td {\n",
       "    padding: 5px;\n",
       "  }\n",
       "  th {\n",
       "    text-align: left;\n",
       "  }\n",
       "</style><div class='table-result-container'><table class='table-result'><thead style='background-color: white'><tr><th>summary</th><th>userId</th><th>artist_count</th></tr></thead><tbody><tr><td>count</td><td>225</td><td>225</td></tr><tr><td>mean</td><td>65391.013333333336</td><td>696.3777777777777</td></tr><tr><td>stddev</td><td>105396.47791907162</td><td>603.9518698630803</td></tr><tr><td>min</td><td>10</td><td>3</td></tr><tr><td>max</td><td>99</td><td>3544</td></tr></tbody></table></div>"
      ]
     },
     "metadata": {
      "application/vnd.databricks.v1+output": {
       "addedWidgets": {},
       "aggData": [],
       "aggError": "",
       "aggOverflow": false,
       "aggSchema": [],
       "aggSeriesLimitReached": false,
       "aggType": "",
       "arguments": {},
       "columnCustomDisplayInfos": {},
       "data": [
        [
         "count",
         "225",
         "225"
        ],
        [
         "mean",
         "65391.013333333336",
         "696.3777777777777"
        ],
        [
         "stddev",
         "105396.47791907162",
         "603.9518698630803"
        ],
        [
         "min",
         "10",
         "3"
        ],
        [
         "max",
         "99",
         "3544"
        ]
       ],
       "datasetInfos": [],
       "dbfsResultPath": null,
       "isJsonSchema": true,
       "metadata": {},
       "overflow": false,
       "plotOptions": {
        "customPlotOptions": {},
        "displayType": "table",
        "pivotAggregation": null,
        "pivotColumns": null,
        "xColumns": null,
        "yColumns": null
       },
       "removedWidgets": [],
       "schema": [
        {
         "metadata": "{}",
         "name": "summary",
         "type": "\"string\""
        },
        {
         "metadata": "{}",
         "name": "userId",
         "type": "\"string\""
        },
        {
         "metadata": "{}",
         "name": "artist_count",
         "type": "\"string\""
        }
       ],
       "type": "table"
      }
     },
     "output_type": "display_data"
    }
   ],
   "source": [
    "display(feature_10.describe())"
   ]
  },
  {
   "cell_type": "markdown",
   "metadata": {
    "application/vnd.databricks.v1+cell": {
     "cellMetadata": {},
     "inputWidgets": {},
     "nuid": "7dec18ed-9acc-4cd0-8b75-0d80ca62fc77",
     "showTitle": false,
     "title": ""
    }
   },
   "source": [
    "#### Dependent Variable:\n",
    "- Create a dependent variable from churn column\n",
    "- Create numeric categories of churn label as 1 = churn and 0 = no churn."
   ]
  },
  {
   "cell_type": "code",
   "execution_count": null,
   "metadata": {
    "application/vnd.databricks.v1+cell": {
     "cellMetadata": {
      "byteLimit": 2048000,
      "rowLimit": 10000
     },
     "inputWidgets": {},
     "nuid": "18c7f70c-49cb-4afd-9d1d-c418ba8ffd68",
     "showTitle": false,
     "title": ""
    }
   },
   "outputs": [
    {
     "data": {
      "text/html": [
       "<style scoped>\n",
       "  .table-result-container {\n",
       "    max-height: 300px;\n",
       "    overflow: auto;\n",
       "  }\n",
       "  table, th, td {\n",
       "    border: 1px solid black;\n",
       "    border-collapse: collapse;\n",
       "  }\n",
       "  th, td {\n",
       "    padding: 5px;\n",
       "  }\n",
       "  th {\n",
       "    text-align: left;\n",
       "  }\n",
       "</style><div class='table-result-container'><table class='table-result'><thead style='background-color: white'><tr><th>userId</th><th>label</th></tr></thead><tbody><tr><td>10</td><td>0</td></tr><tr><td>100</td><td>0</td></tr><tr><td>100001</td><td>1</td></tr><tr><td>100002</td><td>0</td></tr><tr><td>100003</td><td>1</td></tr><tr><td>100004</td><td>0</td></tr><tr><td>100005</td><td>1</td></tr><tr><td>100006</td><td>1</td></tr><tr><td>100007</td><td>1</td></tr><tr><td>100008</td><td>0</td></tr><tr><td>100009</td><td>1</td></tr><tr><td>100010</td><td>0</td></tr><tr><td>100011</td><td>1</td></tr><tr><td>100012</td><td>1</td></tr><tr><td>100013</td><td>1</td></tr><tr><td>100014</td><td>1</td></tr><tr><td>100015</td><td>1</td></tr><tr><td>100016</td><td>0</td></tr><tr><td>100017</td><td>1</td></tr><tr><td>100018</td><td>0</td></tr><tr><td>100019</td><td>1</td></tr><tr><td>100021</td><td>1</td></tr><tr><td>100022</td><td>1</td></tr><tr><td>100023</td><td>1</td></tr><tr><td>100024</td><td>1</td></tr><tr><td>100025</td><td>1</td></tr><tr><td>101</td><td>1</td></tr><tr><td>102</td><td>0</td></tr><tr><td>103</td><td>1</td></tr><tr><td>104</td><td>0</td></tr><tr><td>105</td><td>1</td></tr><tr><td>106</td><td>1</td></tr><tr><td>107</td><td>0</td></tr><tr><td>108</td><td>0</td></tr><tr><td>109</td><td>0</td></tr><tr><td>11</td><td>0</td></tr><tr><td>110</td><td>0</td></tr><tr><td>111</td><td>0</td></tr><tr><td>112</td><td>0</td></tr><tr><td>113</td><td>0</td></tr><tr><td>114</td><td>0</td></tr><tr><td>115</td><td>0</td></tr><tr><td>116</td><td>0</td></tr><tr><td>117</td><td>0</td></tr><tr><td>118</td><td>0</td></tr><tr><td>119</td><td>0</td></tr><tr><td>12</td><td>1</td></tr><tr><td>120</td><td>0</td></tr><tr><td>121</td><td>1</td></tr><tr><td>122</td><td>1</td></tr><tr><td>123</td><td>0</td></tr><tr><td>124</td><td>0</td></tr><tr><td>125</td><td>1</td></tr><tr><td>126</td><td>0</td></tr><tr><td>127</td><td>0</td></tr><tr><td>128</td><td>0</td></tr><tr><td>129</td><td>1</td></tr><tr><td>13</td><td>0</td></tr><tr><td>131</td><td>0</td></tr><tr><td>132</td><td>0</td></tr><tr><td>133</td><td>0</td></tr><tr><td>134</td><td>0</td></tr><tr><td>135</td><td>0</td></tr><tr><td>136</td><td>0</td></tr><tr><td>137</td><td>0</td></tr><tr><td>138</td><td>0</td></tr><tr><td>139</td><td>0</td></tr><tr><td>14</td><td>0</td></tr><tr><td>140</td><td>0</td></tr><tr><td>141</td><td>0</td></tr><tr><td>142</td><td>0</td></tr><tr><td>143</td><td>1</td></tr><tr><td>144</td><td>0</td></tr><tr><td>145</td><td>0</td></tr><tr><td>146</td><td>0</td></tr><tr><td>147</td><td>0</td></tr><tr><td>148</td><td>0</td></tr><tr><td>149</td><td>0</td></tr><tr><td>15</td><td>0</td></tr><tr><td>150</td><td>0</td></tr><tr><td>151</td><td>0</td></tr><tr><td>152</td><td>0</td></tr><tr><td>153</td><td>0</td></tr><tr><td>154</td><td>0</td></tr><tr><td>155</td><td>0</td></tr><tr><td>156</td><td>0</td></tr><tr><td>16</td><td>0</td></tr><tr><td>17</td><td>1</td></tr><tr><td>18</td><td>1</td></tr><tr><td>19</td><td>0</td></tr><tr><td>2</td><td>0</td></tr><tr><td>20</td><td>0</td></tr><tr><td>200001</td><td>1</td></tr><tr><td>200002</td><td>0</td></tr><tr><td>200003</td><td>0</td></tr><tr><td>200004</td><td>0</td></tr><tr><td>200005</td><td>0</td></tr><tr><td>200006</td><td>0</td></tr><tr><td>200007</td><td>0</td></tr><tr><td>200008</td><td>0</td></tr><tr><td>200009</td><td>0</td></tr><tr><td>200010</td><td>0</td></tr><tr><td>200011</td><td>1</td></tr><tr><td>200012</td><td>0</td></tr><tr><td>200014</td><td>0</td></tr><tr><td>200015</td><td>1</td></tr><tr><td>200016</td><td>1</td></tr><tr><td>200017</td><td>1</td></tr><tr><td>200018</td><td>1</td></tr><tr><td>200019</td><td>0</td></tr><tr><td>200020</td><td>1</td></tr><tr><td>200021</td><td>1</td></tr><tr><td>200022</td><td>0</td></tr><tr><td>200023</td><td>0</td></tr><tr><td>200024</td><td>1</td></tr><tr><td>200025</td><td>0</td></tr><tr><td>21</td><td>0</td></tr><tr><td>22</td><td>0</td></tr><tr><td>23</td><td>0</td></tr><tr><td>24</td><td>0</td></tr><tr><td>25</td><td>0</td></tr><tr><td>26</td><td>0</td></tr><tr><td>27</td><td>0</td></tr><tr><td>28</td><td>1</td></tr><tr><td>29</td><td>1</td></tr><tr><td>3</td><td>1</td></tr><tr><td>30</td><td>0</td></tr><tr><td>300001</td><td>1</td></tr><tr><td>300002</td><td>0</td></tr><tr><td>300003</td><td>0</td></tr><tr><td>300004</td><td>0</td></tr><tr><td>300005</td><td>0</td></tr><tr><td>300006</td><td>0</td></tr><tr><td>300007</td><td>1</td></tr><tr><td>300008</td><td>0</td></tr><tr><td>300009</td><td>0</td></tr><tr><td>300010</td><td>0</td></tr><tr><td>300011</td><td>0</td></tr><tr><td>300012</td><td>0</td></tr><tr><td>300013</td><td>0</td></tr><tr><td>300014</td><td>0</td></tr><tr><td>300015</td><td>0</td></tr><tr><td>300016</td><td>0</td></tr><tr><td>300017</td><td>0</td></tr><tr><td>300018</td><td>0</td></tr><tr><td>300019</td><td>0</td></tr><tr><td>300020</td><td>0</td></tr><tr><td>300021</td><td>0</td></tr><tr><td>300022</td><td>0</td></tr><tr><td>300023</td><td>0</td></tr><tr><td>300024</td><td>0</td></tr><tr><td>300025</td><td>0</td></tr><tr><td>32</td><td>1</td></tr><tr><td>33</td><td>0</td></tr><tr><td>34</td><td>0</td></tr><tr><td>35</td><td>0</td></tr><tr><td>36</td><td>0</td></tr><tr><td>37</td><td>0</td></tr><tr><td>38</td><td>0</td></tr><tr><td>39</td><td>0</td></tr><tr><td>4</td><td>0</td></tr><tr><td>40</td><td>0</td></tr><tr><td>41</td><td>0</td></tr><tr><td>42</td><td>0</td></tr><tr><td>43</td><td>0</td></tr><tr><td>44</td><td>0</td></tr><tr><td>45</td><td>0</td></tr><tr><td>46</td><td>0</td></tr><tr><td>47</td><td>0</td></tr><tr><td>49</td><td>0</td></tr><tr><td>5</td><td>0</td></tr><tr><td>50</td><td>0</td></tr><tr><td>51</td><td>1</td></tr><tr><td>52</td><td>0</td></tr><tr><td>53</td><td>1</td></tr><tr><td>54</td><td>1</td></tr><tr><td>55</td><td>0</td></tr><tr><td>56</td><td>0</td></tr><tr><td>57</td><td>0</td></tr><tr><td>58</td><td>1</td></tr><tr><td>59</td><td>0</td></tr><tr><td>6</td><td>0</td></tr><tr><td>60</td><td>0</td></tr><tr><td>61</td><td>0</td></tr><tr><td>62</td><td>0</td></tr><tr><td>63</td><td>0</td></tr><tr><td>64</td><td>0</td></tr><tr><td>65</td><td>0</td></tr><tr><td>66</td><td>0</td></tr><tr><td>67</td><td>0</td></tr><tr><td>68</td><td>0</td></tr><tr><td>69</td><td>0</td></tr><tr><td>7</td><td>0</td></tr><tr><td>70</td><td>1</td></tr><tr><td>71</td><td>0</td></tr><tr><td>72</td><td>0</td></tr><tr><td>73</td><td>1</td></tr><tr><td>74</td><td>0</td></tr><tr><td>75</td><td>0</td></tr><tr><td>76</td><td>0</td></tr><tr><td>77</td><td>0</td></tr><tr><td>78</td><td>0</td></tr><tr><td>79</td><td>0</td></tr><tr><td>8</td><td>0</td></tr><tr><td>80</td><td>0</td></tr><tr><td>81</td><td>0</td></tr><tr><td>82</td><td>0</td></tr><tr><td>83</td><td>0</td></tr><tr><td>84</td><td>0</td></tr><tr><td>85</td><td>0</td></tr><tr><td>86</td><td>0</td></tr><tr><td>87</td><td>1</td></tr><tr><td>88</td><td>0</td></tr><tr><td>89</td><td>0</td></tr><tr><td>9</td><td>0</td></tr><tr><td>90</td><td>0</td></tr><tr><td>91</td><td>0</td></tr><tr><td>92</td><td>0</td></tr><tr><td>93</td><td>0</td></tr><tr><td>94</td><td>0</td></tr><tr><td>95</td><td>0</td></tr><tr><td>96</td><td>0</td></tr><tr><td>97</td><td>0</td></tr><tr><td>98</td><td>0</td></tr><tr><td>99</td><td>0</td></tr></tbody></table></div>"
      ]
     },
     "metadata": {
      "application/vnd.databricks.v1+output": {
       "addedWidgets": {},
       "aggData": [],
       "aggError": "",
       "aggOverflow": false,
       "aggSchema": [],
       "aggSeriesLimitReached": false,
       "aggType": "",
       "arguments": {},
       "columnCustomDisplayInfos": {},
       "data": [
        [
         "10",
         0
        ],
        [
         "100",
         0
        ],
        [
         "100001",
         1
        ],
        [
         "100002",
         0
        ],
        [
         "100003",
         1
        ],
        [
         "100004",
         0
        ],
        [
         "100005",
         1
        ],
        [
         "100006",
         1
        ],
        [
         "100007",
         1
        ],
        [
         "100008",
         0
        ],
        [
         "100009",
         1
        ],
        [
         "100010",
         0
        ],
        [
         "100011",
         1
        ],
        [
         "100012",
         1
        ],
        [
         "100013",
         1
        ],
        [
         "100014",
         1
        ],
        [
         "100015",
         1
        ],
        [
         "100016",
         0
        ],
        [
         "100017",
         1
        ],
        [
         "100018",
         0
        ],
        [
         "100019",
         1
        ],
        [
         "100021",
         1
        ],
        [
         "100022",
         1
        ],
        [
         "100023",
         1
        ],
        [
         "100024",
         1
        ],
        [
         "100025",
         1
        ],
        [
         "101",
         1
        ],
        [
         "102",
         0
        ],
        [
         "103",
         1
        ],
        [
         "104",
         0
        ],
        [
         "105",
         1
        ],
        [
         "106",
         1
        ],
        [
         "107",
         0
        ],
        [
         "108",
         0
        ],
        [
         "109",
         0
        ],
        [
         "11",
         0
        ],
        [
         "110",
         0
        ],
        [
         "111",
         0
        ],
        [
         "112",
         0
        ],
        [
         "113",
         0
        ],
        [
         "114",
         0
        ],
        [
         "115",
         0
        ],
        [
         "116",
         0
        ],
        [
         "117",
         0
        ],
        [
         "118",
         0
        ],
        [
         "119",
         0
        ],
        [
         "12",
         1
        ],
        [
         "120",
         0
        ],
        [
         "121",
         1
        ],
        [
         "122",
         1
        ],
        [
         "123",
         0
        ],
        [
         "124",
         0
        ],
        [
         "125",
         1
        ],
        [
         "126",
         0
        ],
        [
         "127",
         0
        ],
        [
         "128",
         0
        ],
        [
         "129",
         1
        ],
        [
         "13",
         0
        ],
        [
         "131",
         0
        ],
        [
         "132",
         0
        ],
        [
         "133",
         0
        ],
        [
         "134",
         0
        ],
        [
         "135",
         0
        ],
        [
         "136",
         0
        ],
        [
         "137",
         0
        ],
        [
         "138",
         0
        ],
        [
         "139",
         0
        ],
        [
         "14",
         0
        ],
        [
         "140",
         0
        ],
        [
         "141",
         0
        ],
        [
         "142",
         0
        ],
        [
         "143",
         1
        ],
        [
         "144",
         0
        ],
        [
         "145",
         0
        ],
        [
         "146",
         0
        ],
        [
         "147",
         0
        ],
        [
         "148",
         0
        ],
        [
         "149",
         0
        ],
        [
         "15",
         0
        ],
        [
         "150",
         0
        ],
        [
         "151",
         0
        ],
        [
         "152",
         0
        ],
        [
         "153",
         0
        ],
        [
         "154",
         0
        ],
        [
         "155",
         0
        ],
        [
         "156",
         0
        ],
        [
         "16",
         0
        ],
        [
         "17",
         1
        ],
        [
         "18",
         1
        ],
        [
         "19",
         0
        ],
        [
         "2",
         0
        ],
        [
         "20",
         0
        ],
        [
         "200001",
         1
        ],
        [
         "200002",
         0
        ],
        [
         "200003",
         0
        ],
        [
         "200004",
         0
        ],
        [
         "200005",
         0
        ],
        [
         "200006",
         0
        ],
        [
         "200007",
         0
        ],
        [
         "200008",
         0
        ],
        [
         "200009",
         0
        ],
        [
         "200010",
         0
        ],
        [
         "200011",
         1
        ],
        [
         "200012",
         0
        ],
        [
         "200014",
         0
        ],
        [
         "200015",
         1
        ],
        [
         "200016",
         1
        ],
        [
         "200017",
         1
        ],
        [
         "200018",
         1
        ],
        [
         "200019",
         0
        ],
        [
         "200020",
         1
        ],
        [
         "200021",
         1
        ],
        [
         "200022",
         0
        ],
        [
         "200023",
         0
        ],
        [
         "200024",
         1
        ],
        [
         "200025",
         0
        ],
        [
         "21",
         0
        ],
        [
         "22",
         0
        ],
        [
         "23",
         0
        ],
        [
         "24",
         0
        ],
        [
         "25",
         0
        ],
        [
         "26",
         0
        ],
        [
         "27",
         0
        ],
        [
         "28",
         1
        ],
        [
         "29",
         1
        ],
        [
         "3",
         1
        ],
        [
         "30",
         0
        ],
        [
         "300001",
         1
        ],
        [
         "300002",
         0
        ],
        [
         "300003",
         0
        ],
        [
         "300004",
         0
        ],
        [
         "300005",
         0
        ],
        [
         "300006",
         0
        ],
        [
         "300007",
         1
        ],
        [
         "300008",
         0
        ],
        [
         "300009",
         0
        ],
        [
         "300010",
         0
        ],
        [
         "300011",
         0
        ],
        [
         "300012",
         0
        ],
        [
         "300013",
         0
        ],
        [
         "300014",
         0
        ],
        [
         "300015",
         0
        ],
        [
         "300016",
         0
        ],
        [
         "300017",
         0
        ],
        [
         "300018",
         0
        ],
        [
         "300019",
         0
        ],
        [
         "300020",
         0
        ],
        [
         "300021",
         0
        ],
        [
         "300022",
         0
        ],
        [
         "300023",
         0
        ],
        [
         "300024",
         0
        ],
        [
         "300025",
         0
        ],
        [
         "32",
         1
        ],
        [
         "33",
         0
        ],
        [
         "34",
         0
        ],
        [
         "35",
         0
        ],
        [
         "36",
         0
        ],
        [
         "37",
         0
        ],
        [
         "38",
         0
        ],
        [
         "39",
         0
        ],
        [
         "4",
         0
        ],
        [
         "40",
         0
        ],
        [
         "41",
         0
        ],
        [
         "42",
         0
        ],
        [
         "43",
         0
        ],
        [
         "44",
         0
        ],
        [
         "45",
         0
        ],
        [
         "46",
         0
        ],
        [
         "47",
         0
        ],
        [
         "49",
         0
        ],
        [
         "5",
         0
        ],
        [
         "50",
         0
        ],
        [
         "51",
         1
        ],
        [
         "52",
         0
        ],
        [
         "53",
         1
        ],
        [
         "54",
         1
        ],
        [
         "55",
         0
        ],
        [
         "56",
         0
        ],
        [
         "57",
         0
        ],
        [
         "58",
         1
        ],
        [
         "59",
         0
        ],
        [
         "6",
         0
        ],
        [
         "60",
         0
        ],
        [
         "61",
         0
        ],
        [
         "62",
         0
        ],
        [
         "63",
         0
        ],
        [
         "64",
         0
        ],
        [
         "65",
         0
        ],
        [
         "66",
         0
        ],
        [
         "67",
         0
        ],
        [
         "68",
         0
        ],
        [
         "69",
         0
        ],
        [
         "7",
         0
        ],
        [
         "70",
         1
        ],
        [
         "71",
         0
        ],
        [
         "72",
         0
        ],
        [
         "73",
         1
        ],
        [
         "74",
         0
        ],
        [
         "75",
         0
        ],
        [
         "76",
         0
        ],
        [
         "77",
         0
        ],
        [
         "78",
         0
        ],
        [
         "79",
         0
        ],
        [
         "8",
         0
        ],
        [
         "80",
         0
        ],
        [
         "81",
         0
        ],
        [
         "82",
         0
        ],
        [
         "83",
         0
        ],
        [
         "84",
         0
        ],
        [
         "85",
         0
        ],
        [
         "86",
         0
        ],
        [
         "87",
         1
        ],
        [
         "88",
         0
        ],
        [
         "89",
         0
        ],
        [
         "9",
         0
        ],
        [
         "90",
         0
        ],
        [
         "91",
         0
        ],
        [
         "92",
         0
        ],
        [
         "93",
         0
        ],
        [
         "94",
         0
        ],
        [
         "95",
         0
        ],
        [
         "96",
         0
        ],
        [
         "97",
         0
        ],
        [
         "98",
         0
        ],
        [
         "99",
         0
        ]
       ],
       "datasetInfos": [],
       "dbfsResultPath": null,
       "isJsonSchema": true,
       "metadata": {},
       "overflow": false,
       "plotOptions": {
        "customPlotOptions": {},
        "displayType": "table",
        "pivotAggregation": null,
        "pivotColumns": null,
        "xColumns": null,
        "yColumns": null
       },
       "removedWidgets": [],
       "schema": [
        {
         "metadata": "{}",
         "name": "userId",
         "type": "\"string\""
        },
        {
         "metadata": "{}",
         "name": "label",
         "type": "\"long\""
        }
       ],
       "type": "table"
      }
     },
     "output_type": "display_data"
    }
   ],
   "source": [
    "# Change the name of churn collumn to label and drop all duplicate in UserID columns\n",
    "label_churn = data \\\n",
    "    .select('userId', col('churn').alias('label')) \\\n",
    "    .dropDuplicates()\n",
    "display(label_churn)"
   ]
  },
  {
   "cell_type": "markdown",
   "metadata": {
    "application/vnd.databricks.v1+cell": {
     "cellMetadata": {},
     "inputWidgets": {},
     "nuid": "f338b3c3-494b-4bd2-90cd-6afedd7a7fe5",
     "showTitle": false,
     "title": ""
    }
   },
   "source": [
    "#### Construct the DataSet for AI"
   ]
  },
  {
   "cell_type": "markdown",
   "metadata": {
    "application/vnd.databricks.v1+cell": {
     "cellMetadata": {},
     "inputWidgets": {},
     "nuid": "346fcc19-f531-4be5-ae63-1d8bd3854f5c",
     "showTitle": false,
     "title": ""
    }
   },
   "source": [
    "##### - Joint all the feature table and label table into dataframe with outer join based on userID and fillna with 0"
   ]
  },
  {
   "cell_type": "code",
   "execution_count": null,
   "metadata": {
    "application/vnd.databricks.v1+cell": {
     "cellMetadata": {
      "byteLimit": 2048000,
      "rowLimit": 10000
     },
     "inputWidgets": {},
     "nuid": "1d63f0f1-078f-4637-b72b-b139b7490c9a",
     "showTitle": false,
     "title": ""
    }
   },
   "outputs": [],
   "source": [
    "# Add columns to the dataframe to create a dataset fed the AI model \n",
    "data = feature_1.join(feature_2,'userID','outer') \\\n",
    "    .join(feature_3,'userID','outer') \\\n",
    "    .join(feature_4,'userID','outer') \\\n",
    "    .join(feature_5,'userID','outer') \\\n",
    "    .join(feature_6,'userID','outer') \\\n",
    "    .join(feature_7,'userID','outer') \\\n",
    "    .join(feature_8,'userID','outer') \\\n",
    "    .join(feature_9,'userID','outer') \\\n",
    "    .join(feature_10,'userID','outer') \\\n",
    "    .join(label_churn,'userID','outer') \\\n",
    "    .drop('userID') \\\n",
    "    .fillna(0)"
   ]
  },
  {
   "cell_type": "code",
   "execution_count": null,
   "metadata": {
    "application/vnd.databricks.v1+cell": {
     "cellMetadata": {
      "byteLimit": 2048000,
      "rowLimit": 10000
     },
     "inputWidgets": {},
     "nuid": "3a4fdebc-ba24-4ffa-a224-8a1e4e98860a",
     "showTitle": false,
     "title": ""
    }
   },
   "outputs": [
    {
     "data": {
      "text/html": [
       "<style scoped>\n",
       "  .table-result-container {\n",
       "    max-height: 300px;\n",
       "    overflow: auto;\n",
       "  }\n",
       "  table, th, td {\n",
       "    border: 1px solid black;\n",
       "    border-collapse: collapse;\n",
       "  }\n",
       "  th, td {\n",
       "    padding: 5px;\n",
       "  }\n",
       "  th {\n",
       "    text-align: left;\n",
       "  }\n",
       "</style><div class='table-result-container'><table class='table-result'><thead style='background-color: white'><tr><th>lifetime</th><th>total_songs</th><th>num_thumb_up</th><th>num_thumb_down</th><th>add_to_playlist</th><th>add_friend</th><th>listen_time</th><th>avg_songs_played</th><th>gender</th><th>artist_count</th><th>label</th></tr></thead><tbody><tr><td>51.76265046296297</td><td>795</td><td>37</td><td>4</td><td>9</td><td>12</td><td>166866.37251000004</td><td>112.16666666666667</td><td>0</td><td>565</td><td>0</td></tr><tr><td>64.87377314814815</td><td>3214</td><td>148</td><td>27</td><td>61</td><td>49</td><td>672877.8565899997</td><td>78.88235294117646</td><td>0</td><td>1705</td><td>0</td></tr><tr><td>44.80021990740741</td><td>187</td><td>8</td><td>2</td><td>3</td><td>2</td><td>35073.742150000005</td><td>33.25</td><td>1</td><td>125</td><td>1</td></tr><tr><td>160.47207175925925</td><td>218</td><td>5</td><td>0</td><td>5</td><td>1</td><td>49559.9181</td><td>48.75</td><td>1</td><td>184</td><td>0</td></tr><tr><td>22.748113425925926</td><td>78</td><td>3</td><td>0</td><td>2</td><td>0</td><td>12306.419320000003</td><td>25.5</td><td>1</td><td>50</td><td>1</td></tr><tr><td>172.44008101851853</td><td>1245</td><td>35</td><td>11</td><td>23</td><td>19</td><td>231480.3892899999</td><td>47.1</td><td>1</td><td>733</td><td>0</td></tr><tr><td>85.19559027777778</td><td>216</td><td>7</td><td>3</td><td>3</td><td>3</td><td>37037.12201000001</td><td>38.5</td><td>0</td><td>149</td><td>1</td></tr><tr><td>9.127164351851851</td><td>44</td><td>2</td><td>2</td><td>1</td><td>4</td><td>5854.89105</td><td>26.0</td><td>1</td><td>26</td><td>1</td></tr><tr><td>115.38761574074074</td><td>520</td><td>19</td><td>6</td><td>9</td><td>17</td><td>104495.32492000004</td><td>47.0</td><td>1</td><td>357</td><td>1</td></tr><tr><td>68.22856481481482</td><td>940</td><td>37</td><td>6</td><td>30</td><td>17</td><td>191396.79602</td><td>128.66666666666666</td><td>1</td><td>623</td><td>0</td></tr><tr><td>37.43827546296296</td><td>671</td><td>23</td><td>8</td><td>12</td><td>7</td><td>129745.78967999991</td><td>51.8</td><td>0</td><td>442</td><td>1</td></tr><tr><td>55.6436574074074</td><td>381</td><td>17</td><td>5</td><td>7</td><td>4</td><td>66940.89735</td><td>39.285714285714285</td><td>1</td><td>252</td><td>0</td></tr><tr><td>5.165115740740741</td><td>23</td><td>0</td><td>1</td><td>2</td><td>0</td><td>2841.6995</td><td>11.0</td><td>0</td><td>11</td><td>1</td></tr><tr><td>43.05261574074074</td><td>600</td><td>18</td><td>9</td><td>12</td><td>2</td><td>115503.35311000001</td><td>79.33333333333333</td><td>0</td><td>397</td><td>1</td></tr><tr><td>44.17873842592593</td><td>1392</td><td>39</td><td>15</td><td>31</td><td>28</td><td>280391.7941099999</td><td>87.0</td><td>1</td><td>826</td><td>1</td></tr><tr><td>85.08340277777778</td><td>310</td><td>17</td><td>3</td><td>7</td><td>6</td><td>67703.47208</td><td>42.833333333333336</td><td>0</td><td>233</td><td>1</td></tr><tr><td>67.87921296296297</td><td>1050</td><td>35</td><td>8</td><td>22</td><td>14</td><td>194617.91655000005</td><td>66.66666666666667</td><td>1</td><td>627</td><td>1</td></tr><tr><td>75.01533564814815</td><td>638</td><td>25</td><td>5</td><td>6</td><td>13</td><td>129376.75234</td><td>66.25</td><td>0</td><td>431</td><td>0</td></tr><tr><td>78.88440972222223</td><td>75</td><td>2</td><td>1</td><td>1</td><td>0</td><td>12261.723399999999</td><td>52.0</td><td>0</td><td>51</td><td>1</td></tr><tr><td>110.71211805555555</td><td>1288</td><td>46</td><td>9</td><td>31</td><td>23</td><td>248530.32762999996</td><td>50.1</td><td>0</td><td>780</td><td>0</td></tr><tr><td>31.19925925925926</td><td>89</td><td>1</td><td>1</td><td>2</td><td>2</td><td>15585.069069999996</td><td>31.0</td><td>0</td><td>61</td><td>1</td></tr><tr><td>64.73886574074074</td><td>319</td><td>11</td><td>5</td><td>7</td><td>7</td><td>57633.175639999994</td><td>46.0</td><td>0</td><td>207</td><td>1</td></tr><tr><td>47.92025462962963</td><td>964</td><td>45</td><td>20</td><td>14</td><td>11</td><td>168612.26269000003</td><td>34.05</td><td>1</td><td>555</td><td>1</td></tr><tr><td>32.362118055555555</td><td>494</td><td>10</td><td>2</td><td>11</td><td>14</td><td>103498.18599000001</td><td>40.7</td><td>0</td><td>350</td><td>1</td></tr><tr><td>27.221655092592595</td><td>36</td><td>5</td><td>0</td><td>0</td><td>0</td><td>5160.53207</td><td>22.0</td><td>0</td><td>22</td><td>1</td></tr><tr><td>88.81461805555556</td><td>623</td><td>20</td><td>7</td><td>9</td><td>3</td><td>119033.03824000007</td><td>70.0</td><td>1</td><td>410</td><td>1</td></tr><tr><td>53.965937499999995</td><td>2149</td><td>86</td><td>16</td><td>61</td><td>29</td><td>447464.0146699989</td><td>179.7</td><td>0</td><td>1241</td><td>1</td></tr><tr><td>64.68184027777778</td><td>202</td><td>6</td><td>2</td><td>1</td><td>0</td><td>42228.87856</td><td>19.75</td><td>0</td><td>152</td><td>0</td></tr><tr><td>42.13234953703704</td><td>1310</td><td>52</td><td>9</td><td>42</td><td>25</td><td>267252.93392000004</td><td>107.3</td><td>1</td><td>834</td><td>1</td></tr><tr><td>125.58270833333334</td><td>2132</td><td>84</td><td>17</td><td>43</td><td>23</td><td>441694.46125000034</td><td>68.5</td><td>1</td><td>1214</td><td>0</td></tr><tr><td>29.607175925925926</td><td>918</td><td>45</td><td>6</td><td>12</td><td>13</td><td>194347.46099000017</td><td>152.8</td><td>0</td><td>624</td><td>1</td></tr><tr><td>40.357511574074074</td><td>1010</td><td>43</td><td>6</td><td>28</td><td>29</td><td>206056.08328000008</td><td>69.91666666666667</td><td>1</td><td>653</td><td>1</td></tr><tr><td>74.21925925925926</td><td>315</td><td>14</td><td>2</td><td>10</td><td>2</td><td>61852.022359999966</td><td>61.5</td><td>1</td><td>224</td><td>0</td></tr><tr><td>62.23815972222223</td><td>764</td><td>20</td><td>6</td><td>15</td><td>15</td><td>156542.79865</td><td>105.5</td><td>1</td><td>509</td><td>0</td></tr><tr><td>87.99846064814814</td><td>861</td><td>23</td><td>5</td><td>16</td><td>12</td><td>178960.94166000007</td><td>59.75</td><td>1</td><td>580</td><td>0</td></tr><tr><td>124.47825231481481</td><td>848</td><td>40</td><td>9</td><td>20</td><td>6</td><td>159669.96304000003</td><td>40.4375</td><td>1</td><td>534</td><td>0</td></tr><tr><td>68.3830787037037</td><td>235</td><td>14</td><td>2</td><td>3</td><td>7</td><td>46353.578100000006</td><td>35.6</td><td>0</td><td>163</td><td>0</td></tr><tr><td>82.22630787037038</td><td>830</td><td>34</td><td>6</td><td>21</td><td>23</td><td>174075.92180999997</td><td>99.71428571428571</td><td>1</td><td>561</td><td>0</td></tr><tr><td>87.46262731481481</td><td>292</td><td>9</td><td>3</td><td>7</td><td>7</td><td>53062.746589999995</td><td>23.88888888888889</td><td>0</td><td>195</td><td>0</td></tr><tr><td>123.53140046296296</td><td>1895</td><td>82</td><td>12</td><td>50</td><td>32</td><td>400094.13202000014</td><td>68.91304347826087</td><td>1</td><td>1111</td><td>0</td></tr><tr><td>71.39887731481481</td><td>1547</td><td>74</td><td>12</td><td>34</td><td>13</td><td>327836.51451999974</td><td>80.75</td><td>0</td><td>932</td><td>0</td></tr><tr><td>74.43959490740741</td><td>2076</td><td>92</td><td>24</td><td>42</td><td>39</td><td>431447.61071000004</td><td>173.7</td><td>1</td><td>1212</td><td>0</td></tr><tr><td>93.96927083333333</td><td>79</td><td>1</td><td>0</td><td>4</td><td>2</td><td>16042.786170000003</td><td>21.0</td><td>1</td><td>60</td><td>0</td></tr><tr><td>72.10061342592593</td><td>445</td><td>11</td><td>3</td><td>10</td><td>10</td><td>88033.85589</td><td>26.384615384615383</td><td>1</td><td>298</td><td>0</td></tr><tr><td>63.12707175925926</td><td>2868</td><td>127</td><td>27</td><td>62</td><td>52</td><td>591048.8892000004</td><td>99.0</td><td>1</td><td>1533</td><td>0</td></tr><tr><td>188.85927083333334</td><td>223</td><td>7</td><td>1</td><td>5</td><td>4</td><td>44717.94927</td><td>28.833333333333332</td><td>1</td><td>166</td><td>0</td></tr><tr><td>73.00452546296296</td><td>1064</td><td>42</td><td>9</td><td>19</td><td>13</td><td>214620.52445999987</td><td>96.33333333333333</td><td>1</td><td>697</td><td>1</td></tr><tr><td>128.10019675925926</td><td>1842</td><td>81</td><td>13</td><td>44</td><td>22</td><td>392401.4950000001</td><td>112.21428571428571</td><td>1</td><td>1117</td><td>0</td></tr><tr><td>131.43560185185186</td><td>916</td><td>28</td><td>8</td><td>20</td><td>20</td><td>179080.18666</td><td>55.84615384615385</td><td>0</td><td>587</td><td>1</td></tr><tr><td>52.816701388888895</td><td>62</td><td>3</td><td>1</td><td>1</td><td>1</td><td>9482.116939999998</td><td>13.666666666666666</td><td>1</td><td>41</td><td>1</td></tr><tr><td>100.19100694444444</td><td>196</td><td>5</td><td>1</td><td>8</td><td>5</td><td>35204.45113</td><td>18.75</td><td>0</td><td>147</td><td>0</td></tr><tr><td>131.55591435185184</td><td>4825</td><td>171</td><td>41</td><td>118</td><td>74</td><td>1012312.0927900008</td><td>145.67857142857142</td><td>1</td><td>2232</td><td>0</td></tr><tr><td>71.31688657407408</td><td>11</td><td>0</td><td>0</td><td>0</td><td>0</td><td>2089.1131000000005</td><td>8.0</td><td>0</td><td>8</td><td>1</td></tr><tr><td>62.09569444444444</td><td>3102</td><td>135</td><td>21</td><td>72</td><td>33</td><td>648839.6085999997</td><td>88.86206896551724</td><td>0</td><td>1643</td><td>0</td></tr><tr><td>75.88082175925926</td><td>2125</td><td>93</td><td>15</td><td>52</td><td>26</td><td>446745.52476000006</td><td>104.6470588235294</td><td>1</td><td>1221</td><td>0</td></tr><tr><td>95.33168981481481</td><td>2067</td><td>87</td><td>18</td><td>53</td><td>28</td><td>429447.28833999985</td><td>108.0</td><td>0</td><td>1163</td><td>0</td></tr><tr><td>16.74056712962963</td><td>412</td><td>7</td><td>7</td><td>11</td><td>11</td><td>81201.27358999997</td><td>55.166666666666664</td><td>0</td><td>279</td><td>1</td></tr><tr><td>119.45459490740741</td><td>1654</td><td>57</td><td>14</td><td>37</td><td>32</td><td>313639.02129</td><td>38.78787878787879</td><td>1</td><td>929</td><td>0</td></tr><tr><td>120.89991898148149</td><td>1863</td><td>72</td><td>20</td><td>51</td><td>26</td><td>389584.29664000025</td><td>92.0</td><td>0</td><td>1100</td><td>0</td></tr><tr><td>66.8891087962963</td><td>2304</td><td>96</td><td>17</td><td>38</td><td>41</td><td>483118.9038399998</td><td>120.5</td><td>1</td><td>1299</td><td>0</td></tr><tr><td>39.88013888888889</td><td>44</td><td>2</td><td>0</td><td>3</td><td>1</td><td>8029.164280000002</td><td>32.0</td><td>0</td><td>32</td><td>0</td></tr><tr><td>65.16515046296296</td><td>52</td><td>3</td><td>1</td><td>2</td><td>0</td><td>9086.70324</td><td>9.25</td><td>0</td><td>37</td><td>0</td></tr><tr><td>72.08957175925926</td><td>6</td><td>0</td><td>0</td><td>0</td><td>0</td><td>1596.44461</td><td>6.0</td><td>1</td><td>6</td><td>0</td></tr><tr><td>75.35636574074074</td><td>2567</td><td>110</td><td>15</td><td>66</td><td>60</td><td>528592.4084900002</td><td>106.2</td><td>1</td><td>1395</td><td>0</td></tr><tr><td>123.35806712962962</td><td>209</td><td>8</td><td>1</td><td>4</td><td>8</td><td>38385.87631000001</td><td>51.333333333333336</td><td>0</td><td>143</td><td>0</td></tr><tr><td>66.62668981481481</td><td>2469</td><td>95</td><td>24</td><td>67</td><td>41</td><td>512449.88275999983</td><td>138.0</td><td>0</td><td>1332</td><td>0</td></tr><tr><td>87.42347222222223</td><td>457</td><td>18</td><td>5</td><td>13</td><td>6</td><td>95068.01512999999</td><td>94.25</td><td>0</td><td>334</td><td>0</td></tr><tr><td>132.54185185185185</td><td>1432</td><td>54</td><td>12</td><td>34</td><td>19</td><td>304778.64878000005</td><td>111.81818181818181</td><td>0</td><td>904</td><td>0</td></tr><tr><td>80.60512731481482</td><td>6880</td><td>277</td><td>75</td><td>148</td><td>143</td><td>1410075.4463300004</td><td>84.53731343283582</td><td>1</td><td>2819</td><td>0</td></tr><tr><td>75.39690972222222</td><td>1102</td><td>42</td><td>5</td><td>27</td><td>17</td><td>229793.79916000017</td><td>92.9</td><td>1</td><td>728</td><td>0</td></tr><tr><td>63.489328703703706</td><td>2240</td><td>111</td><td>13</td><td>50</td><td>28</td><td>467846.87783</td><td>117.1875</td><td>0</td><td>1254</td><td>0</td></tr><tr><td>61.73311342592592</td><td>149</td><td>5</td><td>0</td><td>2</td><td>6</td><td>25091.19337</td><td>16.833333333333332</td><td>1</td><td>98</td><td>1</td></tr><tr><td>98.94381944444444</td><td>125</td><td>4</td><td>1</td><td>3</td><td>4</td><td>24660.383280000002</td><td>49.0</td><td>0</td><td>97</td><td>0</td></tr><tr><td>102.31814814814815</td><td>1347</td><td>61</td><td>8</td><td>27</td><td>34</td><td>286918.09708999994</td><td>80.64285714285714</td><td>1</td><td>868</td><td>0</td></tr><tr><td>86.40864583333332</td><td>837</td><td>38</td><td>9</td><td>13</td><td>9</td><td>163626.54613000003</td><td>38.23529411764706</td><td>0</td><td>541</td><td>0</td></tr><tr><td>68.9053587962963</td><td>672</td><td>28</td><td>3</td><td>12</td><td>15</td><td>136373.30310999998</td><td>60.77777777777778</td><td>0</td><td>466</td><td>0</td></tr><tr><td>70.12188657407408</td><td>518</td><td>28</td><td>3</td><td>5</td><td>7</td><td>97796.86113000003</td><td>33.166666666666664</td><td>0</td><td>350</td><td>0</td></tr><tr><td>46.17971064814815</td><td>240</td><td>11</td><td>1</td><td>5</td><td>9</td><td>48136.58831000001</td><td>62.0</td><td>0</td><td>173</td><td>0</td></tr><tr><td>56.513576388888886</td><td>2278</td><td>81</td><td>14</td><td>59</td><td>31</td><td>477307.6058100001</td><td>136.71428571428572</td><td>0</td><td>1302</td><td>0</td></tr><tr><td>123.96466435185185</td><td>234</td><td>7</td><td>0</td><td>8</td><td>1</td><td>46023.83439000001</td><td>22.25</td><td>0</td><td>170</td><td>0</td></tr><tr><td>42.57099537037037</td><td>163</td><td>4</td><td>1</td><td>2</td><td>3</td><td>32481.139059999998</td><td>138.0</td><td>0</td><td>132</td><td>0</td></tr><tr><td>31.03962962962963</td><td>1682</td><td>81</td><td>12</td><td>43</td><td>24</td><td>354939.5995800004</td><td>74.15789473684211</td><td>0</td><td>982</td><td>0</td></tr><tr><td>27.365162037037038</td><td>1131</td><td>52</td><td>4</td><td>32</td><td>16</td><td>233495.71047999978</td><td>104.55555555555556</td><td>0</td><td>723</td><td>0</td></tr><tr><td>23.872037037037035</td><td>118</td><td>11</td><td>0</td><td>1</td><td>3</td><td>20660.023910000004</td><td>28.0</td><td>1</td><td>78</td><td>0</td></tr><tr><td>23.556018518518517</td><td>1002</td><td>58</td><td>3</td><td>24</td><td>11</td><td>198779.29190000004</td><td>136.66666666666666</td><td>1</td><td>643</td><td>0</td></tr><tr><td>0.31372685185185184</td><td>6</td><td>0</td><td>0</td><td>0</td><td>0</td><td>691.66884</td><td>3.0</td><td>0</td><td>3</td><td>0</td></tr><tr><td>80.40359953703704</td><td>819</td><td>42</td><td>4</td><td>19</td><td>10</td><td>168093.78703</td><td>75.0</td><td>1</td><td>550</td><td>0</td></tr><tr><td>13.099016203703703</td><td>1102</td><td>40</td><td>13</td><td>30</td><td>12</td><td>225482.83847000013</td><td>132.42857142857142</td><td>1</td><td>741</td><td>1</td></tr><tr><td>38.43199074074074</td><td>513</td><td>20</td><td>1</td><td>14</td><td>10</td><td>108674.88802</td><td>71.5</td><td>0</td><td>374</td><td>1</td></tr><tr><td>21.451435185185186</td><td>259</td><td>5</td><td>2</td><td>8</td><td>4</td><td>54480.933869999986</td><td>216.0</td><td>1</td><td>197</td><td>0</td></tr><tr><td>69.90317129629629</td><td>899</td><td>29</td><td>6</td><td>13</td><td>20</td><td>188687.38342000006</td><td>107.85714285714286</td><td>1</td><td>587</td><td>0</td></tr><tr><td>77.02128472222222</td><td>2195</td><td>106</td><td>21</td><td>54</td><td>25</td><td>451089.77978</td><td>100.38888888888889</td><td>1</td><td>1216</td><td>0</td></tr><tr><td>15.909027777777778</td><td>158</td><td>10</td><td>1</td><td>3</td><td>0</td><td>30793.221329999982</td><td>28.75</td><td>0</td><td>110</td><td>1</td></tr><tr><td>70.07462962962963</td><td>474</td><td>21</td><td>6</td><td>8</td><td>4</td><td>94008.87593999993</td><td>64.5</td><td>0</td><td>339</td><td>0</td></tr><tr><td>152.8420601851852</td><td>977</td><td>37</td><td>25</td><td>16</td><td>14</td><td>184388.15249999994</td><td>57.76923076923077</td><td>1</td><td>615</td><td>0</td></tr><tr><td>65.45400462962964</td><td>2130</td><td>85</td><td>54</td><td>67</td><td>21</td><td>434637.8322800003</td><td>67.0</td><td>0</td><td>1196</td><td>0</td></tr><tr><td>113.13180555555556</td><td>174</td><td>7</td><td>0</td><td>5</td><td>3</td><td>32765.638170000006</td><td>23.166666666666668</td><td>0</td><td>131</td><td>0</td></tr><tr><td>73.64201388888888</td><td>740</td><td>21</td><td>19</td><td>17</td><td>8</td><td>133728.87759000005</td><td>25.80952380952381</td><td>1</td><td>450</td><td>0</td></tr><tr><td>53.39774305555556</td><td>76</td><td>2</td><td>0</td><td>0</td><td>1</td><td>15739.869310000002</td><td>32.5</td><td>1</td><td>64</td><td>0</td></tr><tr><td>115.18381944444445</td><td>2012</td><td>68</td><td>52</td><td>45</td><td>27</td><td>410938.76144000026</td><td>111.26666666666667</td><td>1</td><td>1159</td><td>0</td></tr><tr><td>58.839490740740736</td><td>1198</td><td>41</td><td>32</td><td>27</td><td>20</td><td>241600.01870999986</td><td>64.2</td><td>0</td><td>746</td><td>0</td></tr><tr><td>38.142488425925926</td><td>317</td><td>14</td><td>7</td><td>5</td><td>8</td><td>60776.61742999997</td><td>39.5</td><td>1</td><td>214</td><td>0</td></tr><tr><td>109.27394675925926</td><td>848</td><td>37</td><td>24</td><td>18</td><td>13</td><td>166218.2848199999</td><td>59.09090909090909</td><td>0</td><td>531</td><td>1</td></tr><tr><td>65.71107638888888</td><td>84</td><td>3</td><td>1</td><td>0</td><td>3</td><td>16472.36843</td><td>33.0</td><td>0</td><td>66</td><td>0</td></tr><tr><td>128.14015046296296</td><td>982</td><td>43</td><td>28</td><td>25</td><td>20</td><td>187076.41554999974</td><td>74.7</td><td>0</td><td>592</td><td>0</td></tr><tr><td>87.6291550925926</td><td>349</td><td>10</td><td>10</td><td>13</td><td>2</td><td>61024.95394999998</td><td>25.8</td><td>0</td><td>233</td><td>1</td></tr><tr><td>55.769826388888895</td><td>268</td><td>19</td><td>5</td><td>3</td><td>0</td><td>49737.93766</td><td>29.428571428571427</td><td>1</td><td>188</td><td>1</td></tr><tr><td>60.986805555555556</td><td>620</td><td>29</td><td>16</td><td>11</td><td>8</td><td>123526.72496999985</td><td>41.083333333333336</td><td>0</td><td>416</td><td>1</td></tr><tr><td>48.56862268518518</td><td>478</td><td>13</td><td>11</td><td>11</td><td>15</td><td>93505.00914000007</td><td>40.77777777777778</td><td>0</td><td>317</td><td>1</td></tr><tr><td>56.230057870370366</td><td>639</td><td>28</td><td>17</td><td>18</td><td>8</td><td>121838.16904000004</td><td>49.5</td><td>0</td><td>427</td><td>0</td></tr><tr><td>75.99219907407407</td><td>1498</td><td>56</td><td>36</td><td>32</td><td>10</td><td>289959.3589799997</td><td>33.4</td><td>0</td><td>861</td><td>1</td></tr><tr><td>70.66457175925926</td><td>1502</td><td>55</td><td>35</td><td>30</td><td>19</td><td>300718.15056000033</td><td>76.6875</td><td>1</td><td>908</td><td>1</td></tr><tr><td>88.70363425925926</td><td>456</td><td>16</td><td>10</td><td>5</td><td>6</td><td>85942.33360000004</td><td>43.5</td><td>0</td><td>308</td><td>0</td></tr><tr><td>67.18055555555556</td><td>3769</td><td>163</td><td>73</td><td>73</td><td>66</td><td>736821.5204800006</td><td>41.041666666666664</td><td>1</td><td>1756</td><td>0</td></tr><tr><td>28.42769675925926</td><td>552</td><td>19</td><td>13</td><td>15</td><td>9</td><td>103471.7455799999</td><td>52.125</td><td>0</td><td>368</td><td>1</td></tr><tr><td>116.99548611111112</td><td>1026</td><td>48</td><td>27</td><td>16</td><td>24</td><td>194320.02048000018</td><td>71.81818181818181</td><td>0</td><td>627</td><td>0</td></tr><tr><td>68.76866898148148</td><td>589</td><td>27</td><td>2</td><td>9</td><td>8</td><td>120855.15336000003</td><td>124.75</td><td>0</td><td>413</td><td>0</td></tr><tr><td>61.48951388888889</td><td>40</td><td>3</td><td>0</td><td>0</td><td>3</td><td>7403.8208</td><td>14.0</td><td>1</td><td>28</td><td>0</td></tr><tr><td>135.89708333333334</td><td>782</td><td>28</td><td>6</td><td>21</td><td>15</td><td>164815.4020000001</td><td>164.0</td><td>1</td><td>553</td><td>0</td></tr><tr><td>76.95898148148147</td><td>630</td><td>19</td><td>2</td><td>12</td><td>17</td><td>123749.29328000003</td><td>34.42857142857143</td><td>0</td><td>402</td><td>0</td></tr><tr><td>82.50391203703704</td><td>2279</td><td>98</td><td>17</td><td>61</td><td>41</td><td>469223.68954999995</td><td>125.33333333333333</td><td>1</td><td>1275</td><td>0</td></tr><tr><td>77.53899305555555</td><td>337</td><td>12</td><td>1</td><td>8</td><td>6</td><td>65236.15544999999</td><td>31.875</td><td>0</td><td>229</td><td>0</td></tr><tr><td>102.59481481481481</td><td>291</td><td>8</td><td>2</td><td>4</td><td>7</td><td>53151.58675999999</td><td>27.5</td><td>0</td><td>201</td><td>0</td></tr><tr><td>44.314432870370375</td><td>1781</td><td>79</td><td>22</td><td>50</td><td>20</td><td>364840.63896999985</td><td>76.6842105263158</td><td>1</td><td>1075</td><td>1</td></tr><tr><td>60.104050925925925</td><td>3603</td><td>154</td><td>22</td><td>89</td><td>47</td><td>754517.56257</td><td>89.05882352941177</td><td>0</td><td>1804</td><td>1</td></tr><tr><td>80.89527777777778</td><td>254</td><td>14</td><td>3</td><td>4</td><td>1</td><td>54424.74544</td><td>53.5</td><td>0</td><td>197</td><td>1</td></tr><tr><td>63.066643518518525</td><td>1775</td><td>62</td><td>17</td><td>47</td><td>25</td><td>359808.24564000015</td><td>50.607142857142854</td><td>0</td><td>1018</td><td>0</td></tr><tr><td>188.31178240740743</td><td>2168</td><td>148</td><td>17</td><td>69</td><td>30</td><td>433520.0037099993</td><td>102.88235294117646</td><td>1</td><td>1201</td><td>1</td></tr><tr><td>124.38989583333334</td><td>1961</td><td>140</td><td>11</td><td>57</td><td>28</td><td>402107.9263399994</td><td>89.44444444444444</td><td>1</td><td>1106</td><td>0</td></tr><tr><td>99.22612268518519</td><td>35</td><td>2</td><td>0</td><td>1</td><td>0</td><td>6567.876740000001</td><td>27.0</td><td>0</td><td>26</td><td>0</td></tr><tr><td>89.37314814814816</td><td>262</td><td>17</td><td>2</td><td>3</td><td>2</td><td>50907.54503</td><td>68.0</td><td>1</td><td>187</td><td>0</td></tr><tr><td>157.05546296296296</td><td>394</td><td>35</td><td>4</td><td>9</td><td>8</td><td>77024.45929999997</td><td>52.0</td><td>1</td><td>288</td><td>0</td></tr><tr><td>89.53488425925927</td><td>379</td><td>23</td><td>3</td><td>7</td><td>17</td><td>66840.03676000002</td><td>55.8</td><td>0</td><td>257</td><td>0</td></tr><tr><td>11.553703703703704</td><td>143</td><td>11</td><td>1</td><td>4</td><td>4</td><td>28028.71048000002</td><td>111.0</td><td>0</td><td>107</td><td>1</td></tr><tr><td>90.50671296296296</td><td>1672</td><td>111</td><td>16</td><td>43</td><td>23</td><td>348739.33904999925</td><td>77.38888888888889</td><td>1</td><td>1001</td><td>0</td></tr><tr><td>101.2241087962963</td><td>1721</td><td>132</td><td>15</td><td>44</td><td>21</td><td>357535.69262999995</td><td>79.27777777777777</td><td>1</td><td>1025</td><td>0</td></tr><tr><td>74.17873842592593</td><td>351</td><td>21</td><td>1</td><td>7</td><td>8</td><td>65846.45058000002</td><td>37.57142857142857</td><td>0</td><td>244</td><td>0</td></tr><tr><td>61.17638888888889</td><td>5732</td><td>437</td><td>41</td><td>146</td><td>93</td><td>1149641.2196899974</td><td>63.273972602739725</td><td>1</td><td>2491</td><td>0</td></tr><tr><td>150.0044675925926</td><td>786</td><td>52</td><td>7</td><td>14</td><td>16</td><td>158898.88207</td><td>91.71428571428571</td><td>0</td><td>524</td><td>0</td></tr><tr><td>89.70524305555556</td><td>411</td><td>38</td><td>2</td><td>7</td><td>8</td><td>84910.65959</td><td>55.833333333333336</td><td>0</td><td>292</td><td>0</td></tr><tr><td>100.3783912037037</td><td>361</td><td>27</td><td>8</td><td>10</td><td>3</td><td>71161.23787000001</td><td>46.666666666666664</td><td>0</td><td>248</td><td>0</td></tr><tr><td>171.48203703703703</td><td>3051</td><td>193</td><td>17</td><td>64</td><td>47</td><td>619259.3287500002</td><td>76.48484848484848</td><td>0</td><td>1601</td><td>0</td></tr><tr><td>100.83010416666667</td><td>735</td><td>56</td><td>4</td><td>26</td><td>11</td><td>144836.59438999987</td><td>48.583333333333336</td><td>0</td><td>461</td><td>0</td></tr><tr><td>74.35851851851852</td><td>4428</td><td>303</td><td>28</td><td>113</td><td>63</td><td>897406.9802100015</td><td>59.540983606557376</td><td>1</td><td>2070</td><td>0</td></tr><tr><td>92.85342592592593</td><td>2046</td><td>132</td><td>24</td><td>58</td><td>35</td><td>415080.2944800006</td><td>63.07692307692308</td><td>0</td><td>1170</td><td>0</td></tr><tr><td>84.62292824074073</td><td>976</td><td>83</td><td>8</td><td>24</td><td>19</td><td>198108.6602799998</td><td>88.66666666666667</td><td>0</td><td>650</td><td>0</td></tr><tr><td>48.58732638888889</td><td>296</td><td>18</td><td>1</td><td>10</td><td>8</td><td>60392.35396999997</td><td>80.66666666666667</td><td>1</td><td>220</td><td>0</td></tr><tr><td>69.41837962962963</td><td>4659</td><td>336</td><td>36</td><td>107</td><td>89</td><td>941922.7365200007</td><td>65.79310344827586</td><td>1</td><td>2167</td><td>0</td></tr><tr><td>102.7619212962963</td><td>446</td><td>25</td><td>5</td><td>9</td><td>11</td><td>91403.82517999997</td><td>33.09090909090909</td><td>0</td><td>328</td><td>0</td></tr><tr><td>150.45563657407408</td><td>2210</td><td>169</td><td>16</td><td>63</td><td>31</td><td>447755.1231499991</td><td>66.55555555555556</td><td>1</td><td>1235</td><td>0</td></tr><tr><td>38.90083333333333</td><td>102</td><td>6</td><td>0</td><td>2</td><td>2</td><td>22698.644169999996</td><td>88.0</td><td>1</td><td>85</td><td>0</td></tr><tr><td>76.6900462962963</td><td>1603</td><td>139</td><td>13</td><td>42</td><td>17</td><td>318315.40205999976</td><td>81.0625</td><td>0</td><td>955</td><td>0</td></tr><tr><td>21.590891203703706</td><td>108</td><td>7</td><td>1</td><td>7</td><td>0</td><td>19847.095149999997</td><td>26.666666666666668</td><td>0</td><td>76</td><td>1</td></tr><tr><td>162.89256944444443</td><td>1529</td><td>79</td><td>9</td><td>33</td><td>31</td><td>310709.8542500001</td><td>104.75</td><td>0</td><td>921</td><td>0</td></tr><tr><td>71.14295138888889</td><td>73</td><td>2</td><td>0</td><td>4</td><td>0</td><td>12931.084549999996</td><td>17.666666666666668</td><td>0</td><td>53</td><td>0</td></tr><tr><td>75.46339120370371</td><td>2005</td><td>71</td><td>14</td><td>64</td><td>31</td><td>406584.4518699999</td><td>44.72222222222222</td><td>1</td><td>1098</td><td>0</td></tr><tr><td>108.19745370370372</td><td>1399</td><td>53</td><td>12</td><td>23</td><td>35</td><td>283935.7623299998</td><td>64.33333333333333</td><td>1</td><td>860</td><td>0</td></tr><tr><td>94.56951388888889</td><td>1682</td><td>75</td><td>11</td><td>37</td><td>33</td><td>354702.1711299999</td><td>100.85714285714286</td><td>0</td><td>1017</td><td>0</td></tr><tr><td>75.06532407407407</td><td>1570</td><td>65</td><td>21</td><td>30</td><td>21</td><td>327566.46344000014</td><td>82.625</td><td>0</td><td>939</td><td>0</td></tr><tr><td>168.92145833333333</td><td>9632</td><td>388</td><td>69</td><td>240</td><td>122</td><td>1991154.9155800021</td><td>77.68932038834951</td><td>1</td><td>3544</td><td>0</td></tr><tr><td>62.79774305555555</td><td>2442</td><td>95</td><td>26</td><td>59</td><td>46</td><td>506140.0413799999</td><td>93.0909090909091</td><td>0</td><td>1342</td><td>0</td></tr><tr><td>78.96927083333334</td><td>1322</td><td>66</td><td>11</td><td>39</td><td>23</td><td>259785.3331600001</td><td>63.411764705882355</td><td>1</td><td>825</td><td>0</td></tr><tr><td>110.77247685185186</td><td>2220</td><td>76</td><td>10</td><td>61</td><td>36</td><td>473900.08914000005</td><td>157.83333333333334</td><td>1</td><td>1319</td><td>0</td></tr><tr><td>67.11364583333334</td><td>4257</td><td>166</td><td>25</td><td>104</td><td>52</td><td>881792.9661299998</td><td>87.14634146341463</td><td>1</td><td>2073</td><td>0</td></tr><tr><td>65.93375</td><td>240</td><td>12</td><td>2</td><td>4</td><td>3</td><td>43161.70262000001</td><td>44.25</td><td>1</td><td>164</td><td>0</td></tr><tr><td>37.099016203703705</td><td>512</td><td>25</td><td>2</td><td>10</td><td>8</td><td>106365.08873999993</td><td>143.0</td><td>1</td><td>371</td><td>0</td></tr><tr><td>81.08318287037038</td><td>1776</td><td>67</td><td>13</td><td>43</td><td>22</td><td>367138.22696000023</td><td>98.93333333333334</td><td>1</td><td>1057</td><td>0</td></tr><tr><td>63.27107638888889</td><td>1120</td><td>44</td><td>11</td><td>30</td><td>18</td><td>229759.7929</td><td>91.8</td><td>1</td><td>710</td><td>0</td></tr><tr><td>131.6851736111111</td><td>251</td><td>10</td><td>2</td><td>3</td><td>0</td><td>48977.985140000004</td><td>25.25</td><td>0</td><td>192</td><td>0</td></tr><tr><td>107.24446759259258</td><td>1091</td><td>47</td><td>7</td><td>28</td><td>22</td><td>215796.42161999998</td><td>87.8</td><td>0</td><td>684</td><td>0</td></tr><tr><td>48.39195601851852</td><td>218</td><td>11</td><td>0</td><td>8</td><td>3</td><td>39525.04697999999</td><td>32.2</td><td>0</td><td>154</td><td>0</td></tr><tr><td>75.44710648148148</td><td>651</td><td>27</td><td>3</td><td>12</td><td>9</td><td>122751.27560999995</td><td>62.875</td><td>1</td><td>423</td><td>0</td></tr><tr><td>19.455844907407407</td><td>2464</td><td>100</td><td>21</td><td>52</td><td>28</td><td>523275.8428000004</td><td>211.1</td><td>0</td><td>1385</td><td>1</td></tr><tr><td>102.24886574074075</td><td>1363</td><td>54</td><td>9</td><td>33</td><td>40</td><td>267426.40729</td><td>72.4</td><td>1</td><td>809</td><td>0</td></tr><tr><td>53.01773148148148</td><td>2064</td><td>69</td><td>16</td><td>46</td><td>25</td><td>431131.0810899999</td><td>83.14285714285714</td><td>0</td><td>1198</td><td>1</td></tr><tr><td>110.75168981481481</td><td>3437</td><td>163</td><td>29</td><td>72</td><td>33</td><td>711344.9195399994</td><td>81.17142857142858</td><td>1</td><td>1744</td><td>1</td></tr><tr><td>71.66560185185186</td><td>489</td><td>17</td><td>5</td><td>13</td><td>8</td><td>96919.52035000002</td><td>34.63636363636363</td><td>0</td><td>343</td><td>0</td></tr><tr><td>67.95305555555555</td><td>955</td><td>49</td><td>7</td><td>20</td><td>21</td><td>181514.16844999994</td><td>36.7</td><td>0</td><td>571</td><td>0</td></tr><tr><td>87.79336805555556</td><td>112</td><td>3</td><td>2</td><td>0</td><td>0</td><td>21236.020329999996</td><td>46.0</td><td>0</td><td>89</td><td>0</td></tr><tr><td>26.22980324074074</td><td>2027</td><td>94</td><td>20</td><td>50</td><td>19</td><td>421636.58727000037</td><td>141.16666666666666</td><td>0</td><td>1159</td><td>1</td></tr><tr><td>64.60553240740741</td><td>872</td><td>30</td><td>9</td><td>14</td><td>16</td><td>180434.79327000005</td><td>120.66666666666667</td><td>0</td><td>578</td><td>0</td></tr><tr><td>256.3776736111111</td><td>3761</td><td>165</td><td>31</td><td>83</td><td>41</td><td>787236.5235900001</td><td>143.5909090909091</td><td>0</td><td>1868</td><td>0</td></tr><tr><td>71.48456018518519</td><td>1950</td><td>84</td><td>9</td><td>58</td><td>27</td><td>412321.50108000037</td><td>91.33333333333333</td><td>0</td><td>1137</td><td>0</td></tr><tr><td>72.211875</td><td>1976</td><td>78</td><td>11</td><td>50</td><td>26</td><td>406492.80901000026</td><td>85.36842105263158</td><td>0</td><td>1093</td><td>0</td></tr><tr><td>134.06662037037037</td><td>1883</td><td>77</td><td>21</td><td>39</td><td>34</td><td>395138.0849400002</td><td>198.875</td><td>0</td><td>1101</td><td>0</td></tr><tr><td>39.33960648148148</td><td>107</td><td>6</td><td>3</td><td>1</td><td>0</td><td>23151.842989999997</td><td>87.0</td><td>1</td><td>83</td><td>0</td></tr><tr><td>49.152442129629634</td><td>68</td><td>4</td><td>0</td><td>1</td><td>5</td><td>11530.349750000001</td><td>15.333333333333334</td><td>0</td><td>46</td><td>0</td></tr><tr><td>71.10780092592593</td><td>2544</td><td>111</td><td>17</td><td>68</td><td>53</td><td>529357.9054200001</td><td>96.04545454545455</td><td>0</td><td>1377</td><td>0</td></tr><tr><td>125.62591435185186</td><td>1288</td><td>52</td><td>8</td><td>38</td><td>24</td><td>260526.52036000005</td><td>52.25</td><td>1</td><td>806</td><td>0</td></tr><tr><td>138.89282407407407</td><td>1322</td><td>54</td><td>10</td><td>37</td><td>14</td><td>273173.73245999985</td><td>91.5</td><td>0</td><td>824</td><td>0</td></tr><tr><td>100.0112962962963</td><td>48</td><td>2</td><td>0</td><td>0</td><td>7</td><td>7079.692970000002</td><td>14.5</td><td>1</td><td>29</td><td>0</td></tr><tr><td>71.42444444444445</td><td>1342</td><td>72</td><td>9</td><td>33</td><td>12</td><td>286064.0256400001</td><td>125.0</td><td>1</td><td>865</td><td>0</td></tr><tr><td>72.77818287037037</td><td>201</td><td>7</td><td>1</td><td>5</td><td>1</td><td>38034.0871</td><td>21.428571428571427</td><td>0</td><td>142</td><td>0</td></tr><tr><td>145.73800925925926</td><td>1775</td><td>90</td><td>12</td><td>41</td><td>26</td><td>371140.9410000002</td><td>82.77777777777777</td><td>0</td><td>1062</td><td>1</td></tr><tr><td>52.76118055555556</td><td>329</td><td>14</td><td>4</td><td>5</td><td>9</td><td>65489.51302000004</td><td>66.0</td><td>0</td><td>248</td><td>0</td></tr><tr><td>124.55060185185185</td><td>117</td><td>6</td><td>1</td><td>3</td><td>3</td><td>19961.03902</td><td>85.0</td><td>1</td><td>82</td><td>0</td></tr><tr><td>49.76208333333333</td><td>457</td><td>14</td><td>7</td><td>11</td><td>11</td><td>94240.35148000003</td><td>62.833333333333336</td><td>1</td><td>334</td><td>1</td></tr><tr><td>71.22346064814815</td><td>2887</td><td>135</td><td>25</td><td>80</td><td>43</td><td>601865.151560001</td><td>109.0909090909091</td><td>1</td><td>1557</td><td>0</td></tr><tr><td>68.92494212962963</td><td>957</td><td>48</td><td>4</td><td>27</td><td>21</td><td>201775.17455999996</td><td>101.5</td><td>1</td><td>646</td><td>0</td></tr><tr><td>56.86383101851852</td><td>272</td><td>13</td><td>2</td><td>4</td><td>3</td><td>53229.90549</td><td>35.333333333333336</td><td>0</td><td>196</td><td>0</td></tr><tr><td>65.07229166666666</td><td>1229</td><td>46</td><td>4</td><td>23</td><td>8</td><td>262328.70735000004</td><td>149.57142857142858</td><td>1</td><td>808</td><td>0</td></tr><tr><td>60.588310185185186</td><td>324</td><td>11</td><td>3</td><td>9</td><td>2</td><td>62494.42194</td><td>28.22222222222222</td><td>1</td><td>226</td><td>0</td></tr><tr><td>76.06190972222223</td><td>321</td><td>13</td><td>2</td><td>6</td><td>3</td><td>63629.99231999999</td><td>50.2</td><td>0</td><td>226</td><td>0</td></tr><tr><td>114.99788194444444</td><td>334</td><td>16</td><td>3</td><td>6</td><td>5</td><td>63393.531909999976</td><td>35.857142857142854</td><td>1</td><td>230</td><td>0</td></tr><tr><td>58.53869212962963</td><td>474</td><td>11</td><td>4</td><td>13</td><td>9</td><td>89471.02373</td><td>30.583333333333332</td><td>1</td><td>326</td><td>0</td></tr><tr><td>98.71303240740741</td><td>2335</td><td>94</td><td>14</td><td>51</td><td>23</td><td>497847.8429099998</td><td>103.89473684210526</td><td>0</td><td>1307</td><td>0</td></tr><tr><td>74.40032407407408</td><td>2049</td><td>84</td><td>20</td><td>53</td><td>29</td><td>424932.79106000013</td><td>106.5625</td><td>1</td><td>1173</td><td>0</td></tr><tr><td>124.14094907407407</td><td>1496</td><td>69</td><td>10</td><td>28</td><td>18</td><td>307411.16241</td><td>45.74074074074074</td><td>0</td><td>926</td><td>0</td></tr><tr><td>52.468148148148146</td><td>97</td><td>4</td><td>0</td><td>2</td><td>0</td><td>18111.52284</td><td>24.333333333333332</td><td>1</td><td>69</td><td>0</td></tr><tr><td>109.60453703703705</td><td>4370</td><td>192</td><td>38</td><td>108</td><td>58</td><td>909088.9726899993</td><td>90.4</td><td>0</td><td>2124</td><td>0</td></tr><tr><td>135.0992476851852</td><td>818</td><td>34</td><td>8</td><td>20</td><td>18</td><td>159936.6456799999</td><td>65.0</td><td>0</td><td>543</td><td>0</td></tr><tr><td>59.125856481481485</td><td>1003</td><td>32</td><td>5</td><td>19</td><td>27</td><td>193639.95913000012</td><td>30.68</td><td>0</td><td>622</td><td>1</td></tr><tr><td>76.18290509259259</td><td>2465</td><td>122</td><td>20</td><td>58</td><td>28</td><td>514221.85814000055</td><td>78.65384615384616</td><td>1</td><td>1358</td><td>0</td></tr><tr><td>69.41987268518518</td><td>801</td><td>30</td><td>6</td><td>12</td><td>14</td><td>165790.33922999998</td><td>133.4</td><td>0</td><td>545</td><td>0</td></tr><tr><td>60.832430555555554</td><td>3191</td><td>118</td><td>32</td><td>77</td><td>40</td><td>664572.01781</td><td>89.2</td><td>0</td><td>1672</td><td>0</td></tr><tr><td>101.98753472222222</td><td>45</td><td>0</td><td>0</td><td>0</td><td>0</td><td>9481.23057</td><td>9.25</td><td>0</td><td>37</td><td>0</td></tr><tr><td>116.02526620370371</td><td>3014</td><td>124</td><td>24</td><td>64</td><td>42</td><td>639786.4807500001</td><td>286.6666666666667</td><td>0</td><td>1618</td><td>0</td></tr><tr><td>83.52885416666668</td><td>7230</td><td>292</td><td>72</td><td>181</td><td>110</td><td>1491493.2863699999</td><td>70.77380952380952</td><td>1</td><td>2904</td><td>0</td></tr><tr><td>71.03246527777777</td><td>815</td><td>35</td><td>4</td><td>17</td><td>13</td><td>157811.98088000005</td><td>53.333333333333336</td><td>0</td><td>509</td><td>0</td></tr><tr><td>132.30824074074073</td><td>187</td><td>4</td><td>1</td><td>3</td><td>1</td><td>37408.717459999985</td><td>24.333333333333332</td><td>1</td><td>139</td><td>0</td></tr><tr><td>62.26634259259259</td><td>2091</td><td>91</td><td>25</td><td>46</td><td>32</td><td>427135.54533999995</td><td>54.645161290322584</td><td>1</td><td>1153</td><td>0</td></tr><tr><td>73.93668981481481</td><td>2176</td><td>92</td><td>24</td><td>52</td><td>40</td><td>452492.3782900005</td><td>94.84210526315789</td><td>1</td><td>1237</td><td>0</td></tr><tr><td>87.39342592592594</td><td>2404</td><td>108</td><td>12</td><td>61</td><td>32</td><td>491231.4963499998</td><td>65.83333333333333</td><td>1</td><td>1319</td><td>0</td></tr><tr><td>63.40961805555556</td><td>2891</td><td>115</td><td>22</td><td>58</td><td>45</td><td>611701.9774699993</td><td>85.75</td><td>0</td><td>1534</td><td>0</td></tr><tr><td>133.00108796296297</td><td>614</td><td>27</td><td>5</td><td>11</td><td>12</td><td>127877.88359000004</td><td>45.90909090909091</td><td>1</td><td>424</td><td>0</td></tr></tbody></table></div>"
      ]
     },
     "metadata": {
      "application/vnd.databricks.v1+output": {
       "addedWidgets": {},
       "aggData": [],
       "aggError": "",
       "aggOverflow": false,
       "aggSchema": [],
       "aggSeriesLimitReached": false,
       "aggType": "",
       "arguments": {},
       "columnCustomDisplayInfos": {},
       "data": [
        [
         51.76265046296297,
         795,
         37,
         4,
         9,
         12,
         166866.37251000004,
         112.16666666666667,
         0,
         565,
         0
        ],
        [
         64.87377314814815,
         3214,
         148,
         27,
         61,
         49,
         672877.8565899997,
         78.88235294117646,
         0,
         1705,
         0
        ],
        [
         44.80021990740741,
         187,
         8,
         2,
         3,
         2,
         35073.742150000005,
         33.25,
         1,
         125,
         1
        ],
        [
         160.47207175925925,
         218,
         5,
         0,
         5,
         1,
         49559.9181,
         48.75,
         1,
         184,
         0
        ],
        [
         22.748113425925926,
         78,
         3,
         0,
         2,
         0,
         12306.419320000003,
         25.5,
         1,
         50,
         1
        ],
        [
         172.44008101851853,
         1245,
         35,
         11,
         23,
         19,
         231480.3892899999,
         47.1,
         1,
         733,
         0
        ],
        [
         85.19559027777778,
         216,
         7,
         3,
         3,
         3,
         37037.12201000001,
         38.5,
         0,
         149,
         1
        ],
        [
         9.127164351851851,
         44,
         2,
         2,
         1,
         4,
         5854.89105,
         26,
         1,
         26,
         1
        ],
        [
         115.38761574074074,
         520,
         19,
         6,
         9,
         17,
         104495.32492000004,
         47,
         1,
         357,
         1
        ],
        [
         68.22856481481482,
         940,
         37,
         6,
         30,
         17,
         191396.79602,
         128.66666666666666,
         1,
         623,
         0
        ],
        [
         37.43827546296296,
         671,
         23,
         8,
         12,
         7,
         129745.78967999991,
         51.8,
         0,
         442,
         1
        ],
        [
         55.6436574074074,
         381,
         17,
         5,
         7,
         4,
         66940.89735,
         39.285714285714285,
         1,
         252,
         0
        ],
        [
         5.165115740740741,
         23,
         0,
         1,
         2,
         0,
         2841.6995,
         11,
         0,
         11,
         1
        ],
        [
         43.05261574074074,
         600,
         18,
         9,
         12,
         2,
         115503.35311000001,
         79.33333333333333,
         0,
         397,
         1
        ],
        [
         44.17873842592593,
         1392,
         39,
         15,
         31,
         28,
         280391.7941099999,
         87,
         1,
         826,
         1
        ],
        [
         85.08340277777778,
         310,
         17,
         3,
         7,
         6,
         67703.47208,
         42.833333333333336,
         0,
         233,
         1
        ],
        [
         67.87921296296297,
         1050,
         35,
         8,
         22,
         14,
         194617.91655000005,
         66.66666666666667,
         1,
         627,
         1
        ],
        [
         75.01533564814815,
         638,
         25,
         5,
         6,
         13,
         129376.75234,
         66.25,
         0,
         431,
         0
        ],
        [
         78.88440972222223,
         75,
         2,
         1,
         1,
         0,
         12261.723399999999,
         52,
         0,
         51,
         1
        ],
        [
         110.71211805555555,
         1288,
         46,
         9,
         31,
         23,
         248530.32762999996,
         50.1,
         0,
         780,
         0
        ],
        [
         31.19925925925926,
         89,
         1,
         1,
         2,
         2,
         15585.069069999996,
         31,
         0,
         61,
         1
        ],
        [
         64.73886574074074,
         319,
         11,
         5,
         7,
         7,
         57633.175639999994,
         46,
         0,
         207,
         1
        ],
        [
         47.92025462962963,
         964,
         45,
         20,
         14,
         11,
         168612.26269000003,
         34.05,
         1,
         555,
         1
        ],
        [
         32.362118055555555,
         494,
         10,
         2,
         11,
         14,
         103498.18599000001,
         40.7,
         0,
         350,
         1
        ],
        [
         27.221655092592595,
         36,
         5,
         0,
         0,
         0,
         5160.53207,
         22,
         0,
         22,
         1
        ],
        [
         88.81461805555556,
         623,
         20,
         7,
         9,
         3,
         119033.03824000007,
         70,
         1,
         410,
         1
        ],
        [
         53.965937499999995,
         2149,
         86,
         16,
         61,
         29,
         447464.0146699989,
         179.7,
         0,
         1241,
         1
        ],
        [
         64.68184027777778,
         202,
         6,
         2,
         1,
         0,
         42228.87856,
         19.75,
         0,
         152,
         0
        ],
        [
         42.13234953703704,
         1310,
         52,
         9,
         42,
         25,
         267252.93392000004,
         107.3,
         1,
         834,
         1
        ],
        [
         125.58270833333334,
         2132,
         84,
         17,
         43,
         23,
         441694.46125000034,
         68.5,
         1,
         1214,
         0
        ],
        [
         29.607175925925926,
         918,
         45,
         6,
         12,
         13,
         194347.46099000017,
         152.8,
         0,
         624,
         1
        ],
        [
         40.357511574074074,
         1010,
         43,
         6,
         28,
         29,
         206056.08328000008,
         69.91666666666667,
         1,
         653,
         1
        ],
        [
         74.21925925925926,
         315,
         14,
         2,
         10,
         2,
         61852.022359999966,
         61.5,
         1,
         224,
         0
        ],
        [
         62.23815972222223,
         764,
         20,
         6,
         15,
         15,
         156542.79865,
         105.5,
         1,
         509,
         0
        ],
        [
         87.99846064814814,
         861,
         23,
         5,
         16,
         12,
         178960.94166000007,
         59.75,
         1,
         580,
         0
        ],
        [
         124.47825231481481,
         848,
         40,
         9,
         20,
         6,
         159669.96304000003,
         40.4375,
         1,
         534,
         0
        ],
        [
         68.3830787037037,
         235,
         14,
         2,
         3,
         7,
         46353.578100000006,
         35.6,
         0,
         163,
         0
        ],
        [
         82.22630787037038,
         830,
         34,
         6,
         21,
         23,
         174075.92180999997,
         99.71428571428571,
         1,
         561,
         0
        ],
        [
         87.46262731481481,
         292,
         9,
         3,
         7,
         7,
         53062.746589999995,
         23.88888888888889,
         0,
         195,
         0
        ],
        [
         123.53140046296296,
         1895,
         82,
         12,
         50,
         32,
         400094.13202000014,
         68.91304347826087,
         1,
         1111,
         0
        ],
        [
         71.39887731481481,
         1547,
         74,
         12,
         34,
         13,
         327836.51451999974,
         80.75,
         0,
         932,
         0
        ],
        [
         74.43959490740741,
         2076,
         92,
         24,
         42,
         39,
         431447.61071000004,
         173.7,
         1,
         1212,
         0
        ],
        [
         93.96927083333333,
         79,
         1,
         0,
         4,
         2,
         16042.786170000003,
         21,
         1,
         60,
         0
        ],
        [
         72.10061342592593,
         445,
         11,
         3,
         10,
         10,
         88033.85589,
         26.384615384615383,
         1,
         298,
         0
        ],
        [
         63.12707175925926,
         2868,
         127,
         27,
         62,
         52,
         591048.8892000004,
         99,
         1,
         1533,
         0
        ],
        [
         188.85927083333334,
         223,
         7,
         1,
         5,
         4,
         44717.94927,
         28.833333333333332,
         1,
         166,
         0
        ],
        [
         73.00452546296296,
         1064,
         42,
         9,
         19,
         13,
         214620.52445999987,
         96.33333333333333,
         1,
         697,
         1
        ],
        [
         128.10019675925926,
         1842,
         81,
         13,
         44,
         22,
         392401.4950000001,
         112.21428571428571,
         1,
         1117,
         0
        ],
        [
         131.43560185185186,
         916,
         28,
         8,
         20,
         20,
         179080.18666,
         55.84615384615385,
         0,
         587,
         1
        ],
        [
         52.816701388888895,
         62,
         3,
         1,
         1,
         1,
         9482.116939999998,
         13.666666666666666,
         1,
         41,
         1
        ],
        [
         100.19100694444444,
         196,
         5,
         1,
         8,
         5,
         35204.45113,
         18.75,
         0,
         147,
         0
        ],
        [
         131.55591435185184,
         4825,
         171,
         41,
         118,
         74,
         1012312.0927900008,
         145.67857142857142,
         1,
         2232,
         0
        ],
        [
         71.31688657407408,
         11,
         0,
         0,
         0,
         0,
         2089.1131000000005,
         8,
         0,
         8,
         1
        ],
        [
         62.09569444444444,
         3102,
         135,
         21,
         72,
         33,
         648839.6085999997,
         88.86206896551724,
         0,
         1643,
         0
        ],
        [
         75.88082175925926,
         2125,
         93,
         15,
         52,
         26,
         446745.52476000006,
         104.6470588235294,
         1,
         1221,
         0
        ],
        [
         95.33168981481481,
         2067,
         87,
         18,
         53,
         28,
         429447.28833999985,
         108,
         0,
         1163,
         0
        ],
        [
         16.74056712962963,
         412,
         7,
         7,
         11,
         11,
         81201.27358999997,
         55.166666666666664,
         0,
         279,
         1
        ],
        [
         119.45459490740741,
         1654,
         57,
         14,
         37,
         32,
         313639.02129,
         38.78787878787879,
         1,
         929,
         0
        ],
        [
         120.89991898148149,
         1863,
         72,
         20,
         51,
         26,
         389584.29664000025,
         92,
         0,
         1100,
         0
        ],
        [
         66.8891087962963,
         2304,
         96,
         17,
         38,
         41,
         483118.9038399998,
         120.5,
         1,
         1299,
         0
        ],
        [
         39.88013888888889,
         44,
         2,
         0,
         3,
         1,
         8029.164280000002,
         32,
         0,
         32,
         0
        ],
        [
         65.16515046296296,
         52,
         3,
         1,
         2,
         0,
         9086.70324,
         9.25,
         0,
         37,
         0
        ],
        [
         72.08957175925926,
         6,
         0,
         0,
         0,
         0,
         1596.44461,
         6,
         1,
         6,
         0
        ],
        [
         75.35636574074074,
         2567,
         110,
         15,
         66,
         60,
         528592.4084900002,
         106.2,
         1,
         1395,
         0
        ],
        [
         123.35806712962962,
         209,
         8,
         1,
         4,
         8,
         38385.87631000001,
         51.333333333333336,
         0,
         143,
         0
        ],
        [
         66.62668981481481,
         2469,
         95,
         24,
         67,
         41,
         512449.88275999983,
         138,
         0,
         1332,
         0
        ],
        [
         87.42347222222223,
         457,
         18,
         5,
         13,
         6,
         95068.01512999999,
         94.25,
         0,
         334,
         0
        ],
        [
         132.54185185185185,
         1432,
         54,
         12,
         34,
         19,
         304778.64878000005,
         111.81818181818181,
         0,
         904,
         0
        ],
        [
         80.60512731481482,
         6880,
         277,
         75,
         148,
         143,
         1410075.4463300004,
         84.53731343283582,
         1,
         2819,
         0
        ],
        [
         75.39690972222222,
         1102,
         42,
         5,
         27,
         17,
         229793.79916000017,
         92.9,
         1,
         728,
         0
        ],
        [
         63.489328703703706,
         2240,
         111,
         13,
         50,
         28,
         467846.87783,
         117.1875,
         0,
         1254,
         0
        ],
        [
         61.73311342592592,
         149,
         5,
         0,
         2,
         6,
         25091.19337,
         16.833333333333332,
         1,
         98,
         1
        ],
        [
         98.94381944444444,
         125,
         4,
         1,
         3,
         4,
         24660.383280000002,
         49,
         0,
         97,
         0
        ],
        [
         102.31814814814815,
         1347,
         61,
         8,
         27,
         34,
         286918.09708999994,
         80.64285714285714,
         1,
         868,
         0
        ],
        [
         86.40864583333332,
         837,
         38,
         9,
         13,
         9,
         163626.54613000003,
         38.23529411764706,
         0,
         541,
         0
        ],
        [
         68.9053587962963,
         672,
         28,
         3,
         12,
         15,
         136373.30310999998,
         60.77777777777778,
         0,
         466,
         0
        ],
        [
         70.12188657407408,
         518,
         28,
         3,
         5,
         7,
         97796.86113000003,
         33.166666666666664,
         0,
         350,
         0
        ],
        [
         46.17971064814815,
         240,
         11,
         1,
         5,
         9,
         48136.58831000001,
         62,
         0,
         173,
         0
        ],
        [
         56.513576388888886,
         2278,
         81,
         14,
         59,
         31,
         477307.6058100001,
         136.71428571428572,
         0,
         1302,
         0
        ],
        [
         123.96466435185185,
         234,
         7,
         0,
         8,
         1,
         46023.83439000001,
         22.25,
         0,
         170,
         0
        ],
        [
         42.57099537037037,
         163,
         4,
         1,
         2,
         3,
         32481.139059999998,
         138,
         0,
         132,
         0
        ],
        [
         31.03962962962963,
         1682,
         81,
         12,
         43,
         24,
         354939.5995800004,
         74.15789473684211,
         0,
         982,
         0
        ],
        [
         27.365162037037038,
         1131,
         52,
         4,
         32,
         16,
         233495.71047999978,
         104.55555555555556,
         0,
         723,
         0
        ],
        [
         23.872037037037035,
         118,
         11,
         0,
         1,
         3,
         20660.023910000004,
         28,
         1,
         78,
         0
        ],
        [
         23.556018518518517,
         1002,
         58,
         3,
         24,
         11,
         198779.29190000004,
         136.66666666666666,
         1,
         643,
         0
        ],
        [
         0.31372685185185184,
         6,
         0,
         0,
         0,
         0,
         691.66884,
         3,
         0,
         3,
         0
        ],
        [
         80.40359953703704,
         819,
         42,
         4,
         19,
         10,
         168093.78703,
         75,
         1,
         550,
         0
        ],
        [
         13.099016203703703,
         1102,
         40,
         13,
         30,
         12,
         225482.83847000013,
         132.42857142857142,
         1,
         741,
         1
        ],
        [
         38.43199074074074,
         513,
         20,
         1,
         14,
         10,
         108674.88802,
         71.5,
         0,
         374,
         1
        ],
        [
         21.451435185185186,
         259,
         5,
         2,
         8,
         4,
         54480.933869999986,
         216,
         1,
         197,
         0
        ],
        [
         69.90317129629629,
         899,
         29,
         6,
         13,
         20,
         188687.38342000006,
         107.85714285714286,
         1,
         587,
         0
        ],
        [
         77.02128472222222,
         2195,
         106,
         21,
         54,
         25,
         451089.77978,
         100.38888888888889,
         1,
         1216,
         0
        ],
        [
         15.909027777777778,
         158,
         10,
         1,
         3,
         0,
         30793.221329999982,
         28.75,
         0,
         110,
         1
        ],
        [
         70.07462962962963,
         474,
         21,
         6,
         8,
         4,
         94008.87593999993,
         64.5,
         0,
         339,
         0
        ],
        [
         152.8420601851852,
         977,
         37,
         25,
         16,
         14,
         184388.15249999994,
         57.76923076923077,
         1,
         615,
         0
        ],
        [
         65.45400462962964,
         2130,
         85,
         54,
         67,
         21,
         434637.8322800003,
         67,
         0,
         1196,
         0
        ],
        [
         113.13180555555556,
         174,
         7,
         0,
         5,
         3,
         32765.638170000006,
         23.166666666666668,
         0,
         131,
         0
        ],
        [
         73.64201388888888,
         740,
         21,
         19,
         17,
         8,
         133728.87759000005,
         25.80952380952381,
         1,
         450,
         0
        ],
        [
         53.39774305555556,
         76,
         2,
         0,
         0,
         1,
         15739.869310000002,
         32.5,
         1,
         64,
         0
        ],
        [
         115.18381944444445,
         2012,
         68,
         52,
         45,
         27,
         410938.76144000026,
         111.26666666666667,
         1,
         1159,
         0
        ],
        [
         58.839490740740736,
         1198,
         41,
         32,
         27,
         20,
         241600.01870999986,
         64.2,
         0,
         746,
         0
        ],
        [
         38.142488425925926,
         317,
         14,
         7,
         5,
         8,
         60776.61742999997,
         39.5,
         1,
         214,
         0
        ],
        [
         109.27394675925926,
         848,
         37,
         24,
         18,
         13,
         166218.2848199999,
         59.09090909090909,
         0,
         531,
         1
        ],
        [
         65.71107638888888,
         84,
         3,
         1,
         0,
         3,
         16472.36843,
         33,
         0,
         66,
         0
        ],
        [
         128.14015046296296,
         982,
         43,
         28,
         25,
         20,
         187076.41554999974,
         74.7,
         0,
         592,
         0
        ],
        [
         87.6291550925926,
         349,
         10,
         10,
         13,
         2,
         61024.95394999998,
         25.8,
         0,
         233,
         1
        ],
        [
         55.769826388888895,
         268,
         19,
         5,
         3,
         0,
         49737.93766,
         29.428571428571427,
         1,
         188,
         1
        ],
        [
         60.986805555555556,
         620,
         29,
         16,
         11,
         8,
         123526.72496999985,
         41.083333333333336,
         0,
         416,
         1
        ],
        [
         48.56862268518518,
         478,
         13,
         11,
         11,
         15,
         93505.00914000007,
         40.77777777777778,
         0,
         317,
         1
        ],
        [
         56.230057870370366,
         639,
         28,
         17,
         18,
         8,
         121838.16904000004,
         49.5,
         0,
         427,
         0
        ],
        [
         75.99219907407407,
         1498,
         56,
         36,
         32,
         10,
         289959.3589799997,
         33.4,
         0,
         861,
         1
        ],
        [
         70.66457175925926,
         1502,
         55,
         35,
         30,
         19,
         300718.15056000033,
         76.6875,
         1,
         908,
         1
        ],
        [
         88.70363425925926,
         456,
         16,
         10,
         5,
         6,
         85942.33360000004,
         43.5,
         0,
         308,
         0
        ],
        [
         67.18055555555556,
         3769,
         163,
         73,
         73,
         66,
         736821.5204800006,
         41.041666666666664,
         1,
         1756,
         0
        ],
        [
         28.42769675925926,
         552,
         19,
         13,
         15,
         9,
         103471.7455799999,
         52.125,
         0,
         368,
         1
        ],
        [
         116.99548611111112,
         1026,
         48,
         27,
         16,
         24,
         194320.02048000018,
         71.81818181818181,
         0,
         627,
         0
        ],
        [
         68.76866898148148,
         589,
         27,
         2,
         9,
         8,
         120855.15336000003,
         124.75,
         0,
         413,
         0
        ],
        [
         61.48951388888889,
         40,
         3,
         0,
         0,
         3,
         7403.8208,
         14,
         1,
         28,
         0
        ],
        [
         135.89708333333334,
         782,
         28,
         6,
         21,
         15,
         164815.4020000001,
         164,
         1,
         553,
         0
        ],
        [
         76.95898148148147,
         630,
         19,
         2,
         12,
         17,
         123749.29328000003,
         34.42857142857143,
         0,
         402,
         0
        ],
        [
         82.50391203703704,
         2279,
         98,
         17,
         61,
         41,
         469223.68954999995,
         125.33333333333333,
         1,
         1275,
         0
        ],
        [
         77.53899305555555,
         337,
         12,
         1,
         8,
         6,
         65236.15544999999,
         31.875,
         0,
         229,
         0
        ],
        [
         102.59481481481481,
         291,
         8,
         2,
         4,
         7,
         53151.58675999999,
         27.5,
         0,
         201,
         0
        ],
        [
         44.314432870370375,
         1781,
         79,
         22,
         50,
         20,
         364840.63896999985,
         76.6842105263158,
         1,
         1075,
         1
        ],
        [
         60.104050925925925,
         3603,
         154,
         22,
         89,
         47,
         754517.56257,
         89.05882352941177,
         0,
         1804,
         1
        ],
        [
         80.89527777777778,
         254,
         14,
         3,
         4,
         1,
         54424.74544,
         53.5,
         0,
         197,
         1
        ],
        [
         63.066643518518525,
         1775,
         62,
         17,
         47,
         25,
         359808.24564000015,
         50.607142857142854,
         0,
         1018,
         0
        ],
        [
         188.31178240740743,
         2168,
         148,
         17,
         69,
         30,
         433520.0037099993,
         102.88235294117646,
         1,
         1201,
         1
        ],
        [
         124.38989583333334,
         1961,
         140,
         11,
         57,
         28,
         402107.9263399994,
         89.44444444444444,
         1,
         1106,
         0
        ],
        [
         99.22612268518519,
         35,
         2,
         0,
         1,
         0,
         6567.876740000001,
         27,
         0,
         26,
         0
        ],
        [
         89.37314814814816,
         262,
         17,
         2,
         3,
         2,
         50907.54503,
         68,
         1,
         187,
         0
        ],
        [
         157.05546296296296,
         394,
         35,
         4,
         9,
         8,
         77024.45929999997,
         52,
         1,
         288,
         0
        ],
        [
         89.53488425925927,
         379,
         23,
         3,
         7,
         17,
         66840.03676000002,
         55.8,
         0,
         257,
         0
        ],
        [
         11.553703703703704,
         143,
         11,
         1,
         4,
         4,
         28028.71048000002,
         111,
         0,
         107,
         1
        ],
        [
         90.50671296296296,
         1672,
         111,
         16,
         43,
         23,
         348739.33904999925,
         77.38888888888889,
         1,
         1001,
         0
        ],
        [
         101.2241087962963,
         1721,
         132,
         15,
         44,
         21,
         357535.69262999995,
         79.27777777777777,
         1,
         1025,
         0
        ],
        [
         74.17873842592593,
         351,
         21,
         1,
         7,
         8,
         65846.45058000002,
         37.57142857142857,
         0,
         244,
         0
        ],
        [
         61.17638888888889,
         5732,
         437,
         41,
         146,
         93,
         1149641.2196899974,
         63.273972602739725,
         1,
         2491,
         0
        ],
        [
         150.0044675925926,
         786,
         52,
         7,
         14,
         16,
         158898.88207,
         91.71428571428571,
         0,
         524,
         0
        ],
        [
         89.70524305555556,
         411,
         38,
         2,
         7,
         8,
         84910.65959,
         55.833333333333336,
         0,
         292,
         0
        ],
        [
         100.3783912037037,
         361,
         27,
         8,
         10,
         3,
         71161.23787000001,
         46.666666666666664,
         0,
         248,
         0
        ],
        [
         171.48203703703703,
         3051,
         193,
         17,
         64,
         47,
         619259.3287500002,
         76.48484848484848,
         0,
         1601,
         0
        ],
        [
         100.83010416666667,
         735,
         56,
         4,
         26,
         11,
         144836.59438999987,
         48.583333333333336,
         0,
         461,
         0
        ],
        [
         74.35851851851852,
         4428,
         303,
         28,
         113,
         63,
         897406.9802100015,
         59.540983606557376,
         1,
         2070,
         0
        ],
        [
         92.85342592592593,
         2046,
         132,
         24,
         58,
         35,
         415080.2944800006,
         63.07692307692308,
         0,
         1170,
         0
        ],
        [
         84.62292824074073,
         976,
         83,
         8,
         24,
         19,
         198108.6602799998,
         88.66666666666667,
         0,
         650,
         0
        ],
        [
         48.58732638888889,
         296,
         18,
         1,
         10,
         8,
         60392.35396999997,
         80.66666666666667,
         1,
         220,
         0
        ],
        [
         69.41837962962963,
         4659,
         336,
         36,
         107,
         89,
         941922.7365200007,
         65.79310344827586,
         1,
         2167,
         0
        ],
        [
         102.7619212962963,
         446,
         25,
         5,
         9,
         11,
         91403.82517999997,
         33.09090909090909,
         0,
         328,
         0
        ],
        [
         150.45563657407408,
         2210,
         169,
         16,
         63,
         31,
         447755.1231499991,
         66.55555555555556,
         1,
         1235,
         0
        ],
        [
         38.90083333333333,
         102,
         6,
         0,
         2,
         2,
         22698.644169999996,
         88,
         1,
         85,
         0
        ],
        [
         76.6900462962963,
         1603,
         139,
         13,
         42,
         17,
         318315.40205999976,
         81.0625,
         0,
         955,
         0
        ],
        [
         21.590891203703706,
         108,
         7,
         1,
         7,
         0,
         19847.095149999997,
         26.666666666666668,
         0,
         76,
         1
        ],
        [
         162.89256944444443,
         1529,
         79,
         9,
         33,
         31,
         310709.8542500001,
         104.75,
         0,
         921,
         0
        ],
        [
         71.14295138888889,
         73,
         2,
         0,
         4,
         0,
         12931.084549999996,
         17.666666666666668,
         0,
         53,
         0
        ],
        [
         75.46339120370371,
         2005,
         71,
         14,
         64,
         31,
         406584.4518699999,
         44.72222222222222,
         1,
         1098,
         0
        ],
        [
         108.19745370370372,
         1399,
         53,
         12,
         23,
         35,
         283935.7623299998,
         64.33333333333333,
         1,
         860,
         0
        ],
        [
         94.56951388888889,
         1682,
         75,
         11,
         37,
         33,
         354702.1711299999,
         100.85714285714286,
         0,
         1017,
         0
        ],
        [
         75.06532407407407,
         1570,
         65,
         21,
         30,
         21,
         327566.46344000014,
         82.625,
         0,
         939,
         0
        ],
        [
         168.92145833333333,
         9632,
         388,
         69,
         240,
         122,
         1991154.9155800021,
         77.68932038834951,
         1,
         3544,
         0
        ],
        [
         62.79774305555555,
         2442,
         95,
         26,
         59,
         46,
         506140.0413799999,
         93.0909090909091,
         0,
         1342,
         0
        ],
        [
         78.96927083333334,
         1322,
         66,
         11,
         39,
         23,
         259785.3331600001,
         63.411764705882355,
         1,
         825,
         0
        ],
        [
         110.77247685185186,
         2220,
         76,
         10,
         61,
         36,
         473900.08914000005,
         157.83333333333334,
         1,
         1319,
         0
        ],
        [
         67.11364583333334,
         4257,
         166,
         25,
         104,
         52,
         881792.9661299998,
         87.14634146341463,
         1,
         2073,
         0
        ],
        [
         65.93375,
         240,
         12,
         2,
         4,
         3,
         43161.70262000001,
         44.25,
         1,
         164,
         0
        ],
        [
         37.099016203703705,
         512,
         25,
         2,
         10,
         8,
         106365.08873999993,
         143,
         1,
         371,
         0
        ],
        [
         81.08318287037038,
         1776,
         67,
         13,
         43,
         22,
         367138.22696000023,
         98.93333333333334,
         1,
         1057,
         0
        ],
        [
         63.27107638888889,
         1120,
         44,
         11,
         30,
         18,
         229759.7929,
         91.8,
         1,
         710,
         0
        ],
        [
         131.6851736111111,
         251,
         10,
         2,
         3,
         0,
         48977.985140000004,
         25.25,
         0,
         192,
         0
        ],
        [
         107.24446759259258,
         1091,
         47,
         7,
         28,
         22,
         215796.42161999998,
         87.8,
         0,
         684,
         0
        ],
        [
         48.39195601851852,
         218,
         11,
         0,
         8,
         3,
         39525.04697999999,
         32.2,
         0,
         154,
         0
        ],
        [
         75.44710648148148,
         651,
         27,
         3,
         12,
         9,
         122751.27560999995,
         62.875,
         1,
         423,
         0
        ],
        [
         19.455844907407407,
         2464,
         100,
         21,
         52,
         28,
         523275.8428000004,
         211.1,
         0,
         1385,
         1
        ],
        [
         102.24886574074075,
         1363,
         54,
         9,
         33,
         40,
         267426.40729,
         72.4,
         1,
         809,
         0
        ],
        [
         53.01773148148148,
         2064,
         69,
         16,
         46,
         25,
         431131.0810899999,
         83.14285714285714,
         0,
         1198,
         1
        ],
        [
         110.75168981481481,
         3437,
         163,
         29,
         72,
         33,
         711344.9195399994,
         81.17142857142858,
         1,
         1744,
         1
        ],
        [
         71.66560185185186,
         489,
         17,
         5,
         13,
         8,
         96919.52035000002,
         34.63636363636363,
         0,
         343,
         0
        ],
        [
         67.95305555555555,
         955,
         49,
         7,
         20,
         21,
         181514.16844999994,
         36.7,
         0,
         571,
         0
        ],
        [
         87.79336805555556,
         112,
         3,
         2,
         0,
         0,
         21236.020329999996,
         46,
         0,
         89,
         0
        ],
        [
         26.22980324074074,
         2027,
         94,
         20,
         50,
         19,
         421636.58727000037,
         141.16666666666666,
         0,
         1159,
         1
        ],
        [
         64.60553240740741,
         872,
         30,
         9,
         14,
         16,
         180434.79327000005,
         120.66666666666667,
         0,
         578,
         0
        ],
        [
         256.3776736111111,
         3761,
         165,
         31,
         83,
         41,
         787236.5235900001,
         143.5909090909091,
         0,
         1868,
         0
        ],
        [
         71.48456018518519,
         1950,
         84,
         9,
         58,
         27,
         412321.50108000037,
         91.33333333333333,
         0,
         1137,
         0
        ],
        [
         72.211875,
         1976,
         78,
         11,
         50,
         26,
         406492.80901000026,
         85.36842105263158,
         0,
         1093,
         0
        ],
        [
         134.06662037037037,
         1883,
         77,
         21,
         39,
         34,
         395138.0849400002,
         198.875,
         0,
         1101,
         0
        ],
        [
         39.33960648148148,
         107,
         6,
         3,
         1,
         0,
         23151.842989999997,
         87,
         1,
         83,
         0
        ],
        [
         49.152442129629634,
         68,
         4,
         0,
         1,
         5,
         11530.349750000001,
         15.333333333333334,
         0,
         46,
         0
        ],
        [
         71.10780092592593,
         2544,
         111,
         17,
         68,
         53,
         529357.9054200001,
         96.04545454545455,
         0,
         1377,
         0
        ],
        [
         125.62591435185186,
         1288,
         52,
         8,
         38,
         24,
         260526.52036000005,
         52.25,
         1,
         806,
         0
        ],
        [
         138.89282407407407,
         1322,
         54,
         10,
         37,
         14,
         273173.73245999985,
         91.5,
         0,
         824,
         0
        ],
        [
         100.0112962962963,
         48,
         2,
         0,
         0,
         7,
         7079.692970000002,
         14.5,
         1,
         29,
         0
        ],
        [
         71.42444444444445,
         1342,
         72,
         9,
         33,
         12,
         286064.0256400001,
         125,
         1,
         865,
         0
        ],
        [
         72.77818287037037,
         201,
         7,
         1,
         5,
         1,
         38034.0871,
         21.428571428571427,
         0,
         142,
         0
        ],
        [
         145.73800925925926,
         1775,
         90,
         12,
         41,
         26,
         371140.9410000002,
         82.77777777777777,
         0,
         1062,
         1
        ],
        [
         52.76118055555556,
         329,
         14,
         4,
         5,
         9,
         65489.51302000004,
         66,
         0,
         248,
         0
        ],
        [
         124.55060185185185,
         117,
         6,
         1,
         3,
         3,
         19961.03902,
         85,
         1,
         82,
         0
        ],
        [
         49.76208333333333,
         457,
         14,
         7,
         11,
         11,
         94240.35148000003,
         62.833333333333336,
         1,
         334,
         1
        ],
        [
         71.22346064814815,
         2887,
         135,
         25,
         80,
         43,
         601865.151560001,
         109.0909090909091,
         1,
         1557,
         0
        ],
        [
         68.92494212962963,
         957,
         48,
         4,
         27,
         21,
         201775.17455999996,
         101.5,
         1,
         646,
         0
        ],
        [
         56.86383101851852,
         272,
         13,
         2,
         4,
         3,
         53229.90549,
         35.333333333333336,
         0,
         196,
         0
        ],
        [
         65.07229166666666,
         1229,
         46,
         4,
         23,
         8,
         262328.70735000004,
         149.57142857142858,
         1,
         808,
         0
        ],
        [
         60.588310185185186,
         324,
         11,
         3,
         9,
         2,
         62494.42194,
         28.22222222222222,
         1,
         226,
         0
        ],
        [
         76.06190972222223,
         321,
         13,
         2,
         6,
         3,
         63629.99231999999,
         50.2,
         0,
         226,
         0
        ],
        [
         114.99788194444444,
         334,
         16,
         3,
         6,
         5,
         63393.531909999976,
         35.857142857142854,
         1,
         230,
         0
        ],
        [
         58.53869212962963,
         474,
         11,
         4,
         13,
         9,
         89471.02373,
         30.583333333333332,
         1,
         326,
         0
        ],
        [
         98.71303240740741,
         2335,
         94,
         14,
         51,
         23,
         497847.8429099998,
         103.89473684210526,
         0,
         1307,
         0
        ],
        [
         74.40032407407408,
         2049,
         84,
         20,
         53,
         29,
         424932.79106000013,
         106.5625,
         1,
         1173,
         0
        ],
        [
         124.14094907407407,
         1496,
         69,
         10,
         28,
         18,
         307411.16241,
         45.74074074074074,
         0,
         926,
         0
        ],
        [
         52.468148148148146,
         97,
         4,
         0,
         2,
         0,
         18111.52284,
         24.333333333333332,
         1,
         69,
         0
        ],
        [
         109.60453703703705,
         4370,
         192,
         38,
         108,
         58,
         909088.9726899993,
         90.4,
         0,
         2124,
         0
        ],
        [
         135.0992476851852,
         818,
         34,
         8,
         20,
         18,
         159936.6456799999,
         65,
         0,
         543,
         0
        ],
        [
         59.125856481481485,
         1003,
         32,
         5,
         19,
         27,
         193639.95913000012,
         30.68,
         0,
         622,
         1
        ],
        [
         76.18290509259259,
         2465,
         122,
         20,
         58,
         28,
         514221.85814000055,
         78.65384615384616,
         1,
         1358,
         0
        ],
        [
         69.41987268518518,
         801,
         30,
         6,
         12,
         14,
         165790.33922999998,
         133.4,
         0,
         545,
         0
        ],
        [
         60.832430555555554,
         3191,
         118,
         32,
         77,
         40,
         664572.01781,
         89.2,
         0,
         1672,
         0
        ],
        [
         101.98753472222222,
         45,
         0,
         0,
         0,
         0,
         9481.23057,
         9.25,
         0,
         37,
         0
        ],
        [
         116.02526620370371,
         3014,
         124,
         24,
         64,
         42,
         639786.4807500001,
         286.6666666666667,
         0,
         1618,
         0
        ],
        [
         83.52885416666668,
         7230,
         292,
         72,
         181,
         110,
         1491493.2863699999,
         70.77380952380952,
         1,
         2904,
         0
        ],
        [
         71.03246527777777,
         815,
         35,
         4,
         17,
         13,
         157811.98088000005,
         53.333333333333336,
         0,
         509,
         0
        ],
        [
         132.30824074074073,
         187,
         4,
         1,
         3,
         1,
         37408.717459999985,
         24.333333333333332,
         1,
         139,
         0
        ],
        [
         62.26634259259259,
         2091,
         91,
         25,
         46,
         32,
         427135.54533999995,
         54.645161290322584,
         1,
         1153,
         0
        ],
        [
         73.93668981481481,
         2176,
         92,
         24,
         52,
         40,
         452492.3782900005,
         94.84210526315789,
         1,
         1237,
         0
        ],
        [
         87.39342592592594,
         2404,
         108,
         12,
         61,
         32,
         491231.4963499998,
         65.83333333333333,
         1,
         1319,
         0
        ],
        [
         63.40961805555556,
         2891,
         115,
         22,
         58,
         45,
         611701.9774699993,
         85.75,
         0,
         1534,
         0
        ],
        [
         133.00108796296297,
         614,
         27,
         5,
         11,
         12,
         127877.88359000004,
         45.90909090909091,
         1,
         424,
         0
        ]
       ],
       "datasetInfos": [],
       "dbfsResultPath": null,
       "isJsonSchema": true,
       "metadata": {},
       "overflow": false,
       "plotOptions": {
        "customPlotOptions": {},
        "displayType": "table",
        "pivotAggregation": null,
        "pivotColumns": null,
        "xColumns": null,
        "yColumns": null
       },
       "removedWidgets": [],
       "schema": [
        {
         "metadata": "{}",
         "name": "lifetime",
         "type": "\"double\""
        },
        {
         "metadata": "{}",
         "name": "total_songs",
         "type": "\"long\""
        },
        {
         "metadata": "{}",
         "name": "num_thumb_up",
         "type": "\"long\""
        },
        {
         "metadata": "{}",
         "name": "num_thumb_down",
         "type": "\"long\""
        },
        {
         "metadata": "{}",
         "name": "add_to_playlist",
         "type": "\"long\""
        },
        {
         "metadata": "{}",
         "name": "add_friend",
         "type": "\"long\""
        },
        {
         "metadata": "{}",
         "name": "listen_time",
         "type": "\"double\""
        },
        {
         "metadata": "{}",
         "name": "avg_songs_played",
         "type": "\"double\""
        },
        {
         "metadata": "{}",
         "name": "gender",
         "type": "\"integer\""
        },
        {
         "metadata": "{}",
         "name": "artist_count",
         "type": "\"long\""
        },
        {
         "metadata": "{}",
         "name": "label",
         "type": "\"long\""
        }
       ],
       "type": "table"
      }
     },
     "output_type": "display_data"
    }
   ],
   "source": [
    "display(data)"
   ]
  },
  {
   "cell_type": "markdown",
   "metadata": {
    "application/vnd.databricks.v1+cell": {
     "cellMetadata": {},
     "inputWidgets": {},
     "nuid": "b144c1c8-ed45-483a-9647-f7ea1cdb03e6",
     "showTitle": false,
     "title": ""
    }
   },
   "source": [
    "# Modeling\n",
    "Split the full dataset into train, test, and validation sets. Test out several of the machine learning methods you learned. Evaluate the accuracy of the various models, tuning parameters as necessary. Determine your winning model based on test accuracy and report results on the validation set. Since the churned users are a fairly small subset, I suggest using F1 score as the metric to optimize."
   ]
  },
  {
   "cell_type": "markdown",
   "metadata": {
    "application/vnd.databricks.v1+cell": {
     "cellMetadata": {},
     "inputWidgets": {},
     "nuid": "cc96d82d-b91e-41ef-9680-502b2d45ca4e",
     "showTitle": false,
     "title": ""
    }
   },
   "source": [
    "#### Normalizing:"
   ]
  },
  {
   "cell_type": "markdown",
   "metadata": {
    "application/vnd.databricks.v1+cell": {
     "cellMetadata": {},
     "inputWidgets": {},
     "nuid": "f4031cb7-3adc-430c-86e7-03117866952e",
     "showTitle": false,
     "title": ""
    }
   },
   "source": [
    "-  Turn to normalization of our features that will assurance any independent variable alone or few of them would not influence the dependent variable to an extent where other features become redundant."
   ]
  },
  {
   "cell_type": "code",
   "execution_count": null,
   "metadata": {
    "application/vnd.databricks.v1+cell": {
     "cellMetadata": {
      "byteLimit": 2048000,
      "rowLimit": 10000
     },
     "inputWidgets": {},
     "nuid": "88517ecb-19f3-406b-8747-8f4d93aa714c",
     "showTitle": false,
     "title": ""
    }
   },
   "outputs": [
    {
     "data": {
      "text/plain": [
       "\u001b[0;31m---------------------------------------------------------------------------\u001b[0m\n",
       "\u001b[0;31mIllegalArgumentException\u001b[0m                  Traceback (most recent call last)\n",
       "File \u001b[0;32m<command-982729752477018>:4\u001b[0m\n",
       "\u001b[1;32m      2\u001b[0m cols \u001b[38;5;241m=\u001b[39m [\u001b[38;5;124m\"\u001b[39m\u001b[38;5;124mlifetime\u001b[39m\u001b[38;5;124m\"\u001b[39m, \u001b[38;5;124m\"\u001b[39m\u001b[38;5;124mtotal_songs\u001b[39m\u001b[38;5;124m\"\u001b[39m, \u001b[38;5;124m\"\u001b[39m\u001b[38;5;124mnum_thumb_up\u001b[39m\u001b[38;5;124m\"\u001b[39m, \u001b[38;5;124m'\u001b[39m\u001b[38;5;124mnum_thumb_down\u001b[39m\u001b[38;5;124m'\u001b[39m,\u001b[38;5;124m'\u001b[39m\u001b[38;5;124madd_to_playlist\u001b[39m\u001b[38;5;124m'\u001b[39m,\u001b[38;5;124m'\u001b[39m\u001b[38;5;124madd_friend\u001b[39m\u001b[38;5;124m'\u001b[39m,\u001b[38;5;124m'\u001b[39m\u001b[38;5;124mlisten_time\u001b[39m\u001b[38;5;124m'\u001b[39m,\u001b[38;5;124m'\u001b[39m\u001b[38;5;124mavg_songs_played\u001b[39m\u001b[38;5;124m'\u001b[39m,\u001b[38;5;124m'\u001b[39m\u001b[38;5;124mgender\u001b[39m\u001b[38;5;124m'\u001b[39m,\u001b[38;5;124m'\u001b[39m\u001b[38;5;124martist_count\u001b[39m\u001b[38;5;124m'\u001b[39m]\n",
       "\u001b[1;32m      3\u001b[0m assembler \u001b[38;5;241m=\u001b[39m VectorAssembler(inputCols\u001b[38;5;241m=\u001b[39mcols, outputCol\u001b[38;5;241m=\u001b[39m\u001b[38;5;124m\"\u001b[39m\u001b[38;5;124mNumFeatures\u001b[39m\u001b[38;5;124m\"\u001b[39m)\n",
       "\u001b[0;32m----> 4\u001b[0m data \u001b[38;5;241m=\u001b[39m assembler\u001b[38;5;241m.\u001b[39mtransform(data)\n",
       "\n",
       "File \u001b[0;32m/databricks/spark/python/pyspark/ml/base.py:262\u001b[0m, in \u001b[0;36mTransformer.transform\u001b[0;34m(self, dataset, params)\u001b[0m\n",
       "\u001b[1;32m    260\u001b[0m         \u001b[38;5;28;01mreturn\u001b[39;00m \u001b[38;5;28mself\u001b[39m\u001b[38;5;241m.\u001b[39mcopy(params)\u001b[38;5;241m.\u001b[39m_transform(dataset)\n",
       "\u001b[1;32m    261\u001b[0m     \u001b[38;5;28;01melse\u001b[39;00m:\n",
       "\u001b[0;32m--> 262\u001b[0m         \u001b[38;5;28;01mreturn\u001b[39;00m \u001b[38;5;28;43mself\u001b[39;49m\u001b[38;5;241;43m.\u001b[39;49m\u001b[43m_transform\u001b[49m\u001b[43m(\u001b[49m\u001b[43mdataset\u001b[49m\u001b[43m)\u001b[49m\n",
       "\u001b[1;32m    263\u001b[0m \u001b[38;5;28;01melse\u001b[39;00m:\n",
       "\u001b[1;32m    264\u001b[0m     \u001b[38;5;28;01mraise\u001b[39;00m \u001b[38;5;167;01mTypeError\u001b[39;00m(\u001b[38;5;124m\"\u001b[39m\u001b[38;5;124mParams must be a param map but got \u001b[39m\u001b[38;5;132;01m%s\u001b[39;00m\u001b[38;5;124m.\u001b[39m\u001b[38;5;124m\"\u001b[39m \u001b[38;5;241m%\u001b[39m \u001b[38;5;28mtype\u001b[39m(params))\n",
       "\n",
       "File \u001b[0;32m/databricks/spark/python/pyspark/ml/wrapper.py:400\u001b[0m, in \u001b[0;36mJavaTransformer._transform\u001b[0;34m(self, dataset)\u001b[0m\n",
       "\u001b[1;32m    397\u001b[0m \u001b[38;5;28;01massert\u001b[39;00m \u001b[38;5;28mself\u001b[39m\u001b[38;5;241m.\u001b[39m_java_obj \u001b[38;5;129;01mis\u001b[39;00m \u001b[38;5;129;01mnot\u001b[39;00m \u001b[38;5;28;01mNone\u001b[39;00m\n",
       "\u001b[1;32m    399\u001b[0m \u001b[38;5;28mself\u001b[39m\u001b[38;5;241m.\u001b[39m_transfer_params_to_java()\n",
       "\u001b[0;32m--> 400\u001b[0m \u001b[38;5;28;01mreturn\u001b[39;00m DataFrame(\u001b[38;5;28;43mself\u001b[39;49m\u001b[38;5;241;43m.\u001b[39;49m\u001b[43m_java_obj\u001b[49m\u001b[38;5;241;43m.\u001b[39;49m\u001b[43mtransform\u001b[49m\u001b[43m(\u001b[49m\u001b[43mdataset\u001b[49m\u001b[38;5;241;43m.\u001b[39;49m\u001b[43m_jdf\u001b[49m\u001b[43m)\u001b[49m, dataset\u001b[38;5;241m.\u001b[39msparkSession)\n",
       "\n",
       "File \u001b[0;32m/databricks/spark/python/lib/py4j-0.10.9.5-src.zip/py4j/java_gateway.py:1321\u001b[0m, in \u001b[0;36mJavaMember.__call__\u001b[0;34m(self, *args)\u001b[0m\n",
       "\u001b[1;32m   1315\u001b[0m command \u001b[38;5;241m=\u001b[39m proto\u001b[38;5;241m.\u001b[39mCALL_COMMAND_NAME \u001b[38;5;241m+\u001b[39m\\\n",
       "\u001b[1;32m   1316\u001b[0m     \u001b[38;5;28mself\u001b[39m\u001b[38;5;241m.\u001b[39mcommand_header \u001b[38;5;241m+\u001b[39m\\\n",
       "\u001b[1;32m   1317\u001b[0m     args_command \u001b[38;5;241m+\u001b[39m\\\n",
       "\u001b[1;32m   1318\u001b[0m     proto\u001b[38;5;241m.\u001b[39mEND_COMMAND_PART\n",
       "\u001b[1;32m   1320\u001b[0m answer \u001b[38;5;241m=\u001b[39m \u001b[38;5;28mself\u001b[39m\u001b[38;5;241m.\u001b[39mgateway_client\u001b[38;5;241m.\u001b[39msend_command(command)\n",
       "\u001b[0;32m-> 1321\u001b[0m return_value \u001b[38;5;241m=\u001b[39m \u001b[43mget_return_value\u001b[49m\u001b[43m(\u001b[49m\n",
       "\u001b[1;32m   1322\u001b[0m \u001b[43m    \u001b[49m\u001b[43manswer\u001b[49m\u001b[43m,\u001b[49m\u001b[43m \u001b[49m\u001b[38;5;28;43mself\u001b[39;49m\u001b[38;5;241;43m.\u001b[39;49m\u001b[43mgateway_client\u001b[49m\u001b[43m,\u001b[49m\u001b[43m \u001b[49m\u001b[38;5;28;43mself\u001b[39;49m\u001b[38;5;241;43m.\u001b[39;49m\u001b[43mtarget_id\u001b[49m\u001b[43m,\u001b[49m\u001b[43m \u001b[49m\u001b[38;5;28;43mself\u001b[39;49m\u001b[38;5;241;43m.\u001b[39;49m\u001b[43mname\u001b[49m\u001b[43m)\u001b[49m\n",
       "\u001b[1;32m   1324\u001b[0m \u001b[38;5;28;01mfor\u001b[39;00m temp_arg \u001b[38;5;129;01min\u001b[39;00m temp_args:\n",
       "\u001b[1;32m   1325\u001b[0m     temp_arg\u001b[38;5;241m.\u001b[39m_detach()\n",
       "\n",
       "File \u001b[0;32m/databricks/spark/python/pyspark/errors/exceptions.py:234\u001b[0m, in \u001b[0;36mcapture_sql_exception.<locals>.deco\u001b[0;34m(*a, **kw)\u001b[0m\n",
       "\u001b[1;32m    230\u001b[0m converted \u001b[38;5;241m=\u001b[39m convert_exception(e\u001b[38;5;241m.\u001b[39mjava_exception)\n",
       "\u001b[1;32m    231\u001b[0m \u001b[38;5;28;01mif\u001b[39;00m \u001b[38;5;129;01mnot\u001b[39;00m \u001b[38;5;28misinstance\u001b[39m(converted, UnknownException):\n",
       "\u001b[1;32m    232\u001b[0m     \u001b[38;5;66;03m# Hide where the exception came from that shows a non-Pythonic\u001b[39;00m\n",
       "\u001b[1;32m    233\u001b[0m     \u001b[38;5;66;03m# JVM exception message.\u001b[39;00m\n",
       "\u001b[0;32m--> 234\u001b[0m     \u001b[38;5;28;01mraise\u001b[39;00m converted \u001b[38;5;28;01mfrom\u001b[39;00m \u001b[38;5;28mNone\u001b[39m\n",
       "\u001b[1;32m    235\u001b[0m \u001b[38;5;28;01melse\u001b[39;00m:\n",
       "\u001b[1;32m    236\u001b[0m     \u001b[38;5;28;01mraise\u001b[39;00m\n",
       "\n",
       "\u001b[0;31mIllegalArgumentException\u001b[0m: Output column NumFeatures already exists."
      ]
     },
     "metadata": {
      "application/vnd.databricks.v1+output": {
       "arguments": {},
       "data": "\u001b[0;31m---------------------------------------------------------------------------\u001b[0m\n\u001b[0;31mIllegalArgumentException\u001b[0m                  Traceback (most recent call last)\nFile \u001b[0;32m<command-982729752477018>:4\u001b[0m\n\u001b[1;32m      2\u001b[0m cols \u001b[38;5;241m=\u001b[39m [\u001b[38;5;124m\"\u001b[39m\u001b[38;5;124mlifetime\u001b[39m\u001b[38;5;124m\"\u001b[39m, \u001b[38;5;124m\"\u001b[39m\u001b[38;5;124mtotal_songs\u001b[39m\u001b[38;5;124m\"\u001b[39m, \u001b[38;5;124m\"\u001b[39m\u001b[38;5;124mnum_thumb_up\u001b[39m\u001b[38;5;124m\"\u001b[39m, \u001b[38;5;124m'\u001b[39m\u001b[38;5;124mnum_thumb_down\u001b[39m\u001b[38;5;124m'\u001b[39m,\u001b[38;5;124m'\u001b[39m\u001b[38;5;124madd_to_playlist\u001b[39m\u001b[38;5;124m'\u001b[39m,\u001b[38;5;124m'\u001b[39m\u001b[38;5;124madd_friend\u001b[39m\u001b[38;5;124m'\u001b[39m,\u001b[38;5;124m'\u001b[39m\u001b[38;5;124mlisten_time\u001b[39m\u001b[38;5;124m'\u001b[39m,\u001b[38;5;124m'\u001b[39m\u001b[38;5;124mavg_songs_played\u001b[39m\u001b[38;5;124m'\u001b[39m,\u001b[38;5;124m'\u001b[39m\u001b[38;5;124mgender\u001b[39m\u001b[38;5;124m'\u001b[39m,\u001b[38;5;124m'\u001b[39m\u001b[38;5;124martist_count\u001b[39m\u001b[38;5;124m'\u001b[39m]\n\u001b[1;32m      3\u001b[0m assembler \u001b[38;5;241m=\u001b[39m VectorAssembler(inputCols\u001b[38;5;241m=\u001b[39mcols, outputCol\u001b[38;5;241m=\u001b[39m\u001b[38;5;124m\"\u001b[39m\u001b[38;5;124mNumFeatures\u001b[39m\u001b[38;5;124m\"\u001b[39m)\n\u001b[0;32m----> 4\u001b[0m data \u001b[38;5;241m=\u001b[39m assembler\u001b[38;5;241m.\u001b[39mtransform(data)\n\nFile \u001b[0;32m/databricks/spark/python/pyspark/ml/base.py:262\u001b[0m, in \u001b[0;36mTransformer.transform\u001b[0;34m(self, dataset, params)\u001b[0m\n\u001b[1;32m    260\u001b[0m         \u001b[38;5;28;01mreturn\u001b[39;00m \u001b[38;5;28mself\u001b[39m\u001b[38;5;241m.\u001b[39mcopy(params)\u001b[38;5;241m.\u001b[39m_transform(dataset)\n\u001b[1;32m    261\u001b[0m     \u001b[38;5;28;01melse\u001b[39;00m:\n\u001b[0;32m--> 262\u001b[0m         \u001b[38;5;28;01mreturn\u001b[39;00m \u001b[38;5;28;43mself\u001b[39;49m\u001b[38;5;241;43m.\u001b[39;49m\u001b[43m_transform\u001b[49m\u001b[43m(\u001b[49m\u001b[43mdataset\u001b[49m\u001b[43m)\u001b[49m\n\u001b[1;32m    263\u001b[0m \u001b[38;5;28;01melse\u001b[39;00m:\n\u001b[1;32m    264\u001b[0m     \u001b[38;5;28;01mraise\u001b[39;00m \u001b[38;5;167;01mTypeError\u001b[39;00m(\u001b[38;5;124m\"\u001b[39m\u001b[38;5;124mParams must be a param map but got \u001b[39m\u001b[38;5;132;01m%s\u001b[39;00m\u001b[38;5;124m.\u001b[39m\u001b[38;5;124m\"\u001b[39m \u001b[38;5;241m%\u001b[39m \u001b[38;5;28mtype\u001b[39m(params))\n\nFile \u001b[0;32m/databricks/spark/python/pyspark/ml/wrapper.py:400\u001b[0m, in \u001b[0;36mJavaTransformer._transform\u001b[0;34m(self, dataset)\u001b[0m\n\u001b[1;32m    397\u001b[0m \u001b[38;5;28;01massert\u001b[39;00m \u001b[38;5;28mself\u001b[39m\u001b[38;5;241m.\u001b[39m_java_obj \u001b[38;5;129;01mis\u001b[39;00m \u001b[38;5;129;01mnot\u001b[39;00m \u001b[38;5;28;01mNone\u001b[39;00m\n\u001b[1;32m    399\u001b[0m \u001b[38;5;28mself\u001b[39m\u001b[38;5;241m.\u001b[39m_transfer_params_to_java()\n\u001b[0;32m--> 400\u001b[0m \u001b[38;5;28;01mreturn\u001b[39;00m DataFrame(\u001b[38;5;28;43mself\u001b[39;49m\u001b[38;5;241;43m.\u001b[39;49m\u001b[43m_java_obj\u001b[49m\u001b[38;5;241;43m.\u001b[39;49m\u001b[43mtransform\u001b[49m\u001b[43m(\u001b[49m\u001b[43mdataset\u001b[49m\u001b[38;5;241;43m.\u001b[39;49m\u001b[43m_jdf\u001b[49m\u001b[43m)\u001b[49m, dataset\u001b[38;5;241m.\u001b[39msparkSession)\n\nFile \u001b[0;32m/databricks/spark/python/lib/py4j-0.10.9.5-src.zip/py4j/java_gateway.py:1321\u001b[0m, in \u001b[0;36mJavaMember.__call__\u001b[0;34m(self, *args)\u001b[0m\n\u001b[1;32m   1315\u001b[0m command \u001b[38;5;241m=\u001b[39m proto\u001b[38;5;241m.\u001b[39mCALL_COMMAND_NAME \u001b[38;5;241m+\u001b[39m\\\n\u001b[1;32m   1316\u001b[0m     \u001b[38;5;28mself\u001b[39m\u001b[38;5;241m.\u001b[39mcommand_header \u001b[38;5;241m+\u001b[39m\\\n\u001b[1;32m   1317\u001b[0m     args_command \u001b[38;5;241m+\u001b[39m\\\n\u001b[1;32m   1318\u001b[0m     proto\u001b[38;5;241m.\u001b[39mEND_COMMAND_PART\n\u001b[1;32m   1320\u001b[0m answer \u001b[38;5;241m=\u001b[39m \u001b[38;5;28mself\u001b[39m\u001b[38;5;241m.\u001b[39mgateway_client\u001b[38;5;241m.\u001b[39msend_command(command)\n\u001b[0;32m-> 1321\u001b[0m return_value \u001b[38;5;241m=\u001b[39m \u001b[43mget_return_value\u001b[49m\u001b[43m(\u001b[49m\n\u001b[1;32m   1322\u001b[0m \u001b[43m    \u001b[49m\u001b[43manswer\u001b[49m\u001b[43m,\u001b[49m\u001b[43m \u001b[49m\u001b[38;5;28;43mself\u001b[39;49m\u001b[38;5;241;43m.\u001b[39;49m\u001b[43mgateway_client\u001b[49m\u001b[43m,\u001b[49m\u001b[43m \u001b[49m\u001b[38;5;28;43mself\u001b[39;49m\u001b[38;5;241;43m.\u001b[39;49m\u001b[43mtarget_id\u001b[49m\u001b[43m,\u001b[49m\u001b[43m \u001b[49m\u001b[38;5;28;43mself\u001b[39;49m\u001b[38;5;241;43m.\u001b[39;49m\u001b[43mname\u001b[49m\u001b[43m)\u001b[49m\n\u001b[1;32m   1324\u001b[0m \u001b[38;5;28;01mfor\u001b[39;00m temp_arg \u001b[38;5;129;01min\u001b[39;00m temp_args:\n\u001b[1;32m   1325\u001b[0m     temp_arg\u001b[38;5;241m.\u001b[39m_detach()\n\nFile \u001b[0;32m/databricks/spark/python/pyspark/errors/exceptions.py:234\u001b[0m, in \u001b[0;36mcapture_sql_exception.<locals>.deco\u001b[0;34m(*a, **kw)\u001b[0m\n\u001b[1;32m    230\u001b[0m converted \u001b[38;5;241m=\u001b[39m convert_exception(e\u001b[38;5;241m.\u001b[39mjava_exception)\n\u001b[1;32m    231\u001b[0m \u001b[38;5;28;01mif\u001b[39;00m \u001b[38;5;129;01mnot\u001b[39;00m \u001b[38;5;28misinstance\u001b[39m(converted, UnknownException):\n\u001b[1;32m    232\u001b[0m     \u001b[38;5;66;03m# Hide where the exception came from that shows a non-Pythonic\u001b[39;00m\n\u001b[1;32m    233\u001b[0m     \u001b[38;5;66;03m# JVM exception message.\u001b[39;00m\n\u001b[0;32m--> 234\u001b[0m     \u001b[38;5;28;01mraise\u001b[39;00m converted \u001b[38;5;28;01mfrom\u001b[39;00m \u001b[38;5;28mNone\u001b[39m\n\u001b[1;32m    235\u001b[0m \u001b[38;5;28;01melse\u001b[39;00m:\n\u001b[1;32m    236\u001b[0m     \u001b[38;5;28;01mraise\u001b[39;00m\n\n\u001b[0;31mIllegalArgumentException\u001b[0m: Output column NumFeatures already exists.",
       "errorSummary": "<span class='ansi-red-fg'>IllegalArgumentException</span>: Output column NumFeatures already exists.",
       "errorTraceType": "ansi",
       "metadata": {},
       "type": "ipynbError"
      }
     },
     "output_type": "display_data"
    }
   ],
   "source": [
    "# Vector assembler\n",
    "cols = [\"lifetime\", \"total_songs\", \"num_thumb_up\", 'num_thumb_down','add_to_playlist','add_friend','listen_time','avg_songs_played','gender','artist_count']\n",
    "assembler = VectorAssembler(inputCols=cols, outputCol=\"NumFeatures\")\n",
    "data = assembler.transform(data)"
   ]
  },
  {
   "cell_type": "markdown",
   "metadata": {
    "application/vnd.databricks.v1+cell": {
     "cellMetadata": {},
     "inputWidgets": {},
     "nuid": "c82d4599-82b0-4e5b-9afd-22d91a210f02",
     "showTitle": false,
     "title": ""
    }
   },
   "source": [
    "#### Scaling:\n",
    "- Substract the mean of each feature from every value of that feature and then divide it by standard deviation of each feature using withStd = True"
   ]
  },
  {
   "cell_type": "code",
   "execution_count": null,
   "metadata": {
    "application/vnd.databricks.v1+cell": {
     "cellMetadata": {
      "byteLimit": 2048000,
      "rowLimit": 10000
     },
     "inputWidgets": {},
     "nuid": "9ff880b6-c5b7-481e-b10c-55bfb88141fd",
     "showTitle": false,
     "title": ""
    }
   },
   "outputs": [],
   "source": [
    "# standard scaler\n",
    "from pyspark.ml.feature import StandardScaler\n",
    "scaler = StandardScaler(inputCol=\"NumFeatures\",outputCol=\"features\", withStd=True)\n",
    "scalerModel = scaler.fit(data)\n",
    "data = scalerModel.transform(data)"
   ]
  },
  {
   "cell_type": "markdown",
   "metadata": {
    "application/vnd.databricks.v1+cell": {
     "cellMetadata": {},
     "inputWidgets": {},
     "nuid": "90f0de0b-7b9a-43aa-9201-15e8495eb0c0",
     "showTitle": false,
     "title": ""
    }
   },
   "source": [
    "#### Train - Validation — Test Dataset Split\n",
    " - Take 70% for TrainData\n",
    " - Take 18% for Validation\n",
    " - Take 12% for Test\n",
    "\n",
    " ** Note ** \n",
    " The seed=42 parameter of randomSplit() ensures that same pseudorandom number is generated every-time by preserving the copy of first time generated pseudo number."
   ]
  },
  {
   "cell_type": "code",
   "execution_count": null,
   "metadata": {
    "application/vnd.databricks.v1+cell": {
     "cellMetadata": {
      "byteLimit": 2048000,
      "rowLimit": 10000
     },
     "inputWidgets": {},
     "nuid": "8dcd0405-dbe4-45cc-b649-8108ed960c93",
     "showTitle": false,
     "title": ""
    }
   },
   "outputs": [],
   "source": [
    "# train test split\n",
    "train, rest = data.randomSplit([0.7, 0.3], seed=42)\n",
    "validation, test = rest.randomSplit([0.6, 0.4], seed=42)"
   ]
  },
  {
   "cell_type": "markdown",
   "metadata": {
    "application/vnd.databricks.v1+cell": {
     "cellMetadata": {},
     "inputWidgets": {},
     "nuid": "016c18ce-8f78-4272-b372-acf98c1fbc7c",
     "showTitle": false,
     "title": ""
    }
   },
   "source": [
    "## Base Model \n",
    "##### using MulticlassClassificationEvaluator to mesures how 0 label and 1 label are performing"
   ]
  },
  {
   "cell_type": "code",
   "execution_count": null,
   "metadata": {
    "application/vnd.databricks.v1+cell": {
     "cellMetadata": {
      "byteLimit": 2048000,
      "rowLimit": 10000
     },
     "inputWidgets": {},
     "nuid": "a57d7eff-3c12-45fd-8d2a-1d4afb359ddf",
     "showTitle": false,
     "title": ""
    }
   },
   "outputs": [
    {
     "name": "stdout",
     "output_type": "stream",
     "text": [
      "Accuracy: 0.75\n",
      "F1 Score:0.6428571428571428\n"
     ]
    }
   ],
   "source": [
    "# Mesure label 0\n",
    "from pyspark.ml.evaluation import MulticlassClassificationEvaluator\n",
    "from pyspark.sql.functions import lit\n",
    "\n",
    "# Take the test dataset and create prediction column and filled with all 0 to test with the evaluator\n",
    "test_set_base_0 = test.withColumn('prediction', lit(0.0))\n",
    "evaluator = MulticlassClassificationEvaluator(predictionCol=\"prediction\")\n",
    "\n",
    "# Evaluate the dataset based all 0 for accuracy and f1 score\n",
    "print('Accuracy: {}'.format(evaluator.evaluate(test_set_base_0, {evaluator.metricName: \"accuracy\"})))\n",
    "print('F1 Score:{}'.format(evaluator.evaluate(test_set_base_0, {evaluator.metricName: \"f1\"})))"
   ]
  },
  {
   "cell_type": "code",
   "execution_count": null,
   "metadata": {
    "application/vnd.databricks.v1+cell": {
     "cellMetadata": {
      "byteLimit": 2048000,
      "rowLimit": 10000
     },
     "inputWidgets": {},
     "nuid": "0d3a6736-9ac7-466c-91ff-473703f88269",
     "showTitle": false,
     "title": ""
    }
   },
   "outputs": [
    {
     "name": "stdout",
     "output_type": "stream",
     "text": [
      "Accuracy: 0.25\n",
      "F1 Score:0.1\n"
     ]
    }
   ],
   "source": [
    "# Mesure label 1\n",
    "# Take the test dataset and create prediction column and filled with all 0 to test with the evaluator\n",
    "test_set_base_1 = test.withColumn('prediction', lit(1.0))\n",
    "evaluator = MulticlassClassificationEvaluator(predictionCol=\"prediction\")\n",
    "\n",
    "# Evaluate the dataset based all 1 for accuracy and f1 score\n",
    "print('Accuracy: {}'.format(evaluator.evaluate(test_set_base_1, {evaluator.metricName: \"accuracy\"})))\n",
    "print('F1 Score:{}'.format(evaluator.evaluate(test_set_base_1, {evaluator.metricName: \"f1\"})))"
   ]
  },
  {
   "cell_type": "markdown",
   "metadata": {
    "application/vnd.databricks.v1+cell": {
     "cellMetadata": {},
     "inputWidgets": {},
     "nuid": "38097be5-ffaf-40d3-bb1c-a6ff7edaa2cd",
     "showTitle": false,
     "title": ""
    }
   },
   "source": [
    "## Logistic Regression Model"
   ]
  },
  {
   "cell_type": "markdown",
   "metadata": {
    "application/vnd.databricks.v1+cell": {
     "cellMetadata": {},
     "inputWidgets": {},
     "nuid": "1f58fac1-47e5-43e3-b4ed-f0ee8c0f1c26",
     "showTitle": false,
     "title": ""
    }
   },
   "source": [
    "#### Initialize necessary values"
   ]
  },
  {
   "cell_type": "code",
   "execution_count": null,
   "metadata": {
    "application/vnd.databricks.v1+cell": {
     "cellMetadata": {
      "byteLimit": 2048000,
      "rowLimit": 10000
     },
     "inputWidgets": {},
     "nuid": "4ab7f393-b39b-4c44-b595-a7926b419526",
     "showTitle": false,
     "title": ""
    }
   },
   "outputs": [],
   "source": [
    "# initialize classifier\n",
    "lr = LogisticRegression(maxIter=10)\n",
    "\n",
    "# set evaluator\n",
    "f1_evaluator = MulticlassClassificationEvaluator(metricName='f1')   # Based on f1 score\n",
    "\n",
    "# build empty paramGrid\n",
    "paramGrid = ParamGridBuilder().build()\n",
    "crossval_lr = CrossValidator(estimator=lr, evaluator=f1_evaluator, estimatorParamMaps=paramGrid, numFolds=3) # data will be split into three folds during cross-validation (numFolds=3)"
   ]
  },
  {
   "cell_type": "code",
   "execution_count": null,
   "metadata": {
    "application/vnd.databricks.v1+cell": {
     "cellMetadata": {
      "byteLimit": 2048000,
      "rowLimit": 10000
     },
     "inputWidgets": {},
     "nuid": "324523b0-1b61-4654-8fac-d70dde5962f8",
     "showTitle": false,
     "title": ""
    }
   },
   "outputs": [
    {
     "name": "stdout",
     "output_type": "stream",
     "text": [
      "Logistic Regression Metrics:\n",
      "Accuracy: 0.7\n",
      "F-1 Score:0.6048237476808906\n"
     ]
    }
   ],
   "source": [
    "# Fit data to crossval_lr\n",
    "FittedModel_lr = crossval_lr.fit(train)\n",
    "\n",
    "# Take the List of result metrics \n",
    "FittedModel_lr.avgMetrics\n",
    "\n",
    "# Transform the data and collect the result\n",
    "results_lr = FittedModel_lr.transform(validation)\n",
    "\n",
    "# Evaluate the data\n",
    "evaluator = MulticlassClassificationEvaluator(predictionCol=\"prediction\")\n",
    "\n",
    "print('Logistic Regression Metrics Result')\n",
    "print('Accuracy: {}'.format(evaluator.evaluate(results_lr, {evaluator.metricName: \"accuracy\"})))\n",
    "print('F1 Score:{}'.format(evaluator.evaluate(results_lr, {evaluator.metricName: \"f1\"})))"
   ]
  },
  {
   "cell_type": "markdown",
   "metadata": {
    "application/vnd.databricks.v1+cell": {
     "cellMetadata": {},
     "inputWidgets": {},
     "nuid": "655f6a97-4c67-426a-93cc-dc2359d41d90",
     "showTitle": false,
     "title": ""
    }
   },
   "source": [
    "## Gradient Boosted Tree"
   ]
  },
  {
   "cell_type": "markdown",
   "metadata": {
    "application/vnd.databricks.v1+cell": {
     "cellMetadata": {},
     "inputWidgets": {},
     "nuid": "e5c3e00f-800f-4e7a-9dd1-967563374844",
     "showTitle": false,
     "title": ""
    }
   },
   "source": [
    "#### Initialize necessary values"
   ]
  },
  {
   "cell_type": "code",
   "execution_count": null,
   "metadata": {
    "application/vnd.databricks.v1+cell": {
     "cellMetadata": {
      "byteLimit": 2048000,
      "rowLimit": 10000
     },
     "inputWidgets": {},
     "nuid": "f4ec0eed-12d9-4512-96cf-32a447a7403c",
     "showTitle": false,
     "title": ""
    }
   },
   "outputs": [],
   "source": [
    "# initialize classifier\n",
    "GradBoostTree = GBTClassifier(maxIter=5,seed=42)\n",
    "# set evaluator\n",
    "f1_evaluator = MulticlassClassificationEvaluator(metricName='f1') # f1 score\n",
    "# build paramGrid\n",
    "paramGrid = ParamGridBuilder().build()\n",
    "crossval_GradBoostTree = CrossValidator(estimator=GradBoostTree, estimatorParamMaps=paramGrid, evaluator=f1_evaluator, numFolds=5)"
   ]
  },
  {
   "cell_type": "code",
   "execution_count": null,
   "metadata": {
    "application/vnd.databricks.v1+cell": {
     "cellMetadata": {
      "byteLimit": 2048000,
      "rowLimit": 10000
     },
     "inputWidgets": {},
     "nuid": "b5ff0001-a64f-4ef9-a546-395c23b0568d",
     "showTitle": false,
     "title": ""
    }
   },
   "outputs": [
    {
     "name": "stdout",
     "output_type": "stream",
     "text": [
      "Gradient Boosted Trees Metrics:\n",
      "Accuracy: 0.6\n",
      "F1 Score:0.5681818181818181\n"
     ]
    }
   ],
   "source": [
    "# Fit data to crossval_GradBoostTree\n",
    "FittedModel_GradBoostTree = crossval_GradBoostTree.fit(train)\n",
    "\n",
    "# Take the List of result metrics \n",
    "FittedModel_GradBoostTree.avgMetrics\n",
    "\n",
    "# Transform the data and collect the result\n",
    "results_GradBoostTree = FittedModel_GradBoostTree.transform(validation)\n",
    "\n",
    "# Evaluate the data\n",
    "evaluator = MulticlassClassificationEvaluator(predictionCol=\"prediction\")\n",
    "\n",
    "print('Gradient Boosted Trees Metrics:')\n",
    "print('Accuracy: {}'.format(evaluator.evaluate(results_GradBoostTree, {evaluator.metricName: \"accuracy\"})))\n",
    "print('F1 Score:{}'.format(evaluator.evaluate(results_GradBoostTree, {evaluator.metricName: \"f1\"})))"
   ]
  },
  {
   "cell_type": "markdown",
   "metadata": {
    "application/vnd.databricks.v1+cell": {
     "cellMetadata": {},
     "inputWidgets": {},
     "nuid": "ab1c4f58-1858-4517-ae0c-b516fcec8373",
     "showTitle": false,
     "title": ""
    }
   },
   "source": [
    "## Test Deployment & Hyperparameter Tuning"
   ]
  },
  {
   "cell_type": "code",
   "execution_count": null,
   "metadata": {
    "application/vnd.databricks.v1+cell": {
     "cellMetadata": {
      "byteLimit": 2048000,
      "rowLimit": 10000
     },
     "inputWidgets": {},
     "nuid": "fc6c7d44-295b-4278-947a-8c4106d2dc73",
     "showTitle": false,
     "title": ""
    }
   },
   "outputs": [],
   "source": [
    "f1_evaluator = MulticlassClassificationEvaluator(metricName='f1')\n",
    "lr = LogisticRegression()\n",
    "\n",
    "paramGrid = ParamGridBuilder().addGrid(lr.maxIter, [10,12]).addGrid(lr.regParam, [0,0.1]).addGrid(lr.elasticNetParam, [0.001,0.01]).build()\n",
    "\n",
    "lr_cv = CrossValidator(estimator=lr, estimatorParamMaps=paramGrid,evaluator=f1_evaluator, numFolds=3)"
   ]
  },
  {
   "cell_type": "code",
   "execution_count": null,
   "metadata": {
    "application/vnd.databricks.v1+cell": {
     "cellMetadata": {
      "byteLimit": 2048000,
      "rowLimit": 10000
     },
     "inputWidgets": {},
     "nuid": "5c5f1a4d-cb45-447b-aee0-29d753ad63ff",
     "showTitle": false,
     "title": ""
    }
   },
   "outputs": [
    {
     "name": "stdout",
     "output_type": "stream",
     "text": [
      "Test set metrics:\n",
      "Accuracy: 0.78125\n",
      "F-1 Score:0.741852487135506\n"
     ]
    }
   ],
   "source": [
    "lrModel = lr_cv.fit(train)\n",
    "bestModel = lrModel.bestModel\n",
    "results_final = bestModel.transform(test)\n",
    "evaluator = MulticlassClassificationEvaluator(predictionCol=\"prediction\")\n",
    "print('Test set metrics:') \n",
    "print('Accuracy: {}'.format(evaluator.evaluate(results_final, {evaluator.metricName: \"accuracy\"})))\n",
    "print('F-1 Score:{}'.format(evaluator.evaluate(results_final, {evaluator.metricName: \"f1\"})))"
   ]
  },
  {
   "cell_type": "code",
   "execution_count": null,
   "metadata": {
    "application/vnd.databricks.v1+cell": {
     "cellMetadata": {
      "byteLimit": 2048000,
      "rowLimit": 10000
     },
     "inputWidgets": {},
     "nuid": "0bd7e589-283b-4f1a-8a31-4f226e3042b5",
     "showTitle": false,
     "title": ""
    }
   },
   "outputs": [
    {
     "data": {
      "image/png": "[encoded data removed]"
     },
     "metadata": {
      "application/vnd.databricks.v1+output": {
       "addedWidgets": {},
       "arguments": {},
       "data": "data:image/png;base64,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\n",
       "datasetInfos": [],
       "metadata": {},
       "removedWidgets": [],
       "type": "image"
      }
     },
     "output_type": "display_data"
    },
    {
     "name": "stdout",
     "output_type": "stream",
     "text": [
      "Feature Importances:\n",
      "lifetime: 0.8869283166754653\n",
      "TotalSongs: 0.5263335249712722\n",
      "Thumbsup: 0.2637792562253803\n",
      "ThumbsDown: 0.7113069882761516\n",
      "PlaylistAdd: 0.280227366787711\n",
      "FriendAdd: 2.3281389788995943\n",
      "ListeningTime: 0.22512421092172308\n",
      "AvgSongsPlay: 0.10008238735179366\n",
      "Gender: 0.02210301307202979\n",
      "NumofArtists: 0.2955938882996465\n"
     ]
    }
   ],
   "source": [
    "import matplotlib.pyplot as plt\n",
    "\n",
    "def calculate_feature_importances(coefficients, feature_names):\n",
    "    feat_imp = [0 - x if x < 0 else x for x in coefficients]\n",
    "    feature_importances = list(zip(feature_names, feat_imp))\n",
    "    return feat_imp, feature_importances\n",
    "\n",
    "feat_imp, feature_importances = calculate_feature_importances(bestModel.coefficients, cols)\n",
    "\n",
    "# Plotting the vertical bar chart\n",
    "plt.bar(cols, feat_imp, align='center')\n",
    "plt.xlabel('Features')\n",
    "plt.ylabel('Importance Score')\n",
    "plt.title('Feature Importances')\n",
    "\n",
    "plt.xticks(rotation=45) # Rotate to Vertical bar chart\n",
    "plt.tight_layout()\n",
    "plt.show()\n"
   ]
  },
  {
   "cell_type": "code",
   "execution_count": null,
   "metadata": {
    "application/vnd.databricks.v1+cell": {
     "cellMetadata": {
      "byteLimit": 2048000,
      "rowLimit": 10000
     },
     "inputWidgets": {},
     "nuid": "6ef19540-3d97-43e5-a880-3729998510bc",
     "showTitle": false,
     "title": ""
    }
   },
   "outputs": [
    {
     "name": "stdout",
     "output_type": "stream",
     "text": [
      "Feature Importances:\n",
      "lifetime: 0.8869283166754653\n",
      "TotalSongs: 0.5263335249712722\n",
      "Thumbsup: 0.2637792562253803\n",
      "ThumbsDown: 0.7113069882761516\n",
      "PlaylistAdd: 0.280227366787711\n",
      "FriendAdd: 2.3281389788995943\n",
      "ListeningTime: 0.22512421092172308\n",
      "AvgSongsPlay: 0.10008238735179366\n",
      "Gender: 0.02210301307202979\n",
      "NumofArtists: 0.2955938882996465\n"
     ]
    }
   ],
   "source": [
    "# Printing the table of feature importances\n",
    "print('Feature Importances:')\n",
    "for feature, importance in feature_importances:\n",
    "    print(f'{feature}: {importance}')"
   ]
  },
  {
   "cell_type": "code",
   "execution_count": null,
   "metadata": {
    "application/vnd.databricks.v1+cell": {
     "cellMetadata": {},
     "inputWidgets": {},
     "nuid": "0472441e-349b-4f2b-a3c8-ab0a57dff3e6",
     "showTitle": false,
     "title": ""
    }
   },
   "outputs": [],
   "source": []
  }
 ],
 "metadata": {
  "application/vnd.databricks.v1+notebook": {
   "dashboards": [],
   "language": "python",
   "notebookMetadata": {
    "pythonIndentUnit": 4
   },
   "notebookName": "FinalProjectStarted",
   "widgets": {}
  },
  "language_info": {
   "name": "python"
  }
 },
 "nbformat": 4,
 "nbformat_minor": 0
}
